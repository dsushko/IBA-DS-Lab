{
 "cells": [
  {
   "cell_type": "markdown",
   "id": "3240e73b-02b7-4462-b266-971904541f2b",
   "metadata": {},
   "source": [
    "# Retrieving information with `telethon`\n",
    "## by Alexander Zhamoydin"
   ]
  },
  {
   "cell_type": "markdown",
   "id": "68a2520f-2953-4fe9-94a9-b39b7b458381",
   "metadata": {},
   "source": [
    "Hello everyone, in this tutorial we are going to scrape some information from **Telegram** with the help of `telethon` package. See <a href=\"https://docs.telethon.dev/en/latest/\">Documentation<a>"
   ]
  },
  {
   "cell_type": "markdown",
   "id": "6a9c2df3-8017-4e0e-a3c5-4e8b5720b273",
   "metadata": {},
   "source": [
    "## Preparation"
   ]
  },
  {
   "cell_type": "markdown",
   "id": "5c707843-7faa-424a-9963-142ed3a3c5ea",
   "metadata": {},
   "source": [
    "Before we begin, you have to create a telegram app - we need `api_id` and `api_hash` to be able to use telegarm API. Here are the steps you should follow:"
   ]
  },
  {
   "cell_type": "markdown",
   "id": "dc218231-ecd6-4a10-9644-5f02605f0d2f",
   "metadata": {},
   "source": [
    "- Visit this link - https://my.telegram.org/auth?to=apps and enter your phone number - you will then recieve a confirmation code"
   ]
  },
  {
   "cell_type": "markdown",
   "id": "4c775e23-1a96-45ad-90ab-34db406ab0bd",
   "metadata": {
    "tags": []
   },
   "source": [
    "- After you recieve and enter your code, you have to give your app a name, choose type and create description\n",
    "    You will see something like this:\n",
    "    <img src=\"https://media.proglib.io/posts/2019/11/02/978bb3286b84b1b487f0a0c6afc0398b.png\">"
   ]
  },
  {
   "cell_type": "markdown",
   "id": "a7b454d5-a41f-47a5-ba30-55ee6db98e53",
   "metadata": {},
   "source": [
    "- After clicking `Create application` telegram wil generate and show you your `App api_id` and `App api_hash`. Copy them and assign to corresponding variables.\n",
    "    Also add your username here"
   ]
  },
  {
   "cell_type": "code",
   "execution_count": null,
   "id": "7301033f-0014-40a0-80f0-cc839123f37b",
   "metadata": {},
   "outputs": [],
   "source": [
    "API_ID = \"YOUR_API_HERE\"\n",
    "API_HASH = \"YOUR_HASH_HERE\"\n",
    "USERNAME = \"YOUR_USERNAME_HERE\""
   ]
  },
  {
   "cell_type": "markdown",
   "id": "25a27d07-142d-48b9-a396-423856635c05",
   "metadata": {},
   "source": [
    "- Then we will continue by installing package"
   ]
  },
  {
   "cell_type": "code",
   "execution_count": null,
   "id": "2253578d-42a6-4bc6-a34b-0c090ab74e1b",
   "metadata": {
    "tags": []
   },
   "outputs": [],
   "source": [
    "!pip install telethon"
   ]
  },
  {
   "cell_type": "markdown",
   "id": "772b6d9c-5972-4af3-876f-2d84f1b59d94",
   "metadata": {},
   "source": [
    "## Writing code"
   ]
  },
  {
   "cell_type": "markdown",
   "id": "ce4c69e0-496d-4b90-83d0-3022aba2cb40",
   "metadata": {},
   "source": [
    "- Then we import libraries"
   ]
  },
  {
   "cell_type": "code",
   "execution_count": null,
   "id": "deb23c8d-4e75-4044-926e-608c7c71ac94",
   "metadata": {},
   "outputs": [],
   "source": [
    "import json\n",
    "from datetime import date, datetime\n",
    "\n",
    "from telethon.sync import TelegramClient\n",
    "from telethon import connection\n",
    "from telethon.tl.functions.channels import GetParticipantsRequest\n",
    "from telethon.tl.types import ChannelParticipantsSearch\n",
    "from telethon.tl.functions.messages import GetHistoryRequest"
   ]
  },
  {
   "cell_type": "markdown",
   "id": "0874492d-23eb-41c4-b42d-4daec9bff99e",
   "metadata": {},
   "source": [
    "- We create client with the help of `TelegramClient` class, here we use our pre-defined variables"
   ]
  },
  {
   "cell_type": "code",
   "execution_count": null,
   "id": "8a0c0e28-4867-40fb-9492-7071970ea2c6",
   "metadata": {},
   "outputs": [],
   "source": [
    "client = TelegramClient(USERNAME, API_ID, API_HASH)"
   ]
  },
  {
   "cell_type": "markdown",
   "id": "9bcf7f0a-e58d-470c-9ddc-932bb736deaa",
   "metadata": {},
   "source": [
    "- We call `.start()` - it returns coroutine, so we add await. More on coroutines: <a href=\"https://docs.python.org/3/library/asyncio-task.html\">Python docs</a>\n",
    "    You will be asked to enter your phone, and then you will be asked again to enter confirmation code. After that you will successfuly sign in"
   ]
  },
  {
   "cell_type": "code",
   "execution_count": null,
   "id": "aa1492d2-152a-4662-b329-907daf710e30",
   "metadata": {},
   "outputs": [],
   "source": [
    "await client.start()"
   ]
  },
  {
   "cell_type": "markdown",
   "id": "e386c22e-2649-4ce8-ba59-7a710c4fe0fd",
   "metadata": {},
   "source": [
    "- Here we define URL of the channel we want to scrape and \"connect\" to this channel"
   ]
  },
  {
   "cell_type": "code",
   "execution_count": null,
   "id": "3531e031-a244-4920-a9b2-fbe28c72255d",
   "metadata": {},
   "outputs": [],
   "source": [
    "URL = \"YOUR URL HERE\""
   ]
  },
  {
   "cell_type": "code",
   "execution_count": null,
   "id": "45d1baa0-8ddb-4a76-aa06-a1235cb96f30",
   "metadata": {},
   "outputs": [],
   "source": [
    "await client.get_entity(URL)"
   ]
  },
  {
   "cell_type": "markdown",
   "id": "42bcaf72-b1f4-4456-befb-def35bf39814",
   "metadata": {},
   "source": [
    "- We define function which collects information about all users in channel. It creates a list of dictionaries and then packs them into one JSON file"
   ]
  },
  {
   "cell_type": "code",
   "execution_count": null,
   "id": "7ee28d9d-ee68-41aa-a3bb-35cfeeb807f4",
   "metadata": {},
   "outputs": [],
   "source": [
    "async def dump_all_participants(channel):\n",
    "    offset_user = 0\n",
    "    limit_user = 100\n",
    "\n",
    "    all_participants = [] \n",
    "    filter_user = ChannelParticipantsSearch('')\n",
    "\n",
    "    while True:\n",
    "        participants = await client(GetParticipantsRequest(channel,\n",
    "        filter_user, offset_user, limit_user, hash=0))\n",
    "        if not participants.users:\n",
    "            break\n",
    "        all_participants.extend(participants.users)\n",
    "        offset_user += len(participants.users)\n",
    "        all_users_details = []\n",
    "\n",
    "    # Here you can get any info you want, read more in docs\n",
    "    for participant in all_participants:\n",
    "        all_users_details.append({\n",
    "            \"id\": participant.id,\n",
    "            \"first_name\": participant.first_name,\n",
    "            \"last_name\": participant.last_name,\n",
    "            \"user\": participant.username,\n",
    "            \"phone\": participant.phone,\n",
    "            \"is_bot\": participant.bot\n",
    "        })\n",
    "\n",
    "    with open('channel_users.json', 'w', encoding='utf8') as outfile:\n",
    "        json.dump(all_users_details, outfile, ensure_ascii=False)"
   ]
  },
  {
   "cell_type": "markdown",
   "id": "1d843582-aa69-4a23-99e5-642f17fcaa73",
   "metadata": {},
   "source": [
    "- Then we define function, which scrapes messages, but before that we define class to work with dates"
   ]
  },
  {
   "cell_type": "code",
   "execution_count": null,
   "id": "8631db5c-6b0f-4154-b7d6-673e58de4d79",
   "metadata": {},
   "outputs": [],
   "source": [
    "class DateTimeEncoder(json.JSONEncoder):\n",
    "    def default(self, o):\n",
    "        if isinstance(o, datetime):\n",
    "            return o.isoformat()\n",
    "        if isinstance(o, bytes):\n",
    "            return list(o)\n",
    "        return json.JSONEncoder.default(self, o)"
   ]
  },
  {
   "cell_type": "code",
   "execution_count": null,
   "id": "7eb32a87-b5f6-4ed7-a0ce-495ac29b7088",
   "metadata": {},
   "outputs": [],
   "source": [
    "async def dump_all_messages(channel, max_messages=-1):\n",
    "    offset_msg = 0\n",
    "    limit_msg = 100\n",
    "\n",
    "    all_messages = []   # список всех сообщений\n",
    "    total_messages = 0\n",
    "\n",
    "    while True:\n",
    "        history = await client(GetHistoryRequest(\n",
    "            peer=channel,\n",
    "            offset_id=offset_msg,\n",
    "            offset_date=None, add_offset=0,\n",
    "            limit=limit_msg, max_id=0, min_id=0,\n",
    "            hash=0))\n",
    "        if not history.messages:\n",
    "            break\n",
    "        messages = history.messages\n",
    "        for message in messages:\n",
    "            # here you can edit what properties you want to save\n",
    "            all_messages.append(message.to_dict())\n",
    "        offset_msg = messages[len(messages) - 1].id\n",
    "        total_messages = len(all_messages)\n",
    "        if max_messages != -1 and total_messages >= max_messages:\n",
    "            break\n",
    "\n",
    "    with open('channel_messages.json', 'w', encoding='utf8') as outfile:\n",
    "        json.dump(all_messages, outfile, ensure_ascii=False, cls=DateTimeEncoder)"
   ]
  },
  {
   "cell_type": "markdown",
   "id": "3331736e-d7b1-4cb7-8e10-324bb913c4eb",
   "metadata": {},
   "source": [
    "- Now lets launch our functions"
   ]
  },
  {
   "cell_type": "code",
   "execution_count": null,
   "id": "3d195b3e-0154-4d10-83b4-88f16f947b42",
   "metadata": {},
   "outputs": [],
   "source": [
    "await dump_all_participants(URL)\n",
    "await dump_all_messages(URL, 200)"
   ]
  },
  {
   "cell_type": "markdown",
   "id": "8c6e7d1a-b31d-4143-9b09-26f5a30ac2ce",
   "metadata": {},
   "source": [
    "# Thanks for attention \t(ﾉ◕ヮ◕)ﾉ*:･ﾟ✧"
   ]
  },
  {
   "cell_type": "markdown",
   "id": "25c008c7-f440-4e58-9d6f-d11704d8471f",
   "metadata": {},
   "source": [
    "## P.S. This tutorial is almost a translation of this article: <a href=\"https://proglib.io/p/pishem-prostoy-grabber-dlya-telegram-chatov-na-python-2019-11-06\">Tutorial</a>"
   ]
  }
 ],
 "metadata": {
  "kernelspec": {
   "display_name": "Python 3",
   "language": "python",
   "name": "python3"
  },
  "language_info": {
   "codemirror_mode": {
    "name": "ipython",
    "version": 3
   },
   "file_extension": ".py",
   "mimetype": "text/x-python",
   "name": "python",
   "nbconvert_exporter": "python",
   "pygments_lexer": "ipython3",
   "version": "3.8.11"
  }
 },
 "nbformat": 4,
 "nbformat_minor": 5
}
