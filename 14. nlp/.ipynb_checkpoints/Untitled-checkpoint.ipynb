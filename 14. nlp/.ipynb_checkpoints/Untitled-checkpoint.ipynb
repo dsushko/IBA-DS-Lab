{
 "cells": [
  {
   "cell_type": "code",
   "execution_count": 2,
   "id": "a4378761",
   "metadata": {},
   "outputs": [],
   "source": [
    "import re"
   ]
  },
  {
   "cell_type": "markdown",
   "id": "497a61e0",
   "metadata": {},
   "source": [
    "Find all prices in dollars lower than 1000 usd, with cents ($300.01)"
   ]
  },
  {
   "cell_type": "code",
   "execution_count": 78,
   "id": "e9117b0f",
   "metadata": {},
   "outputs": [],
   "source": [
    "re_1 = re.compile('\\$\\d{1,3}(?:\\.\\d{1,2}|\\D)(?![0-9])')"
   ]
  },
  {
   "cell_type": "code",
   "execution_count": 80,
   "id": "4a2d9d85",
   "metadata": {},
   "outputs": [
    {
     "data": {
      "text/plain": [
       "['$40 ', '$999.99', '$123.4', '$999 ', '$999.9', '$999.99', '$0.01']"
      ]
     },
     "execution_count": 80,
     "metadata": {},
     "output_type": "execute_result"
    }
   ],
   "source": [
    "re_1.findall('$40 $9899.99 $999.99 $123.4 $999 $999.9 $999.99 $0.01 $0.011')"
   ]
  },
  {
   "cell_type": "markdown",
   "id": "d1d304d0",
   "metadata": {},
   "source": [
    "Find all prices in dollars in range 300-500, with cents "
   ]
  },
  {
   "cell_type": "code",
   "execution_count": 106,
   "id": "516c2a1f",
   "metadata": {},
   "outputs": [],
   "source": [
    "#re_2 = re.compile('\\$(?:[3-4]\\d{1,2})(?:\\.?\\d{1,2})?|\\$500(?!\\.0[1-9]|\\.[1-9]0?|\\.[1-9]{2})(?:\\.0{1,2})(?![0-9])')"
   ]
  },
  {
   "cell_type": "code",
   "execution_count": 112,
   "id": "6f0e3f51",
   "metadata": {},
   "outputs": [],
   "source": [
    "re_2 = re.compile('\\$(?:[3-4]\\d{1,2})(?:\\.\\d{1,2}|\\D)(?![0-9])|\\$500(?!\\.0[1-9]|\\.[1-9]0?|\\.[1-9]{2})(?:\\.0{1,2})(?![0-9])|\\$500')"
   ]
  },
  {
   "cell_type": "code",
   "execution_count": 113,
   "id": "1bf52fca",
   "metadata": {},
   "outputs": [
    {
     "data": {
      "text/plain": [
       "['$300 ', '$500', '$500.00', '$500.0', '$500', '$500', '$345.56', '$300.00']"
      ]
     },
     "execution_count": 113,
     "metadata": {},
     "output_type": "execute_result"
    }
   ],
   "source": [
    "re_2.findall('$300 $500 $500.00 $500.0 $500.1 $501 $500.000 $199 $345.56 $300.00 $300.000')"
   ]
  },
  {
   "cell_type": "markdown",
   "id": "1471ea7a",
   "metadata": {},
   "source": [
    "All strings that start at the beginning of the line with an number and that end at the end of the line with a word"
   ]
  },
  {
   "cell_type": "code",
   "execution_count": null,
   "id": "2830dcf9",
   "metadata": {},
   "outputs": [],
   "source": [
    "# assume that word may appear without a whitespace"
   ]
  },
  {
   "cell_type": "code",
   "execution_count": 147,
   "id": "8f48f386",
   "metadata": {},
   "outputs": [],
   "source": [
    "re_3 = re.compile('^[0-9].*\\w+$')"
   ]
  },
  {
   "cell_type": "code",
   "execution_count": 148,
   "id": "ba3653f3",
   "metadata": {},
   "outputs": [
    {
     "data": {
      "text/plain": [
       "['1 amogus']"
      ]
     },
     "execution_count": 148,
     "metadata": {},
     "output_type": "execute_result"
    }
   ],
   "source": [
    "re_3.findall('1 amogus')"
   ]
  },
  {
   "cell_type": "code",
   "execution_count": 149,
   "id": "3c6acb24",
   "metadata": {},
   "outputs": [
    {
     "data": {
      "text/plain": [
       "[]"
      ]
     },
     "execution_count": 149,
     "metadata": {},
     "output_type": "execute_result"
    }
   ],
   "source": [
    "re_3.findall('1 amogus ')"
   ]
  },
  {
   "cell_type": "code",
   "execution_count": 150,
   "id": "fac787c3",
   "metadata": {},
   "outputs": [
    {
     "data": {
      "text/plain": [
       "[]"
      ]
     },
     "execution_count": 150,
     "metadata": {},
     "output_type": "execute_result"
    }
   ],
   "source": [
    "re_3.findall('amogus')"
   ]
  }
 ],
 "metadata": {
  "kernelspec": {
   "display_name": "Python 3",
   "language": "python",
   "name": "python3"
  },
  "language_info": {
   "codemirror_mode": {
    "name": "ipython",
    "version": 3
   },
   "file_extension": ".py",
   "mimetype": "text/x-python",
   "name": "python",
   "nbconvert_exporter": "python",
   "pygments_lexer": "ipython3",
   "version": "3.8.8"
  }
 },
 "nbformat": 4,
 "nbformat_minor": 5
}
