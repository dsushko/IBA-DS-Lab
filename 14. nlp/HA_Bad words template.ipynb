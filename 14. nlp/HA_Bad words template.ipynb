{
 "cells": [
  {
   "cell_type": "markdown",
   "metadata": {},
   "source": [
    "# Home assignment \"BAD WORDS\""
   ]
  },
  {
   "cell_type": "markdown",
   "metadata": {},
   "source": [
    "__Задача:__ создать свое регулярное выражение для поиска русских матных слов, которые «шифруют», т.е. заменяют часть букв на знаки (с..ки, де**л и т.п.). При этом хорошие слова отлавливаться не должны.\n",
    "\n",
    "Творческое задание, исчерпывающий список не требуется, но креативность поощряется. \n",
    "\n",
    "False Positive сильно штрафуются.\n",
    "\n",
    "Отправить jupyter notebook с выполненным заданием на почту NHryshchuk@ibagroup.eu с темой «Bad words Full Name»\n",
    "\n",
    "https://regex101.com - хороший сайт для создания регулярок\n"
   ]
  },
  {
   "cell_type": "code",
   "execution_count": 148,
   "metadata": {},
   "outputs": [],
   "source": [
    "import re"
   ]
  },
  {
   "cell_type": "code",
   "execution_count": 233,
   "metadata": {},
   "outputs": [],
   "source": [
    "reg_exp = re.compile(\"\\w*[б6bпp][лl][9я][дdg9]\\w*|\\w*ё[б6b]\\w*|\\w*[пnp][еeёиui][з3z][дdg9]\\w*|[хxh][уyu][лl][иui](?![гrg][аa@][нhn]\\w*|[оo0]|[я9]|[аa@]|л\\w*|[тmt]\\w*|[мm]\\w*|[вbv]ш\\w*)|(?<![ж\\*])(?<![б6b][еe][рrp]|[тmt][аa@][лl])[мm][уyu][дdg9](?![рrp])\\w*|(?<![б6b][аa@][рrp]|[нhn][аa@][нhn]|[тmt][уyu][рrp])[сcs][уyu][кk](?![аa@]ч|[аa@][гrg]ав| )\\w*|(?<![кk][оo0])[мm]а[нhn][дdg9](?![аa@][рrp][иui][нhn]\\w*|[аa@][тmt]\\w*|[рrp][аa@][ж\\*]\\w*|[аa@][лl]\\w*|[оo0][лl]\\w*|[рrp][иui][лl]\\w*|[оo0][лl][иui][нhn]\\w*|[иui][б6b][уyu][лl]\\w*)\\w*|\\w*(?<![сcs][тmt][рrp][аa@]|ш[тmt][рrp][иui])(?<!ш[аa@])(?<![пnp][лl][оo0]|[мm][еe][йuyi])[хxh][уy][йyеe3иiuюя9]\\w*|\\w*(?<![рrp]ы|[сcs][оo0])(?<![пnp][оo0][тmt][рrp][еe])(?<![вbv][лl]ю|[гrg][лl][уyu]|[гrg][рrp][уyu]|[з3z][лl][оo0]|[сcs][лl][аa@]|щ[еe][рrp])[б6b][лl][я9][тmt][ьb]|\\w*(?<![сcs][кk][иui])[пnp][еeиui][дdg9][аa@оo0е]?[рrp]\\w*|\\w*[дdg9][еe][б6b][иui][лl]\\w*|\\w*(?<!б[аa@]|[сcs][аa@])(?<![оo0][лl][еe])[гrg][aа@оo0][вbv]н\\w*|\\w*(?<![дdg9]|[кk]|[гrg]|н|[цcu]|ш)(?<![аa@][мm]|[хxh][лl]|[иui][кk]|[гrg][рrp])(?<![кk][оo0][лl]|[ж\\*][еe][рrp]|[тmt][еe][лl]|[оo0][гrg][рrp]|[пnp]а[дdg9]|[кk][аa@][лl])(?<![аa@][лl]ь[дdg9]|[оo0]в[оo0]щ)[еeиiu][б6b][аa@о0o]\\w*|\\w*(?<!ч|[нhn])(?<![гrg][рrp]|[тmt][кk]|[кk][хxh])(?<![сcs][кk][рrp])[еe][б6b][уyu][чщ]\\w*|[а-яё]*[еeё][бb6]\\W|\\W[еeё][бb6][а-яё]*|(?<!стр)[аa@о0o][хhx][yuу][еe]\\w*\")"
   ]
  },
  {
   "cell_type": "code",
   "execution_count": 234,
   "metadata": {},
   "outputs": [],
   "source": [
    "# основные матные корни\n",
    "# \n",
    "# еба - готово\n",
    "# ебуч / ебущ - готово\n",
    "# ёба / ёб - готово\n",
    "# пизд / пезд - готово\n",
    "# хуй (застрахуйте) - готово\n",
    "# блядь / блять - готово\n",
    "# сука / суки (сук) - готово\n",
    "# дебил - готово\n",
    "# мудак / муд (бермудский треугольник) - готово\n",
    "# пидор / пидар - готово\n",
    "# манда (мандарин) - готово\n",
    "# хули (хулиган) - готово\n",
    "# говн / гавн - готово\n",
    "\n",
    "# пусть остальное не маты а просто разной степени грубости слова :)"
   ]
  },
  {
   "cell_type": "code",
   "execution_count": 235,
   "metadata": {},
   "outputs": [],
   "source": [
    "# пусть будет иметься в виду что все проверяемые слова с маленькой буквы\n",
    "# ведь любую строку можно привести к такому виду"
   ]
  },
  {
   "cell_type": "code",
   "execution_count": 236,
   "metadata": {},
   "outputs": [],
   "source": [
    "# дополните списки positives и negatives кейсами для тестирвоания регексов\n",
    "negatives = \"с. Лесное хулиган хулиганьё мандарин сук бермудский употреблять \\\n",
    "застрахуйте олеговна скипидаром команду корабля ослаблять потреблять \\\n",
    "приспособлять хлебать хулить хулимый шахуй\"\n",
    "\n",
    "positives = \"сука суки suka \\\n",
    "блять блядство блядь 6l9дь \\\n",
    "пидарасы пидоры пидар пи9рилы распидорасить \\\n",
    "ебучие ёбаные ебаные хитровыебанный \\\n",
    "дебилы \\\n",
    "hули хуй хуям хуи \\\n",
    "пизdите опиздохуевший распиздеться \\\n",
    "gоvнари \\\n",
    "мудаки омудеть\\\n",
    "мандавошки мандеть\""
   ]
  },
  {
   "cell_type": "code",
   "execution_count": 237,
   "metadata": {},
   "outputs": [],
   "source": [
    "def treat_curse_words(s):\n",
    "    curses = reg_exp.findall(s)\n",
    "    for nword in curses: # :)\n",
    "        if len(nword) > 3:\n",
    "            s = s.replace(nword, nword[0] + (len(nword)-3) * '*' + nword[-2]  + nword[-1])\n",
    "        elif len(nword) > 2:\n",
    "            s = s.replace(nword, nword[0] + (len(nword)-2) * '*'  + nword[-1])\n",
    "        else:\n",
    "            s = s.replace(nword, '*' + nword[-1])\n",
    "    return s"
   ]
  },
  {
   "cell_type": "code",
   "execution_count": 238,
   "metadata": {},
   "outputs": [
    {
     "data": {
      "text/plain": [
       "['сука',\n",
       " 'суки',\n",
       " 'suka',\n",
       " 'блять',\n",
       " 'блядство',\n",
       " 'блядь',\n",
       " '6l9дь',\n",
       " 'пидарасы',\n",
       " 'пидоры',\n",
       " 'пидар',\n",
       " 'пи9рилы',\n",
       " 'распидорасить',\n",
       " ' ебучие',\n",
       " ' ёбаные',\n",
       " ' ебаные',\n",
       " 'хитровыебанный',\n",
       " 'дебилы',\n",
       " 'hули',\n",
       " 'хуй',\n",
       " 'хуям',\n",
       " 'хуи',\n",
       " 'пизdите',\n",
       " 'опиздохуевший',\n",
       " 'распиздеться',\n",
       " 'gоvнари',\n",
       " 'мудаки',\n",
       " 'мандавошки',\n",
       " 'мандеть']"
      ]
     },
     "execution_count": 238,
     "metadata": {},
     "output_type": "execute_result"
    }
   ],
   "source": [
    "# все слова в списке positives должны отлавливаться регексами. Это будут True Positives. Если не отловятся - False Negatives\n",
    "reg_exp.findall(positives)"
   ]
  },
  {
   "cell_type": "code",
   "execution_count": 239,
   "metadata": {},
   "outputs": [
    {
     "data": {
      "text/plain": [
       "[]"
      ]
     },
     "execution_count": 239,
     "metadata": {},
     "output_type": "execute_result"
    }
   ],
   "source": [
    "# все слова в списке negatives не должны отлавливаться регексами. Это будут True Negatives. Если отловятся - False Positives\n",
    "reg_exp.findall(str(negatives))"
   ]
  },
  {
   "cell_type": "code",
   "execution_count": 240,
   "metadata": {},
   "outputs": [
    {
     "data": {
      "text/plain": [
       "'с*ка с*ки s*ka б**ть б*****во б**дь 6**дь п*****сы п***ры п**ар п****лы р**********ть ****ие ****ые ****ые х***********ый д***лы h*ли х*й х*ям х*и п****те о**********ий р*********ся g****ри м***ки м*******ки м****ть'"
      ]
     },
     "execution_count": 240,
     "metadata": {},
     "output_type": "execute_result"
    }
   ],
   "source": [
    "treat_curse_words(positives)"
   ]
  },
  {
   "cell_type": "code",
   "execution_count": 241,
   "metadata": {},
   "outputs": [
    {
     "data": {
      "text/plain": [
       "'с. Лесное хулиган хулиганьё мандарин сук бермудский употреблять застрахуйте олеговна скипидаром команду корабля ослаблять потреблять приспособлять хлебать хулить хулимый шахуй'"
      ]
     },
     "execution_count": 241,
     "metadata": {},
     "output_type": "execute_result"
    }
   ],
   "source": [
    "treat_curse_words(negatives)"
   ]
  }
 ],
 "metadata": {
  "kernelspec": {
   "display_name": "Python 3",
   "language": "python",
   "name": "python3"
  },
  "language_info": {
   "codemirror_mode": {
    "name": "ipython",
    "version": 3
   },
   "file_extension": ".py",
   "mimetype": "text/x-python",
   "name": "python",
   "nbconvert_exporter": "python",
   "pygments_lexer": "ipython3",
   "version": "3.8.8"
  }
 },
 "nbformat": 4,
 "nbformat_minor": 2
}
