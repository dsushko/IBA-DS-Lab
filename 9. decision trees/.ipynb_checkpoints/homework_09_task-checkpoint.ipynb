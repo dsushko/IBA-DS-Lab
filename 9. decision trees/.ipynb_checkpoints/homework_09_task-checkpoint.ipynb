{
 "cells": [
  {
   "cell_type": "markdown",
   "metadata": {},
   "source": [
    "# Домашняя работа. Решающие деревья и леса. kNN. SVM\n",
    "\n",
    "## Общая информация\n",
    "\n",
    "Дата выдачи: 22.08.2021\n",
    "\n",
    "Срок сдачи: 05.09.2021 09:00MSK\n",
    "\n",
    "\n",
    "### Оценивание и штрафы\n",
    "Каждая из задач имеет определенную «стоимость» (указана в скобках). Максимально допустимая оценка за работу — 10 баллов. Обратите внимание, что только за реализацию функций без подтверждения их корректной работы оценка выставляться не будет.\n",
    "\n",
    "Задание выполняется САМОСТОЯТЕЛЬНО. «Похожие» решения считаются плагиатом и все задействованные студенты (в том числе те, у кого списали) не могут получить за него больше 4 баллов.\n",
    "\n",
    "При сдаче после указанного срока сдачи от выставленной оценки за работу будет отниматься 0.5 балла за каждые 24 часа просрочки.\n",
    "\n",
    "### Формат сдачи\n",
    "Для сдачи задания переименуйте получившийся файл *.ipynb в соответствии со следующим форматом: Username_hw9.ipynb, где Username — ваша фамилия на латинице (например, Kozlova_hw9.ipynb). Далее отправьте этот файл на почту pfilipovich@ibagroup.eu с темой письма \"homework_09.%FULL_NAME%\" с указанными выше условиями."
   ]
  },
  {
   "cell_type": "markdown",
   "metadata": {},
   "source": [
    "## Постановка задачи\n",
    "\n",
    "Давайте рассмотрим следующую задачу: зная информацию о пациенте попробуем предсказать есть ли у него сердечное заболевание. Каждый пациент будет описываться 13 признаками, включающими в себя возраст, пол, информацию из электрокардиограммы и т.д."
   ]
  },
  {
   "cell_type": "markdown",
   "metadata": {},
   "source": [
    "Загрузите данные из файла *heart.dat.txt*, используя пандас, в переменную *data* (разделитель полей — пробел). Значение целевой переменной находится в последней колонке (*Absence_(1)_or_presence_(2)_of_heart_disease*). "
   ]
  },
  {
   "cell_type": "code",
   "execution_count": 1,
   "metadata": {},
   "outputs": [],
   "source": [
    "import pandas as pd\n",
    "import numpy as np\n",
    "\n",
    "from sklearn.model_selection import KFold\n",
    "from sklearn.model_selection import cross_val_score\n",
    "from sklearn.tree import DecisionTreeClassifier\n",
    "from sklearn.tree import export_graphviz\n",
    "from sklearn.metrics import roc_auc_score\n",
    "from sklearn.metrics import make_scorer\n",
    "from sklearn.neighbors import KNeighborsClassifier\n",
    "from sklearn.svm import SVC\n",
    "\n",
    "from six import StringIO\n",
    "from IPython.display import Image\n",
    "import pydotplus as pydot\n",
    "import math"
   ]
  },
  {
   "cell_type": "code",
   "execution_count": 2,
   "metadata": {
    "tags": []
   },
   "outputs": [],
   "source": [
    "data = pd.read_csv('heart.dat.txt', ' ')"
   ]
  },
  {
   "cell_type": "markdown",
   "metadata": {},
   "source": [
    "Выделите признаки в переменную *X*, а целевую зависимость — в *y*."
   ]
  },
  {
   "cell_type": "code",
   "execution_count": 3,
   "metadata": {
    "tags": []
   },
   "outputs": [],
   "source": [
    "X, y = data.iloc[:,:-1], data.iloc[:,-1:] "
   ]
  },
  {
   "cell_type": "markdown",
   "metadata": {},
   "source": [
    "В начале рассмотрим решающее дерево. Как известно, одно дерево обладает плохой обобщающей сопособностью, поэтому стоит подбирать параметры, такие как высота дерева и минимальное число объектов в листе, для уменьшения этого явления.\n",
    "\n",
    "Для оценки качества будем использовать 5-Fold кросс-валидацию с метрикой *AUC-ROC*. Создайте объект [KFold](http://scikit-learn.org/stable/modules/generated/sklearn.cross_validation.KFold.html) со следующими параметрами:\n",
    " - первым параметром нужно передать количество объектов в выборке\n",
    " - *n_folds* равно 5\n",
    " - установить *shuffle=True*, чтобы объекты были перемешаны перед разбиением\n",
    " - зафиксировать *random_state*"
   ]
  },
  {
   "cell_type": "code",
   "execution_count": 4,
   "metadata": {
    "tags": []
   },
   "outputs": [],
   "source": [
    "kfold = KFold(n_splits=5, shuffle=True, random_state=123)"
   ]
  },
  {
   "cell_type": "markdown",
   "metadata": {},
   "source": [
    "Теперь воспользуемся функцией [cross_val_score](https://scikit-learn.org/stable/modules/generated/sklearn.model_selection.cross_val_score.html) для оценки качества. Она принимает следующие параметры:\n",
    " - *estimator* — в данном случае им будет решающее дерево [DecisionTreeClassifier](http://scikit-learn.org/stable/modules/generated/sklearn.tree.DecisionTreeClassifier.html). Здесь и далее фиксируйте параметр *random_state* у решающего дерева, чтобы результат был воспроизводим. В этом пункте ограничения на другие параметры не накладываются\n",
    " - *X* и *y* — матрица \"объект-признак\" и значение целевой переменной соответственно\n",
    " - *scoring* просто указать *roc_auc_score*\n",
    " - *cv* — передать созданный ранее kfold\n",
    " \n",
    "Эта функция возвращает массив значений качества на каждом разбиении. \n",
    "\n",
    "Опционарно использовать [GridSearchCV](https://scikit-learn.org/stable/modules/generated/sklearn.model_selection.GridSearchCV.html) для перебора признаков - в дополнение к перебору комбинаций признаков руками."
   ]
  },
  {
   "cell_type": "code",
   "execution_count": 5,
   "metadata": {},
   "outputs": [],
   "source": [
    "scores1 = cross_val_score(estimator=DecisionTreeClassifier(random_state=123), \n",
    "                X=X, y=y, scoring=make_scorer(roc_auc_score), cv=kfold\n",
    "               )"
   ]
  },
  {
   "cell_type": "markdown",
   "metadata": {},
   "source": [
    "**(1 балл)** Посчитайте среднее, минимальное и максимальное качество, которое получатеся с помощью решающего дерева."
   ]
  },
  {
   "cell_type": "code",
   "execution_count": 6,
   "metadata": {},
   "outputs": [],
   "source": [
    "def print_min_max_aver(scores):\n",
    "    print('max: ', max(scores))\n",
    "    print('min: ', min(scores))\n",
    "    print('average: ', np.array(scores).mean())"
   ]
  },
  {
   "cell_type": "code",
   "execution_count": 7,
   "metadata": {
    "tags": []
   },
   "outputs": [
    {
     "name": "stdout",
     "output_type": "stream",
     "text": [
      "max:  0.7924812030075188\n",
      "min:  0.6731601731601732\n",
      "average:  0.7422559490303299\n"
     ]
    }
   ],
   "source": [
    "print_min_max_aver(scores1)"
   ]
  },
  {
   "cell_type": "markdown",
   "metadata": {},
   "source": [
    "**(0.5 балла)** Теперь попробуем посмотреть изменится ли оно, если ограничить высоту дерева. Зафиксируйте высоту дерева равной 3 и повторите аналогичные действия. Увеличились ли показания качества по сравнению с прошлым разом?\n",
    "\n",
    "**Дополнительно: отобразите дерево с помощью graphviz. Можно использовать `pydot` или, например, [онлайн-сервис](https://www.coolutils.com/ru/online/DOT-to-PNG) dot2png.**"
   ]
  },
  {
   "cell_type": "code",
   "execution_count": 8,
   "metadata": {
    "tags": []
   },
   "outputs": [],
   "source": [
    "tree = DecisionTreeClassifier(random_state=123, max_depth=3)\n",
    "\n",
    "scores2 = cross_val_score(estimator=tree, \n",
    "                          X=X, \n",
    "                          y=y, \n",
    "                          scoring=make_scorer(roc_auc_score), \n",
    "                          cv=kfold\n",
    "                         )"
   ]
  },
  {
   "cell_type": "code",
   "execution_count": 9,
   "metadata": {
    "scrolled": true
   },
   "outputs": [
    {
     "name": "stdout",
     "output_type": "stream",
     "text": [
      "max:  0.8666666666666666\n",
      "min:  0.7121212121212122\n",
      "average:  0.7971361894039912\n"
     ]
    }
   ],
   "source": [
    "print_min_max_aver(scores2)\n",
    "\n",
    "# accuracy is better this time"
   ]
  },
  {
   "cell_type": "code",
   "execution_count": 10,
   "metadata": {},
   "outputs": [],
   "source": [
    "def print_decision_tree(tree):\n",
    "    dot_data = StringIO()\n",
    "    export_graphviz(tree, out_file=dot_data)\n",
    "    graph = pydot.graph_from_dot_data(dot_data.getvalue())\n",
    "    return Image(graph.create_png())"
   ]
  },
  {
   "cell_type": "code",
   "execution_count": 11,
   "metadata": {},
   "outputs": [
    {
     "data": {
      "image/png": "[encoded data removed]",
      "text/plain": [
       "<IPython.core.display.Image object>"
      ]
     },
     "execution_count": 11,
     "metadata": {},
     "output_type": "execute_result"
    }
   ],
   "source": [
    "tree.fit(X, y)\n",
    "print_decision_tree(tree)"
   ]
  },
  {
   "cell_type": "markdown",
   "metadata": {},
   "source": [
    "**(0.5 балла)** А принесет ли улучшение, если ограничить высоту дерева 1? \n",
    "\n",
    "**Дополнительно: отобразите дерево с помощью graphviz. Можно использовать `pydot` или, например, [онлайн-сервис](https://www.coolutils.com/ru/online/DOT-to-PNG) dot2png.**"
   ]
  },
  {
   "cell_type": "code",
   "execution_count": 12,
   "metadata": {
    "tags": []
   },
   "outputs": [],
   "source": [
    "tree = DecisionTreeClassifier(random_state=123, max_depth=1)\n",
    "\n",
    "scores3 = cross_val_score(estimator=tree, \n",
    "                          X=X, \n",
    "                          y=y, \n",
    "                          scoring=make_scorer(roc_auc_score), \n",
    "                          cv=kfold\n",
    "                         )"
   ]
  },
  {
   "cell_type": "code",
   "execution_count": 13,
   "metadata": {},
   "outputs": [
    {
     "name": "stdout",
     "output_type": "stream",
     "text": [
      "max:  0.8073529411764706\n",
      "min:  0.5541125541125541\n",
      "average:  0.6760043658611771\n"
     ]
    }
   ],
   "source": [
    "print_min_max_aver(scores3)\n",
    "\n",
    "# and this time accuracy dropped"
   ]
  },
  {
   "cell_type": "code",
   "execution_count": 14,
   "metadata": {},
   "outputs": [
    {
     "data": {
      "image/png": "[encoded data removed]",
      "text/plain": [
       "<IPython.core.display.Image object>"
      ]
     },
     "execution_count": 14,
     "metadata": {},
     "output_type": "execute_result"
    }
   ],
   "source": [
    "tree.fit(X, y)\n",
    "print_decision_tree(tree)"
   ]
  },
  {
   "cell_type": "markdown",
   "metadata": {},
   "source": [
    "**(1 балл)** Напишите почему наложение ограничения на высоту дерева влияет на его обобщающую способность. Почему деревья глубиной 1 по одиночке могут быть неэффективны?"
   ]
  },
  {
   "cell_type": "code",
   "execution_count": 15,
   "metadata": {
    "tags": []
   },
   "outputs": [],
   "source": [
    "# Tree height limitation defines upper boundary for \n",
    "# amount of features may be checked. This may cause \n",
    "# situation when some features that infulence on target\n",
    "# are not considered\n",
    "#\n",
    "# Trees with height 1 may appear uneffective beacuse decision tree\n",
    "# checks 1 feature per 'height level', so 1 feature may be\n",
    "# not enough to classify target feature precisely"
   ]
  },
  {
   "cell_type": "markdown",
   "metadata": {},
   "source": [
    "**(2 балла)** Теперь попробуем провести аналогичные эксперименты для случая решающего леса [RandomForestClassifier](http://scikit-learn.org/stable/modules/generated/sklearn.ensemble.RandomForestClassifier.html). Рассмотрите 10, 50 и 100 деревьев в случайном лесу (поле *n_estimators*) для высоты деревьев по умолчанию, 3 и 1 (поле *max_depth*). Не забудьте зафиксировать *random_state*. Улучшается ли качество при увеличении количества деревьев в лесу? Сильно ли влияет ограничение на высоту деревьев при построении леса?"
   ]
  },
  {
   "cell_type": "code",
   "execution_count": 16,
   "metadata": {},
   "outputs": [],
   "source": [
    "from sklearn.ensemble import RandomForestClassifier"
   ]
  },
  {
   "cell_type": "code",
   "execution_count": 17,
   "metadata": {},
   "outputs": [
    {
     "name": "stdout",
     "output_type": "stream",
     "text": [
      "///////////////////////////\n",
      "Stats for 10 trees with height 3 :\n",
      "max:  0.8720588235294118\n",
      "min:  0.7597402597402597\n",
      "average:  0.8141356482784501\n",
      "///////////////////////////\n",
      "Stats for 10 trees with height 1 :\n",
      "max:  0.8426470588235294\n",
      "min:  0.6958333333333333\n",
      "average:  0.7886003276908851\n",
      "///////////////////////////\n",
      "Stats for 50 trees with height 3 :\n",
      "max:  0.8970588235294118\n",
      "min:  0.751082251082251\n",
      "average:  0.8370685487113505\n",
      "///////////////////////////\n",
      "Stats for 50 trees with height 1 :\n",
      "max:  0.8781954887218044\n",
      "min:  0.7485795454545454\n",
      "average:  0.8003505505072843\n",
      "///////////////////////////\n",
      "Stats for 100 trees with height 3 :\n",
      "max:  0.8970588235294118\n",
      "min:  0.751082251082251\n",
      "average:  0.8381650399394207\n",
      "///////////////////////////\n",
      "Stats for 100 trees with height 1 :\n",
      "max:  0.8781954887218044\n",
      "min:  0.7485795454545454\n",
      "average:  0.808142758299492\n"
     ]
    }
   ],
   "source": [
    "tree_amounts = [10, 50, 100]\n",
    "tree_heights = [3, 1]\n",
    "for curr_trees_amount in tree_amounts:\n",
    "    for curr_height in tree_heights:\n",
    "        print('///////////////////////////')\n",
    "        print('Stats for', curr_trees_amount, 'trees with height', curr_height, ':')\n",
    "        print_min_max_aver(cross_val_score(estimator=RandomForestClassifier(random_state=123, \n",
    "                                                                            max_depth=curr_height, \n",
    "                                                                            n_estimators=curr_trees_amount\n",
    "                                                                           ), \n",
    "                                           X=X, \n",
    "                                           y=np.ravel(y),\n",
    "                                           scoring=make_scorer(roc_auc_score), \n",
    "                                           cv=kfold\n",
    "                                          ) \n",
    "                          )"
   ]
  },
  {
   "cell_type": "code",
   "execution_count": 18,
   "metadata": {},
   "outputs": [],
   "source": [
    "# Accuracy increases along with amount of trees,\n",
    "# but there's probably some amount number, above which \n",
    "# there's no accuracy improvement\n",
    "#\n",
    "# Tree height did not severely impact result accuracy"
   ]
  },
  {
   "cell_type": "markdown",
   "metadata": {},
   "source": [
    "**(1 балл)** И напоследок посмотрим, какие признаки являются наиболее *важными*. Обучите решающий лес с оптимальными на ваш взгляд параметрами (можете опираться на эксперименты ранее) на всей выборке и посмотрите на поле *feature\\_importances\\_* у обученного леса. Выпишите названия наиболее и наименее важных признаков с точки зрения случайного леса. "
   ]
  },
  {
   "cell_type": "code",
   "execution_count": 19,
   "metadata": {
    "tags": []
   },
   "outputs": [],
   "source": [
    "# Lets pick the following features:\n",
    "#\n",
    "#    maximum_heart_rate_achieved\n",
    "#    serum_cholestoral_in_mg/dl\n",
    "#    number_of_major_vessels\n",
    "#    resting_blood_pressure\n",
    "#"
   ]
  },
  {
   "cell_type": "code",
   "execution_count": 20,
   "metadata": {},
   "outputs": [
    {
     "data": {
      "text/plain": [
       "DecisionTreeClassifier(random_state=123)"
      ]
     },
     "execution_count": 20,
     "metadata": {},
     "output_type": "execute_result"
    }
   ],
   "source": [
    "learning_forest = DecisionTreeClassifier(random_state=123)\n",
    "\n",
    "learning_forest.fit(X[['maximum_heart_rate_achieved', \n",
    "                       'serum_cholestoral_in_mg/dl', \n",
    "                       'number_of_major_vessels', \n",
    "                       'resting_blood_pressure'\n",
    "                      ]], \n",
    "                     y\n",
    "                   )"
   ]
  },
  {
   "cell_type": "code",
   "execution_count": 21,
   "metadata": {},
   "outputs": [
    {
     "data": {
      "text/plain": [
       "array([0.32749051, 0.33073832, 0.24729046, 0.09448071])"
      ]
     },
     "execution_count": 21,
     "metadata": {},
     "output_type": "execute_result"
    }
   ],
   "source": [
    "learning_forest.feature_importances_"
   ]
  },
  {
   "cell_type": "code",
   "execution_count": 22,
   "metadata": {},
   "outputs": [],
   "source": [
    "# Ok, now lets check actual feature importances"
   ]
  },
  {
   "cell_type": "code",
   "execution_count": 23,
   "metadata": {},
   "outputs": [
    {
     "data": {
      "text/plain": [
       "DecisionTreeClassifier(random_state=123)"
      ]
     },
     "execution_count": 23,
     "metadata": {},
     "output_type": "execute_result"
    }
   ],
   "source": [
    "learning_forest.fit(X, y)"
   ]
  },
  {
   "cell_type": "code",
   "execution_count": 24,
   "metadata": {},
   "outputs": [
    {
     "name": "stdout",
     "output_type": "stream",
     "text": [
      "fasting_blood_sugar  -  0.0\n",
      "resting_electrocardiographic_results  -  0.018249999999999995\n",
      "the_slope_of_the_peak_exercise  -  0.028000000000000004\n",
      "maximum_heart_rate_achieved  -  0.04108214285714285\n",
      "exercise_induced_angina  -  0.04563475927130774\n",
      "sex  -  0.046375000000000006\n",
      "resting_blood_pressure  -  0.06246938643404284\n",
      "serum_cholestoral_in_mg/dl  -  0.071263110291841\n",
      "chest_pain_type  -  0.08186547232233173\n",
      "age  -  0.08241974528646959\n",
      "oldpeak  -  0.09890035308677926\n",
      "number_of_major_vessels  -  0.15411190823777465\n",
      "thal  -  0.2696281222123103\n"
     ]
    }
   ],
   "source": [
    "true_feature_importance = { X.columns[i] : learning_forest.feature_importances_[i] for i in range(X.shape[1])}\n",
    "\n",
    "for key, value in sorted(true_feature_importance.items(), key=lambda kv: kv[1]):\n",
    "    print(key, ' - ', value)"
   ]
  },
  {
   "cell_type": "code",
   "execution_count": 25,
   "metadata": {},
   "outputs": [],
   "source": [
    "# Therefore, the most important features are:\n",
    "#    thal\n",
    "#    number_of_major_vessels\n",
    "#    oldpeak\n",
    "# Least important:\n",
    "#    fasting_blood_sugar\n",
    "#    resting_electrocardiographic_results\n",
    "#    the_slope_of_the_peak_exercise"
   ]
  },
  {
   "cell_type": "markdown",
   "metadata": {},
   "source": [
    "**(2 балла)** Попробуем провести аналогичные эксперименты для kNN [KNeighborsClassifier](https://scikit-learn.org/stable/modules/generated/sklearn.neighbors.KNeighborsClassifier.html). Рассмотрите не менее 5-х различных N (поле *n_neighbors*, обязательно включая [1, 5, 21]), попробуйте изменять функцию (не менее 3-х) для определения расстояния в пространстве (поле *metric*). Как влияет количество соседей на получаемый результат? Каким образом подбирали остальные величины количества соседей? Как влияние функции определения расстояния в пространстве?"
   ]
  },
  {
   "cell_type": "code",
   "execution_count": 26,
   "metadata": {},
   "outputs": [
    {
     "name": "stdout",
     "output_type": "stream",
     "text": [
      "///////////////////////////\n",
      "Stats for N = 1 , (metric: euclidean ):\n",
      "max:  0.6691176470588236\n",
      "min:  0.524812030075188\n",
      "average:  0.5947031432190102\n",
      "///////////////////////////\n",
      "Stats for N = 1 , (metric: manhattan ):\n",
      "max:  0.7676470588235296\n",
      "min:  0.6082706766917294\n",
      "average:  0.6625482657177704\n",
      "///////////////////////////\n",
      "Stats for N = 1 , (metric: chebyshev ):\n",
      "max:  0.609375\n",
      "min:  0.5208333333333333\n",
      "average:  0.5686855088925522\n",
      "///////////////////////////\n",
      "Stats for N = 5 , (metric: euclidean ):\n",
      "max:  0.687218045112782\n",
      "min:  0.6125\n",
      "average:  0.6428335377213087\n",
      "///////////////////////////\n",
      "Stats for N = 5 , (metric: manhattan ):\n",
      "max:  0.7563909774436092\n",
      "min:  0.6477272727272727\n",
      "average:  0.7114169782745634\n",
      "///////////////////////////\n",
      "Stats for N = 5 , (metric: chebyshev ):\n",
      "max:  0.6946022727272727\n",
      "min:  0.625\n",
      "average:  0.6617842316352378\n",
      "///////////////////////////\n",
      "Stats for N = 10 , (metric: euclidean ):\n",
      "max:  0.7176470588235294\n",
      "min:  0.575\n",
      "average:  0.6561151374425368\n",
      "///////////////////////////\n",
      "Stats for N = 10 , (metric: manhattan ):\n",
      "max:  0.7398496240601504\n",
      "min:  0.6583333333333333\n",
      "average:  0.6989665507351267\n",
      "///////////////////////////\n",
      "Stats for N = 10 , (metric: chebyshev ):\n",
      "max:  0.7112781954887218\n",
      "min:  0.6416666666666666\n",
      "average:  0.6776353819039578\n",
      "///////////////////////////\n",
      "Stats for N = 21 , (metric: euclidean ):\n",
      "max:  0.7541353383458647\n",
      "min:  0.6666666666666667\n",
      "average:  0.703879174875692\n",
      "///////////////////////////\n",
      "Stats for N = 21 , (metric: manhattan ):\n",
      "max:  0.7421052631578948\n",
      "min:  0.65625\n",
      "average:  0.701072886092236\n",
      "///////////////////////////\n",
      "Stats for N = 21 , (metric: chebyshev ):\n",
      "max:  0.7294372294372293\n",
      "min:  0.5875\n",
      "average:  0.6561987019688258\n",
      "///////////////////////////\n",
      "Stats for N = 50 , (metric: euclidean ):\n",
      "max:  0.6808823529411765\n",
      "min:  0.5875\n",
      "average:  0.6328556685832227\n",
      "///////////////////////////\n",
      "Stats for N = 50 , (metric: manhattan ):\n",
      "max:  0.7532467532467533\n",
      "min:  0.6041666666666667\n",
      "average:  0.6752998807178374\n",
      "///////////////////////////\n",
      "Stats for N = 50 , (metric: chebyshev ):\n",
      "max:  0.7058823529411764\n",
      "min:  0.6416666666666666\n",
      "average:  0.6731980016887137\n"
     ]
    }
   ],
   "source": [
    "Ns = [1, 5, 10, 21, 50]\n",
    "metrics = ['euclidean', 'manhattan', 'chebyshev']\n",
    "\n",
    "for N in Ns:\n",
    "    for metric in metrics:\n",
    "        print('///////////////////////////')\n",
    "        print('Stats for N =', N, ', (metric:', metric, '):')\n",
    "        print_min_max_aver(cross_val_score(estimator=KNeighborsClassifier(n_neighbors=N,\n",
    "                                                                          metric=metric\n",
    "                                                                         ), \n",
    "                                           X=X, \n",
    "                                           y=np.ravel(y),\n",
    "                                           scoring=make_scorer(roc_auc_score), \n",
    "                                           cv=kfold\n",
    "                                          ) \n",
    "                          )"
   ]
  },
  {
   "cell_type": "code",
   "execution_count": 27,
   "metadata": {},
   "outputs": [],
   "source": [
    "# The conclusion is the following: we can't say that\n",
    "# bigger amount of neighbors makes prediction more accurate.\n",
    "# We should find apprioriate number for every single specific task.\n",
    "# Metrics choice is kinda valuable; e.g sometimes it may\n",
    "# give about 6-8% accuracy growth"
   ]
  },
  {
   "cell_type": "markdown",
   "metadata": {},
   "source": [
    "**(2 балла)** Попробуем провести аналогичные эксперименты для SVM [SVC (Support Vector Classifier)](https://scikit-learn.org/stable/modules/generated/sklearn.svm.SVC.html). Рассмотрите различные ядра (поле *kernel*, [linear, poly, rbf, sigmoid]), для [poly] попробуйте разные степени полинома, не менее 4 (поле *degree*, обязательно попробуйте [1,3]). Как влияют разные ядра на получаемый результат? Как влияет степень полинома на результат?"
   ]
  },
  {
   "cell_type": "code",
   "execution_count": 28,
   "metadata": {
    "tags": []
   },
   "outputs": [
    {
     "name": "stdout",
     "output_type": "stream",
     "text": [
      "///////////////////////////\n",
      "Stats for  linear kernel:\n",
      "max:  0.9161764705882353\n",
      "min:  0.7813852813852814\n",
      "average:  0.8208047860292442\n",
      "///////////////////////////\n",
      "Stats for  poly kernel, (polynom degree = 1 ):\n",
      "max:  0.6645021645021645\n",
      "min:  0.5\n",
      "average:  0.6023116028708133\n",
      "///////////////////////////\n",
      "Stats for  poly kernel, (polynom degree = 3 ):\n",
      "max:  0.7121212121212122\n",
      "min:  0.5809659090909092\n",
      "average:  0.6611059986195436\n",
      "///////////////////////////\n",
      "Stats for  poly kernel, (polynom degree = 5 ):\n",
      "max:  0.7662337662337664\n",
      "min:  0.5809659090909092\n",
      "average:  0.6759171575328696\n",
      "///////////////////////////\n",
      "Stats for  poly kernel, (polynom degree = 10 ):\n",
      "max:  0.7352941176470589\n",
      "min:  0.6166666666666667\n",
      "average:  0.6777342336456114\n",
      "///////////////////////////\n",
      "Stats for  poly kernel, (polynom degree = 25 ):\n",
      "max:  0.75\n",
      "min:  0.6122159090909092\n",
      "average:  0.6566406071998176\n",
      "///////////////////////////\n",
      "Stats for  rbf kernel:\n",
      "max:  0.6883116883116883\n",
      "min:  0.5582386363636364\n",
      "average:  0.6392105514454586\n",
      "///////////////////////////\n",
      "Stats for  sigmoid kernel:\n",
      "max:  0.5\n",
      "min:  0.5\n",
      "average:  0.5\n"
     ]
    }
   ],
   "source": [
    "kernels = ['linear', 'poly', 'rbf', 'sigmoid']\n",
    "polynom_degrees = [1, 3, 5, 10, 25]\n",
    "\n",
    "for kernel in kernels:\n",
    "    if kernel == 'poly':\n",
    "        for degree in polynom_degrees:\n",
    "            print('///////////////////////////')\n",
    "            print('Stats for ', kernel, 'kernel, (polynom degree =', degree, '):')\n",
    "            print_min_max_aver(cross_val_score(estimator=SVC(kernel=kernel,\n",
    "                                                             degree=degree\n",
    "                                                            ), \n",
    "                                               X=X, \n",
    "                                               y=np.ravel(y),\n",
    "                                               scoring=make_scorer(roc_auc_score), \n",
    "                                               cv=kfold\n",
    "                                              ) \n",
    "                              )\n",
    "    else:\n",
    "        print('///////////////////////////')\n",
    "        print('Stats for ', kernel, 'kernel:')\n",
    "        print_min_max_aver(cross_val_score(estimator=SVC(kernel=kernel), \n",
    "                                           X=X, \n",
    "                                           y=np.ravel(y),\n",
    "                                           scoring=make_scorer(roc_auc_score), \n",
    "                                           cv=kfold\n",
    "                                          ) \n",
    "                          )"
   ]
  },
  {
   "cell_type": "code",
   "execution_count": 29,
   "metadata": {},
   "outputs": [],
   "source": [
    "# Different kernels strongly influence on result accuracy\n",
    "# For some reason we had 0.5 accuracy: it's just like\n",
    "# simple coin flipping to decide - very bad result.\n",
    "# Nonetheless the best score is 0.92, this one stands for\n",
    "# linear kernel.\n",
    "# \n",
    "# As for polynom degrees, it seems we also have to choose\n",
    "# proper degree for certain task, otherwise calculations may\n",
    "# become too complicated without making considerable accuracy growth.\n",
    "# I had a hypothesis about big polynom degrees that they are\n",
    "# very likely to overfit train data, but it turned out\n",
    "# to be false, at least for this data.\n",
    "# Concerning current task average accuracy increased along \n",
    "# with degree, though max result dropped a little after some\n",
    "# moment."
   ]
  },
  {
   "cell_type": "markdown",
   "metadata": {},
   "source": [
    "### Бонусная задача"
   ]
  },
  {
   "cell_type": "markdown",
   "metadata": {},
   "source": [
    "Самостоятельно реализуйте DecisionTree с некоторыми ограничениями (перечислены ниже). Задание может быть оценено частично."
   ]
  },
  {
   "cell_type": "markdown",
   "metadata": {},
   "source": [
    "Он должен получать на вход матрицу объект-признак и целевую переменную. На каждом этапе должен производить определение оптимальной пары признак-величина (для создания разделения данных, поступавших в вершину). Ограничение обучения реализуйте через ограничение допустимой максимальной глубины дерева - остальные опционарно."
   ]
  },
  {
   "cell_type": "markdown",
   "metadata": {},
   "source": [
    "В качестве данных предлагается использовать игрушечный датасет из курса ODS.\n",
    "\n",
    "**Рассмотрим игрушечную задачу бинарной классификации: поедет ли с Вами новый знакомый из бара? Это будет зависеть от Вашей внешности и красноречия, крепости предлагаемых напитков и, как это ни меркантильно, от количества потраченных в баре денег.**"
   ]
  },
  {
   "cell_type": "markdown",
   "metadata": {},
   "source": [
    "### Создание набора данных"
   ]
  },
  {
   "cell_type": "code",
   "execution_count": 30,
   "metadata": {},
   "outputs": [],
   "source": [
    "from sklearn.preprocessing import LabelEncoder\n",
    "import pandas as pd\n",
    "import numpy as np\n",
    "\n",
    "# Создание датафрейма с dummy variables\n",
    "def create_df(dic, feature_list):\n",
    "    out = pd.DataFrame(dic)\n",
    "    out = pd.concat([out, pd.get_dummies(out[feature_list])], axis = 1)\n",
    "    out.drop(feature_list, axis = 1, inplace = True)\n",
    "    return out\n",
    "\n",
    "# Некоторые значения признаков есть в тесте, но нет в трейне и наоборот\n",
    "def intersect_features(train, test):\n",
    "    common_feat = list( set(train.keys()) & set(test.keys()))\n",
    "    return train[common_feat], test[common_feat]"
   ]
  },
  {
   "cell_type": "code",
   "execution_count": 31,
   "metadata": {},
   "outputs": [],
   "source": [
    "features = ['Внешность', 'Алкоголь_в_напитке',\n",
    "            'Уровень_красноречия', 'Потраченные_деньги']\n",
    "target = ['Поедет']"
   ]
  },
  {
   "cell_type": "markdown",
   "metadata": {},
   "source": [
    "**Обучающая выборка**"
   ]
  },
  {
   "cell_type": "code",
   "execution_count": 32,
   "metadata": {},
   "outputs": [
    {
     "data": {
      "text/html": [
       "<div>\n",
       "<style scoped>\n",
       "    .dataframe tbody tr th:only-of-type {\n",
       "        vertical-align: middle;\n",
       "    }\n",
       "\n",
       "    .dataframe tbody tr th {\n",
       "        vertical-align: top;\n",
       "    }\n",
       "\n",
       "    .dataframe thead th {\n",
       "        text-align: right;\n",
       "    }\n",
       "</style>\n",
       "<table border=\"1\" class=\"dataframe\">\n",
       "  <thead>\n",
       "    <tr style=\"text-align: right;\">\n",
       "      <th></th>\n",
       "      <th>Поедет</th>\n",
       "      <th>Внешность_отталкивающая</th>\n",
       "      <th>Внешность_приятная</th>\n",
       "      <th>Алкоголь_в_напитке_да</th>\n",
       "      <th>Алкоголь_в_напитке_нет</th>\n",
       "      <th>Уровень_красноречия_высокий</th>\n",
       "      <th>Уровень_красноречия_низкий</th>\n",
       "      <th>Уровень_красноречия_средний</th>\n",
       "      <th>Потраченные_деньги_мало</th>\n",
       "      <th>Потраченные_деньги_много</th>\n",
       "    </tr>\n",
       "  </thead>\n",
       "  <tbody>\n",
       "    <tr>\n",
       "      <th>0</th>\n",
       "      <td>0</td>\n",
       "      <td>0</td>\n",
       "      <td>1</td>\n",
       "      <td>1</td>\n",
       "      <td>0</td>\n",
       "      <td>1</td>\n",
       "      <td>0</td>\n",
       "      <td>0</td>\n",
       "      <td>0</td>\n",
       "      <td>1</td>\n",
       "    </tr>\n",
       "    <tr>\n",
       "      <th>1</th>\n",
       "      <td>1</td>\n",
       "      <td>0</td>\n",
       "      <td>1</td>\n",
       "      <td>1</td>\n",
       "      <td>0</td>\n",
       "      <td>0</td>\n",
       "      <td>1</td>\n",
       "      <td>0</td>\n",
       "      <td>1</td>\n",
       "      <td>0</td>\n",
       "    </tr>\n",
       "    <tr>\n",
       "      <th>2</th>\n",
       "      <td>0</td>\n",
       "      <td>0</td>\n",
       "      <td>1</td>\n",
       "      <td>0</td>\n",
       "      <td>1</td>\n",
       "      <td>0</td>\n",
       "      <td>0</td>\n",
       "      <td>1</td>\n",
       "      <td>0</td>\n",
       "      <td>1</td>\n",
       "    </tr>\n",
       "    <tr>\n",
       "      <th>3</th>\n",
       "      <td>1</td>\n",
       "      <td>1</td>\n",
       "      <td>0</td>\n",
       "      <td>0</td>\n",
       "      <td>1</td>\n",
       "      <td>0</td>\n",
       "      <td>0</td>\n",
       "      <td>1</td>\n",
       "      <td>1</td>\n",
       "      <td>0</td>\n",
       "    </tr>\n",
       "    <tr>\n",
       "      <th>4</th>\n",
       "      <td>1</td>\n",
       "      <td>1</td>\n",
       "      <td>0</td>\n",
       "      <td>1</td>\n",
       "      <td>0</td>\n",
       "      <td>0</td>\n",
       "      <td>1</td>\n",
       "      <td>0</td>\n",
       "      <td>0</td>\n",
       "      <td>1</td>\n",
       "    </tr>\n",
       "    <tr>\n",
       "      <th>5</th>\n",
       "      <td>0</td>\n",
       "      <td>1</td>\n",
       "      <td>0</td>\n",
       "      <td>1</td>\n",
       "      <td>0</td>\n",
       "      <td>1</td>\n",
       "      <td>0</td>\n",
       "      <td>0</td>\n",
       "      <td>0</td>\n",
       "      <td>1</td>\n",
       "    </tr>\n",
       "    <tr>\n",
       "      <th>6</th>\n",
       "      <td>0</td>\n",
       "      <td>0</td>\n",
       "      <td>1</td>\n",
       "      <td>1</td>\n",
       "      <td>0</td>\n",
       "      <td>0</td>\n",
       "      <td>0</td>\n",
       "      <td>1</td>\n",
       "      <td>0</td>\n",
       "      <td>1</td>\n",
       "    </tr>\n",
       "  </tbody>\n",
       "</table>\n",
       "</div>"
      ],
      "text/plain": [
       "   Поедет  Внешность_отталкивающая  Внешность_приятная  Алкоголь_в_напитке_да  \\\n",
       "0       0                        0                   1                      1   \n",
       "1       1                        0                   1                      1   \n",
       "2       0                        0                   1                      0   \n",
       "3       1                        1                   0                      0   \n",
       "4       1                        1                   0                      1   \n",
       "5       0                        1                   0                      1   \n",
       "6       0                        0                   1                      1   \n",
       "\n",
       "   Алкоголь_в_напитке_нет  Уровень_красноречия_высокий  \\\n",
       "0                       0                            1   \n",
       "1                       0                            0   \n",
       "2                       1                            0   \n",
       "3                       1                            0   \n",
       "4                       0                            0   \n",
       "5                       0                            1   \n",
       "6                       0                            0   \n",
       "\n",
       "   Уровень_красноречия_низкий  Уровень_красноречия_средний  \\\n",
       "0                           0                            0   \n",
       "1                           1                            0   \n",
       "2                           0                            1   \n",
       "3                           0                            1   \n",
       "4                           1                            0   \n",
       "5                           0                            0   \n",
       "6                           0                            1   \n",
       "\n",
       "   Потраченные_деньги_мало  Потраченные_деньги_много  \n",
       "0                        0                         1  \n",
       "1                        1                         0  \n",
       "2                        0                         1  \n",
       "3                        1                         0  \n",
       "4                        0                         1  \n",
       "5                        0                         1  \n",
       "6                        0                         1  "
      ]
     },
     "execution_count": 32,
     "metadata": {},
     "output_type": "execute_result"
    }
   ],
   "source": [
    "df_train = {}\n",
    "df_train['Внешность'] = ['приятная', 'приятная', 'приятная', 'отталкивающая',\n",
    "                         'отталкивающая', 'отталкивающая', 'приятная'] \n",
    "df_train['Алкоголь_в_напитке'] = ['да', 'да', 'нет', 'нет', 'да', 'да', 'да']\n",
    "df_train['Уровень_красноречия'] = ['высокий', 'низкий', 'средний', 'средний', 'низкий',\n",
    "                                   'высокий', 'средний']\n",
    "df_train['Потраченные_деньги'] = ['много', 'мало', 'много', 'мало', 'много',\n",
    "                                  'много', 'много']\n",
    "df_train['Поедет'] = LabelEncoder().fit_transform(['+', '-', '+', '-', '-', '+', '+'])\n",
    "\n",
    "df_train = create_df(df_train, features)\n",
    "df_train"
   ]
  },
  {
   "cell_type": "markdown",
   "metadata": {},
   "source": [
    "**Тестовая выборка**"
   ]
  },
  {
   "cell_type": "code",
   "execution_count": 33,
   "metadata": {},
   "outputs": [
    {
     "data": {
      "text/html": [
       "<div>\n",
       "<style scoped>\n",
       "    .dataframe tbody tr th:only-of-type {\n",
       "        vertical-align: middle;\n",
       "    }\n",
       "\n",
       "    .dataframe tbody tr th {\n",
       "        vertical-align: top;\n",
       "    }\n",
       "\n",
       "    .dataframe thead th {\n",
       "        text-align: right;\n",
       "    }\n",
       "</style>\n",
       "<table border=\"1\" class=\"dataframe\">\n",
       "  <thead>\n",
       "    <tr style=\"text-align: right;\">\n",
       "      <th></th>\n",
       "      <th>Внешность_отталкивающая</th>\n",
       "      <th>Внешность_приятная</th>\n",
       "      <th>Алкоголь_в_напитке_да</th>\n",
       "      <th>Алкоголь_в_напитке_нет</th>\n",
       "      <th>Уровень_красноречия_высокий</th>\n",
       "      <th>Уровень_красноречия_средний</th>\n",
       "      <th>Потраченные_деньги_мало</th>\n",
       "      <th>Потраченные_деньги_много</th>\n",
       "    </tr>\n",
       "  </thead>\n",
       "  <tbody>\n",
       "    <tr>\n",
       "      <th>0</th>\n",
       "      <td>0</td>\n",
       "      <td>1</td>\n",
       "      <td>0</td>\n",
       "      <td>1</td>\n",
       "      <td>0</td>\n",
       "      <td>1</td>\n",
       "      <td>0</td>\n",
       "      <td>1</td>\n",
       "    </tr>\n",
       "    <tr>\n",
       "      <th>1</th>\n",
       "      <td>0</td>\n",
       "      <td>1</td>\n",
       "      <td>1</td>\n",
       "      <td>0</td>\n",
       "      <td>1</td>\n",
       "      <td>0</td>\n",
       "      <td>1</td>\n",
       "      <td>0</td>\n",
       "    </tr>\n",
       "    <tr>\n",
       "      <th>2</th>\n",
       "      <td>1</td>\n",
       "      <td>0</td>\n",
       "      <td>1</td>\n",
       "      <td>0</td>\n",
       "      <td>0</td>\n",
       "      <td>1</td>\n",
       "      <td>0</td>\n",
       "      <td>1</td>\n",
       "    </tr>\n",
       "  </tbody>\n",
       "</table>\n",
       "</div>"
      ],
      "text/plain": [
       "   Внешность_отталкивающая  Внешность_приятная  Алкоголь_в_напитке_да  \\\n",
       "0                        0                   1                      0   \n",
       "1                        0                   1                      1   \n",
       "2                        1                   0                      1   \n",
       "\n",
       "   Алкоголь_в_напитке_нет  Уровень_красноречия_высокий  \\\n",
       "0                       1                            0   \n",
       "1                       0                            1   \n",
       "2                       0                            0   \n",
       "\n",
       "   Уровень_красноречия_средний  Потраченные_деньги_мало  \\\n",
       "0                            1                        0   \n",
       "1                            0                        1   \n",
       "2                            1                        0   \n",
       "\n",
       "   Потраченные_деньги_много  \n",
       "0                         1  \n",
       "1                         0  \n",
       "2                         1  "
      ]
     },
     "execution_count": 33,
     "metadata": {},
     "output_type": "execute_result"
    }
   ],
   "source": [
    "df_test = {}\n",
    "df_test['Внешность'] = ['приятная', 'приятная', 'отталкивающая'] \n",
    "df_test['Алкоголь_в_напитке'] = ['нет', 'да', 'да']\n",
    "df_test['Уровень_красноречия'] = ['средний', 'высокий', 'средний']\n",
    "df_test['Потраченные_деньги'] = ['много', 'мало', 'много']\n",
    "df_test = create_df(df_test, features)\n",
    "df_test"
   ]
  },
  {
   "cell_type": "code",
   "execution_count": 34,
   "metadata": {},
   "outputs": [
    {
     "data": {
      "text/html": [
       "<div>\n",
       "<style scoped>\n",
       "    .dataframe tbody tr th:only-of-type {\n",
       "        vertical-align: middle;\n",
       "    }\n",
       "\n",
       "    .dataframe tbody tr th {\n",
       "        vertical-align: top;\n",
       "    }\n",
       "\n",
       "    .dataframe thead th {\n",
       "        text-align: right;\n",
       "    }\n",
       "</style>\n",
       "<table border=\"1\" class=\"dataframe\">\n",
       "  <thead>\n",
       "    <tr style=\"text-align: right;\">\n",
       "      <th></th>\n",
       "      <th>Алкоголь_в_напитке_нет</th>\n",
       "      <th>Потраченные_деньги_мало</th>\n",
       "      <th>Алкоголь_в_напитке_да</th>\n",
       "      <th>Потраченные_деньги_много</th>\n",
       "      <th>Внешность_отталкивающая</th>\n",
       "      <th>Внешность_приятная</th>\n",
       "      <th>Уровень_красноречия_средний</th>\n",
       "      <th>Уровень_красноречия_высокий</th>\n",
       "    </tr>\n",
       "  </thead>\n",
       "  <tbody>\n",
       "    <tr>\n",
       "      <th>0</th>\n",
       "      <td>0</td>\n",
       "      <td>0</td>\n",
       "      <td>1</td>\n",
       "      <td>1</td>\n",
       "      <td>0</td>\n",
       "      <td>1</td>\n",
       "      <td>0</td>\n",
       "      <td>1</td>\n",
       "    </tr>\n",
       "    <tr>\n",
       "      <th>1</th>\n",
       "      <td>0</td>\n",
       "      <td>1</td>\n",
       "      <td>1</td>\n",
       "      <td>0</td>\n",
       "      <td>0</td>\n",
       "      <td>1</td>\n",
       "      <td>0</td>\n",
       "      <td>0</td>\n",
       "    </tr>\n",
       "    <tr>\n",
       "      <th>2</th>\n",
       "      <td>1</td>\n",
       "      <td>0</td>\n",
       "      <td>0</td>\n",
       "      <td>1</td>\n",
       "      <td>0</td>\n",
       "      <td>1</td>\n",
       "      <td>1</td>\n",
       "      <td>0</td>\n",
       "    </tr>\n",
       "    <tr>\n",
       "      <th>3</th>\n",
       "      <td>1</td>\n",
       "      <td>1</td>\n",
       "      <td>0</td>\n",
       "      <td>0</td>\n",
       "      <td>1</td>\n",
       "      <td>0</td>\n",
       "      <td>1</td>\n",
       "      <td>0</td>\n",
       "    </tr>\n",
       "    <tr>\n",
       "      <th>4</th>\n",
       "      <td>0</td>\n",
       "      <td>0</td>\n",
       "      <td>1</td>\n",
       "      <td>1</td>\n",
       "      <td>1</td>\n",
       "      <td>0</td>\n",
       "      <td>0</td>\n",
       "      <td>0</td>\n",
       "    </tr>\n",
       "    <tr>\n",
       "      <th>5</th>\n",
       "      <td>0</td>\n",
       "      <td>0</td>\n",
       "      <td>1</td>\n",
       "      <td>1</td>\n",
       "      <td>1</td>\n",
       "      <td>0</td>\n",
       "      <td>0</td>\n",
       "      <td>1</td>\n",
       "    </tr>\n",
       "    <tr>\n",
       "      <th>6</th>\n",
       "      <td>0</td>\n",
       "      <td>0</td>\n",
       "      <td>1</td>\n",
       "      <td>1</td>\n",
       "      <td>0</td>\n",
       "      <td>1</td>\n",
       "      <td>1</td>\n",
       "      <td>0</td>\n",
       "    </tr>\n",
       "  </tbody>\n",
       "</table>\n",
       "</div>"
      ],
      "text/plain": [
       "   Алкоголь_в_напитке_нет  Потраченные_деньги_мало  Алкоголь_в_напитке_да  \\\n",
       "0                       0                        0                      1   \n",
       "1                       0                        1                      1   \n",
       "2                       1                        0                      0   \n",
       "3                       1                        1                      0   \n",
       "4                       0                        0                      1   \n",
       "5                       0                        0                      1   \n",
       "6                       0                        0                      1   \n",
       "\n",
       "   Потраченные_деньги_много  Внешность_отталкивающая  Внешность_приятная  \\\n",
       "0                         1                        0                   1   \n",
       "1                         0                        0                   1   \n",
       "2                         1                        0                   1   \n",
       "3                         0                        1                   0   \n",
       "4                         1                        1                   0   \n",
       "5                         1                        1                   0   \n",
       "6                         1                        0                   1   \n",
       "\n",
       "   Уровень_красноречия_средний  Уровень_красноречия_высокий  \n",
       "0                            0                            1  \n",
       "1                            0                            0  \n",
       "2                            1                            0  \n",
       "3                            1                            0  \n",
       "4                            0                            0  \n",
       "5                            0                            1  \n",
       "6                            1                            0  "
      ]
     },
     "execution_count": 34,
     "metadata": {},
     "output_type": "execute_result"
    }
   ],
   "source": [
    "# Некоторые значения признаков есть в тесте, но нет в трейне и наоборот\n",
    "y = df_train['Поедет']\n",
    "df_train, df_test = intersect_features(train=df_train, test=df_test)\n",
    "\n",
    "df_train"
   ]
  },
  {
   "cell_type": "code",
   "execution_count": 35,
   "metadata": {},
   "outputs": [
    {
     "data": {
      "text/html": [
       "<div>\n",
       "<style scoped>\n",
       "    .dataframe tbody tr th:only-of-type {\n",
       "        vertical-align: middle;\n",
       "    }\n",
       "\n",
       "    .dataframe tbody tr th {\n",
       "        vertical-align: top;\n",
       "    }\n",
       "\n",
       "    .dataframe thead th {\n",
       "        text-align: right;\n",
       "    }\n",
       "</style>\n",
       "<table border=\"1\" class=\"dataframe\">\n",
       "  <thead>\n",
       "    <tr style=\"text-align: right;\">\n",
       "      <th></th>\n",
       "      <th>Алкоголь_в_напитке_нет</th>\n",
       "      <th>Потраченные_деньги_мало</th>\n",
       "      <th>Алкоголь_в_напитке_да</th>\n",
       "      <th>Потраченные_деньги_много</th>\n",
       "      <th>Внешность_отталкивающая</th>\n",
       "      <th>Внешность_приятная</th>\n",
       "      <th>Уровень_красноречия_средний</th>\n",
       "      <th>Уровень_красноречия_высокий</th>\n",
       "    </tr>\n",
       "  </thead>\n",
       "  <tbody>\n",
       "    <tr>\n",
       "      <th>0</th>\n",
       "      <td>1</td>\n",
       "      <td>0</td>\n",
       "      <td>0</td>\n",
       "      <td>1</td>\n",
       "      <td>0</td>\n",
       "      <td>1</td>\n",
       "      <td>1</td>\n",
       "      <td>0</td>\n",
       "    </tr>\n",
       "    <tr>\n",
       "      <th>1</th>\n",
       "      <td>0</td>\n",
       "      <td>1</td>\n",
       "      <td>1</td>\n",
       "      <td>0</td>\n",
       "      <td>0</td>\n",
       "      <td>1</td>\n",
       "      <td>0</td>\n",
       "      <td>1</td>\n",
       "    </tr>\n",
       "    <tr>\n",
       "      <th>2</th>\n",
       "      <td>0</td>\n",
       "      <td>0</td>\n",
       "      <td>1</td>\n",
       "      <td>1</td>\n",
       "      <td>1</td>\n",
       "      <td>0</td>\n",
       "      <td>1</td>\n",
       "      <td>0</td>\n",
       "    </tr>\n",
       "  </tbody>\n",
       "</table>\n",
       "</div>"
      ],
      "text/plain": [
       "   Алкоголь_в_напитке_нет  Потраченные_деньги_мало  Алкоголь_в_напитке_да  \\\n",
       "0                       1                        0                      0   \n",
       "1                       0                        1                      1   \n",
       "2                       0                        0                      1   \n",
       "\n",
       "   Потраченные_деньги_много  Внешность_отталкивающая  Внешность_приятная  \\\n",
       "0                         1                        0                   1   \n",
       "1                         0                        0                   1   \n",
       "2                         1                        1                   0   \n",
       "\n",
       "   Уровень_красноречия_средний  Уровень_красноречия_высокий  \n",
       "0                            1                            0  \n",
       "1                            0                            1  \n",
       "2                            1                            0  "
      ]
     },
     "execution_count": 35,
     "metadata": {},
     "output_type": "execute_result"
    }
   ],
   "source": [
    "df_test"
   ]
  },
  {
   "cell_type": "markdown",
   "metadata": {},
   "source": [
    "Для облегчения рекомендуется использовать (и реализовать) функции приведённые ниже."
   ]
  },
  {
   "cell_type": "code",
   "execution_count": 81,
   "metadata": {},
   "outputs": [],
   "source": [
    "# расчёт энтропии множества\n",
    "def entropy(a_list):\n",
    "    '''\n",
    "    Calculates and returns entropy of given binary\n",
    "    1d collection, using\n",
    "    entropy = -p_0*ln(p_0) - p_1*ln(p_1),\n",
    "    where\n",
    "        p_0 - proportion of value 0 in a_list,\n",
    "        p_1 - proportion of value 1 in a_list,\n",
    "    '''\n",
    "    if len(a_list) == 0:\n",
    "        return 1.\n",
    "    p_0 = len([x for x in a_list if x == 0])/len(a_list)\n",
    "    p_1 = len([x for x in a_list if x == 1])/len(a_list)\n",
    "    if p_0 != 0 and p_1 != 0:\n",
    "        return -math.log(p_0)*p_0 - math.log(p_1)*p_1\n",
    "    else: \n",
    "        return 0."
   ]
  },
  {
   "cell_type": "code",
   "execution_count": 37,
   "metadata": {},
   "outputs": [],
   "source": [
    "# расчет прироста информации\n",
    "\n",
    "def information_gain(root, left, right):\n",
    "    '''\n",
    "    Calculates and returns Information Gain \n",
    "    if we split root by left and right\n",
    "    '''\n",
    "    root_entropy = entropy(root)\n",
    "    left_entropy = entropy(left)\n",
    "    right_entropy = entropy(right)\n",
    "    l_size = len(left)\n",
    "    r_size = len(right)\n",
    "    total_size = len(root)\n",
    "    info_gain = root_entropy - (l_size/total_size * left_entropy + r_size/total_size * right_entropy)\n",
    "    return info_gain"
   ]
  },
  {
   "cell_type": "code",
   "execution_count": 119,
   "metadata": {
    "scrolled": false
   },
   "outputs": [
    {
     "name": "stdout",
     "output_type": "stream",
     "text": [
      "splitting by Алкоголь_в_напитке_нет gives 0.004143433819589815 information gain\n",
      "splitting by Потраченные_деньги_мало gives 0.32547780217319466 information gain\n",
      "splitting by Алкоголь_в_напитке_да gives 0.004143433819589815 information gain\n",
      "splitting by Потраченные_деньги_много gives 0.32547780217319466 information gain\n",
      "splitting by Внешность_отталкивающая gives 0.08878194993480437 information gain\n",
      "splitting by Внешность_приятная gives 0.08878194993480437 information gain\n",
      "splitting by Уровень_красноречия_средний gives 0.014032215111297486 information gain\n",
      "splitting by Уровень_красноречия_высокий gives 0.20218548540814563 information gain\n"
     ]
    },
    {
     "data": {
      "text/plain": [
       "'Потраченные_деньги_мало'"
      ]
     },
     "execution_count": 119,
     "metadata": {},
     "output_type": "execute_result"
    }
   ],
   "source": [
    "# определение оптимального разбиения с точки зрения прироста информации\n",
    "\n",
    "def best_feature_to_split(X, y, to_print=True):\n",
    "    ''' Выводит прирост информации при разбиении по каждому признаку'''\n",
    "    best_feature = None\n",
    "    best_info_gain = 0.\n",
    "    for feature in X:\n",
    "        y_left = pd.Series({index : y[index] for index, row in X.iterrows() if row[feature] == 1}, dtype='float64')\n",
    "        y_right = pd.Series({index: y[index] for index, row in X.iterrows() if row[feature] == 0}, dtype='float64')\n",
    "        curr_info_gain = information_gain(y, y_left, y_right)\n",
    "        if curr_info_gain > best_info_gain:\n",
    "            best_info_gain = curr_info_gain\n",
    "            best_feature = feature\n",
    "        if to_print:\n",
    "            print('splitting by', feature, 'gives', curr_info_gain, 'information gain')\n",
    "    return best_feature\n",
    "\n",
    "best_feature_to_split(df_train, y)"
   ]
  },
  {
   "cell_type": "code",
   "execution_count": 153,
   "metadata": {
    "scrolled": false
   },
   "outputs": [],
   "source": [
    "class DecisionTree:\n",
    "    \"\"\"\n",
    "    Decision tree, that considers binary features and solves\n",
    "    binary classification task\n",
    "    \"\"\"\n",
    "    class Node:\n",
    "        \"\"\"\n",
    "        Node which are used to build DecisionTree\n",
    "        \"\"\"\n",
    "        def __init__(self, is_leaf=False, val=None, feature=None, depth=None):\n",
    "            \"\"\"\n",
    "            Initalizes a new tree node instance\n",
    "            \n",
    "            Parameters\n",
    "            ----------\n",
    "            is_leaf, Boolean\n",
    "                defines whethes it's leaf node (has no children)\n",
    "            val, int\n",
    "                prediction value to be stored if it's leaf node\n",
    "            feature, str\n",
    "                name of feature which is used to split data\n",
    "                by this node\n",
    "            depth, int\n",
    "                depth level of this node\n",
    "            \"\"\"\n",
    "            self.left = None\n",
    "            self.right = None\n",
    "            self.is_leaf = is_leaf\n",
    "            self.val = val\n",
    "            self.feature = feature\n",
    "            self.depth = depth\n",
    "            pass\n",
    "                      \n",
    "    def __init__(self, max_depth=3):\n",
    "        \"\"\"\n",
    "        Initalizes a new DecisionTree instance\n",
    "        \"\"\"\n",
    "        self.max_depth=max_depth\n",
    "        self.root = None\n",
    "        pass\n",
    "    \n",
    "    def build_tree(self, X, y, curr_node=Node(), curr_depth=0):\n",
    "        \"\"\"\n",
    "        Returns recursively built classification tree\n",
    "        \"\"\"\n",
    "        curr_node.depth = curr_depth\n",
    "        if curr_depth != self.max_depth:\n",
    "            if entropy(y) != 0:\n",
    "                curr_node.left = self.Node()\n",
    "                curr_node.right = self.Node()\n",
    "                \n",
    "                feature_to_split = best_feature_to_split(X, y, to_print=False)\n",
    "                \n",
    "                curr_node.feature = feature_to_split\n",
    "                \n",
    "                X_left = X[X[feature_to_split] == 1]\n",
    "                X_right = X[X[feature_to_split] == 0]\n",
    "                    \n",
    "                y_left = pd.Series({index : y[index] for index, row in X.iterrows() if row[feature_to_split] == 1})\n",
    "                y_right = pd.Series({index: y[index] for index, row in X.iterrows() if row[feature_to_split] == 0})\n",
    "                \n",
    "                curr_node.left = self.build_tree(X_left, y_left, curr_node.left, curr_depth+1)\n",
    "                curr_node.right = self.build_tree(X_right, y_right, curr_node.right, curr_depth+1)             \n",
    "            else:\n",
    "                curr_node.is_leaf = True\n",
    "                curr_node.val = y[list(y.keys())[0]]\n",
    "        else:\n",
    "            curr_node.is_leaf = True\n",
    "            curr_node.val = round(np.array(y).mean())\n",
    "        return curr_node\n",
    "        \n",
    "    def fit(self, X, y):\n",
    "        \"\"\"\n",
    "        Fits to X: builds a decision tree that is\n",
    "        appropriate to X\n",
    "        Returns self.\n",
    "        \"\"\"\n",
    "        self.root = self.build_tree(X, y)\n",
    "        return self\n",
    "    \n",
    "    def predict(self, X):\n",
    "        \"\"\"\n",
    "        Predicts binary target feature setting off from a tree\n",
    "        that is built at 'fit' step\n",
    "        Returns list of predicted values.\n",
    "        \"\"\"\n",
    "        y = [None]*len(X)\n",
    "        for index, row in X.iterrows():\n",
    "            curr_node = self.root\n",
    "            while not curr_node.is_leaf:\n",
    "                if row[curr_node.feature] == 0:\n",
    "                    curr_node = curr_node.right\n",
    "                elif row[curr_node.feature] == 1:\n",
    "                    curr_node = curr_node.left\n",
    "            y[index] = curr_node.val\n",
    "        return y"
   ]
  },
  {
   "cell_type": "code",
   "execution_count": null,
   "metadata": {},
   "outputs": [],
   "source": []
  },
  {
   "cell_type": "code",
   "execution_count": null,
   "metadata": {},
   "outputs": [],
   "source": []
  },
  {
   "cell_type": "code",
   "execution_count": 154,
   "metadata": {},
   "outputs": [],
   "source": [
    "tree_object = DecisionTree()"
   ]
  },
  {
   "cell_type": "code",
   "execution_count": 155,
   "metadata": {},
   "outputs": [
    {
     "data": {
      "text/plain": [
       "<__main__.DecisionTree at 0x1fb438528e0>"
      ]
     },
     "execution_count": 155,
     "metadata": {},
     "output_type": "execute_result"
    }
   ],
   "source": [
    "tree_object.fit(df_train, y)"
   ]
  },
  {
   "cell_type": "code",
   "execution_count": 157,
   "metadata": {},
   "outputs": [
    {
     "data": {
      "text/plain": [
       "[0, 1, 1]"
      ]
     },
     "execution_count": 157,
     "metadata": {},
     "output_type": "execute_result"
    }
   ],
   "source": [
    "tree_object.predict(df_test)"
   ]
  },
  {
   "cell_type": "code",
   "execution_count": null,
   "metadata": {},
   "outputs": [],
   "source": []
  }
 ],
 "metadata": {
  "kernelspec": {
   "display_name": "Python 3",
   "language": "python",
   "name": "python3"
  },
  "language_info": {
   "codemirror_mode": {
    "name": "ipython",
    "version": 3
   },
   "file_extension": ".py",
   "mimetype": "text/x-python",
   "name": "python",
   "nbconvert_exporter": "python",
   "pygments_lexer": "ipython3",
   "version": "3.8.8"
  }
 },
 "nbformat": 4,
 "nbformat_minor": 4
}
