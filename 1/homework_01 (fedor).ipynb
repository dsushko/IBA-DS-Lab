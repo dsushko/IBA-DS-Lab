{
 "cells": [
  {
   "cell_type": "markdown",
   "metadata": {},
   "source": [
    "**Please follow PEP8 during writing code in Python. Readability matters**"
   ]
  },
  {
   "cell_type": "code",
   "execution_count": 1,
   "metadata": {},
   "outputs": [],
   "source": [
    "#pip install flake8 pycodestyle_magic"
   ]
  },
  {
   "cell_type": "code",
   "execution_count": 2,
   "metadata": {},
   "outputs": [],
   "source": [
    "#%load_ext pycodestyle_magic\n",
    "#%pycodestyle_on"
   ]
  },
  {
   "cell_type": "markdown",
   "metadata": {},
   "source": [
    "# Basics"
   ]
  },
  {
   "cell_type": "markdown",
   "metadata": {},
   "source": [
    "1. Write a Python program to solve (x + y) * (x + y). Test Data : x = 4, y = 3. Expected Output : 49"
   ]
  },
  {
   "cell_type": "code",
   "execution_count": 37,
   "metadata": {},
   "outputs": [
    {
     "data": {
      "text/plain": [
       "49"
      ]
     },
     "execution_count": 37,
     "metadata": {},
     "output_type": "execute_result"
    }
   ],
   "source": [
    "def task_one(x, y):\n",
    "    try:\n",
    "        x = int(x)\n",
    "        y = int(y)\n",
    "    except TypeError:\n",
    "        print(\"No valid value in line.\")\n",
    "    return (x+y) * (x+y)\n",
    "\n",
    "\n",
    "task_one(4, 3)"
   ]
  },
  {
   "cell_type": "markdown",
   "metadata": {},
   "source": [
    "2. Write a python program to sum of the first n positive integers."
   ]
  },
  {
   "cell_type": "code",
   "execution_count": 38,
   "metadata": {},
   "outputs": [
    {
     "data": {
      "text/plain": [
       "15.0"
      ]
     },
     "execution_count": 38,
     "metadata": {},
     "output_type": "execute_result"
    }
   ],
   "source": [
    "def task_two(n):\n",
    "    try:\n",
    "        n = int(n)\n",
    "    except TypeError:\n",
    "        print(\"No valid value in line.\")\n",
    "    return n * (n+1) / 2\n",
    "\n",
    "\n",
    "task_two(5)"
   ]
  },
  {
   "cell_type": "markdown",
   "metadata": {},
   "source": [
    "3. Write a Python program to sum of three given integers. However, if two values are equal sum will be zero."
   ]
  },
  {
   "cell_type": "code",
   "execution_count": 39,
   "metadata": {},
   "outputs": [
    {
     "data": {
      "text/plain": [
       "0"
      ]
     },
     "execution_count": 39,
     "metadata": {},
     "output_type": "execute_result"
    }
   ],
   "source": [
    "def task_three(x, y, z):\n",
    "    try:\n",
    "        x = int(x)\n",
    "        y = int(y)\n",
    "        z = int(z)\n",
    "    except TypeError:\n",
    "        print(\"No valid value in line.\")\n",
    "    if x == y or y == z or x == z:\n",
    "        rez = 0\n",
    "    else:\n",
    "        rez = x + y + z\n",
    "    return rez\n",
    "\n",
    "\n",
    "task_three(1, 1, 5)"
   ]
  },
  {
   "cell_type": "markdown",
   "metadata": {},
   "source": [
    "4. Write a Python program to compute the distance between the points (x1, y1) and (x2, y2)"
   ]
  },
  {
   "cell_type": "code",
   "execution_count": 40,
   "metadata": {},
   "outputs": [
    {
     "data": {
      "text/plain": [
       "7.615773105863909"
      ]
     },
     "execution_count": 40,
     "metadata": {},
     "output_type": "execute_result"
    }
   ],
   "source": [
    "import math\n",
    "\n",
    "\n",
    "def task_four(x1, x2, y1, y2):\n",
    "    try:\n",
    "        x1 = float(x1)\n",
    "        x2 = float(x2)\n",
    "        y1 = float(y1)\n",
    "        y2 = float(y2)\n",
    "    except TypeError:\n",
    "        print(\"No valid value in line.\")\n",
    "    sqr_distance = (x1-y1)**2 + (x2-y2)**2\n",
    "    return math.sqrt(sqr_distance)\n",
    "\n",
    "\n",
    "task_four(0, 0, 3, 7)"
   ]
  },
  {
   "cell_type": "markdown",
   "metadata": {},
   "source": [
    "*5. Write a Python program to compute the greatest common divisor (GCD) of two positive integers."
   ]
  },
  {
   "cell_type": "code",
   "execution_count": 41,
   "metadata": {},
   "outputs": [
    {
     "data": {
      "text/plain": [
       "7"
      ]
     },
     "execution_count": 41,
     "metadata": {},
     "output_type": "execute_result"
    }
   ],
   "source": [
    "def task_five(x, y):\n",
    "    try:\n",
    "        x = int(x)\n",
    "        y = int(y)\n",
    "    except TypeError:\n",
    "        print(\"No valid value in line.\")\n",
    "    while(y != 0):\n",
    "        temp = y\n",
    "        y = x % y\n",
    "        x = temp\n",
    "    return x\n",
    "\n",
    "\n",
    "task_five(14, 7)"
   ]
  },
  {
   "cell_type": "markdown",
   "metadata": {},
   "source": [
    "6. Write a Python program to calculate the sum of the digits in an integer."
   ]
  },
  {
   "cell_type": "code",
   "execution_count": 42,
   "metadata": {},
   "outputs": [
    {
     "data": {
      "text/plain": [
       "2"
      ]
     },
     "execution_count": 42,
     "metadata": {},
     "output_type": "execute_result"
    }
   ],
   "source": [
    "def task_six(x):\n",
    "    sum = 0\n",
    "    try:\n",
    "        for digit in str(x):\n",
    "            sum += int(digit)\n",
    "    except TypeError:\n",
    "        print(\"No valid value in line.\")\n",
    "    return sum\n",
    "\n",
    "\n",
    "task_six(11)"
   ]
  },
  {
   "cell_type": "markdown",
   "metadata": {},
   "source": [
    "*7. Write a Python program to find out the number of CPUs using."
   ]
  },
  {
   "cell_type": "code",
   "execution_count": 43,
   "metadata": {},
   "outputs": [
    {
     "data": {
      "text/plain": [
       "12"
      ]
     },
     "execution_count": 43,
     "metadata": {},
     "output_type": "execute_result"
    }
   ],
   "source": [
    "import os\n",
    "\n",
    "\n",
    "def task_seven():\n",
    "    return os.cpu_count()\n",
    "\n",
    "\n",
    "task_seven()"
   ]
  },
  {
   "cell_type": "markdown",
   "metadata": {},
   "source": [
    "8. Write a Python program to swap two variables."
   ]
  },
  {
   "cell_type": "code",
   "execution_count": 44,
   "metadata": {},
   "outputs": [
    {
     "data": {
      "text/plain": [
       "(10, 1)"
      ]
     },
     "execution_count": 44,
     "metadata": {},
     "output_type": "execute_result"
    }
   ],
   "source": [
    "def task_eight(x, y):\n",
    "    x, y = y, x\n",
    "    return x, y\n",
    "\n",
    "\n",
    "task_eight(1, 10)"
   ]
  },
  {
   "cell_type": "markdown",
   "metadata": {},
   "source": [
    "# Strings\n"
   ]
  },
  {
   "cell_type": "markdown",
   "metadata": {},
   "source": [
    "1. Write a Python program to change a given string to a new string where the first and last chars have been exchanged."
   ]
  },
  {
   "cell_type": "code",
   "execution_count": 45,
   "metadata": {},
   "outputs": [
    {
     "data": {
      "text/plain": [
       "'rnited forever in friendship and laboU'"
      ]
     },
     "execution_count": 45,
     "metadata": {},
     "output_type": "execute_result"
    }
   ],
   "source": [
    "def task_one(str1):\n",
    "    return str1[-1] + str1[1:-1] + str1[0]\n",
    "\n",
    "\n",
    "task_one(\"United forever in friendship and labor\")"
   ]
  },
  {
   "cell_type": "markdown",
   "metadata": {},
   "source": [
    "2. Write a Python program to remove the characters which have odd index values of a given string."
   ]
  },
  {
   "cell_type": "code",
   "execution_count": 46,
   "metadata": {},
   "outputs": [
    {
     "data": {
      "text/plain": [
       "'Uie oee nfinsi n ao'"
      ]
     },
     "execution_count": 46,
     "metadata": {},
     "output_type": "execute_result"
    }
   ],
   "source": [
    "def task_two(str1):\n",
    "    res = \"\"\n",
    "    for i in range(len(str1)):\n",
    "        if i % 2 == 0:\n",
    "            res += str1[i]\n",
    "    return res\n",
    "\n",
    "\n",
    "task_two(\"United forever in friendship and labor\")"
   ]
  },
  {
   "cell_type": "markdown",
   "metadata": {},
   "source": [
    "*3. Write a Python script that takes input from the user and displays that input back in upper and lower cases."
   ]
  },
  {
   "cell_type": "code",
   "execution_count": 47,
   "metadata": {},
   "outputs": [
    {
     "data": {
      "text/plain": [
       "('UNITED FOREVER IN FRIENDSHIP AND LABOR',\n",
       " 'united forever in friendship and labor')"
      ]
     },
     "execution_count": 47,
     "metadata": {},
     "output_type": "execute_result"
    }
   ],
   "source": [
    "def task_three(str):\n",
    "    return str.upper(), str.lower()\n",
    "\n",
    "\n",
    "task_three(\"United forever in friendship and labor\")"
   ]
  },
  {
   "cell_type": "markdown",
   "metadata": {},
   "source": [
    "4. Write a Python function to convert a given string to all uppercase if it contains at least 2 uppercase characters in the first 4 characters."
   ]
  },
  {
   "cell_type": "code",
   "execution_count": 48,
   "metadata": {},
   "outputs": [
    {
     "data": {
      "text/plain": [
       "'UNITED FOREVER IN FRIENDSHIP AND LABOR'"
      ]
     },
     "execution_count": 48,
     "metadata": {},
     "output_type": "execute_result"
    }
   ],
   "source": [
    "def task_four(str1):\n",
    "    temp_str = str1[:4]\n",
    "    counter = 0\n",
    "    for let in str1:\n",
    "        if let.isupper():\n",
    "            counter += 1\n",
    "    if counter >= 2:\n",
    "        return str1.upper()\n",
    "    return\n",
    "\n",
    "\n",
    "task_four(\"UnIted forever in friendship and labor\")"
   ]
  },
  {
   "cell_type": "markdown",
   "metadata": {},
   "source": [
    "5. Write a Python program to display formatted text (width=50) as output."
   ]
  },
  {
   "cell_type": "code",
   "execution_count": 49,
   "metadata": {},
   "outputs": [
    {
     "name": "stdout",
     "output_type": "stream",
     "text": [
      "United forever in friendship and labor Our mighty\n",
      "Republics will ever endure\n"
     ]
    }
   ],
   "source": [
    "#def task_five(str):\n",
    "    #return \"{0:^50}\".format(str)\n",
    "    \n",
    "    \n",
    "import textwrap\n",
    "    \n",
    "\n",
    "def task_five(str1):\n",
    "    return textwrap.fill(str1, width=50)\n",
    "    \n",
    "    \n",
    "print(task_five(\"United forever in friendship and labor Our mighty Republics will ever endure\"))"
   ]
  },
  {
   "cell_type": "markdown",
   "metadata": {},
   "source": [
    "**6. Read the Wikipedia entry on Soundex. Implement this algorithm in Python."
   ]
  },
  {
   "cell_type": "code",
   "execution_count": 1,
   "metadata": {},
   "outputs": [
    {
     "data": {
      "text/plain": [
       "'I551'"
      ]
     },
     "execution_count": 1,
     "metadata": {},
     "output_type": "execute_result"
    }
   ],
   "source": [
    "soundex_codes = {'b' : 1, 'p' : 1, \n",
    "                'f': 1, 'v': 1, \n",
    "                'c':2, 'k':2, 's':2,\n",
    "                'g':2, 'j':2,\n",
    "                'q':2, 'x':2, 'z':2, \n",
    "                'd':3, 't':3, \n",
    "                'l':4,\n",
    "                'm':5, 'n':5,\n",
    "                'r':6}\n",
    "\n",
    "\n",
    "def task_six(str1):\n",
    "    res = str1[0].upper()\n",
    "    str1  = str1.lower()\n",
    "    for let in str1[1:]:\n",
    "        code = soundex_codes.get(let)\n",
    "        if code is not None:\n",
    "            res+= str(code)\n",
    "    return res[0:4]\n",
    "\n",
    "\n",
    "task_six(\"immplementation\")"
   ]
  },
  {
   "cell_type": "markdown",
   "metadata": {},
   "source": [
    "7. Write a Python program to move all spaces to the front of a given string in single traversal."
   ]
  },
  {
   "cell_type": "code",
   "execution_count": 51,
   "metadata": {},
   "outputs": [
    {
     "data": {
      "text/plain": [
       "'     Unitedforeverinfriendshipandlabor'"
      ]
     },
     "execution_count": 51,
     "metadata": {},
     "output_type": "execute_result"
    }
   ],
   "source": [
    "def task_seven(str1):\n",
    "    res = [x for x in str1 if x != ' ']\n",
    "    spaces = len(str1) - len(res)\n",
    "    return (' '*spaces) + ''.join(res)\n",
    "\n",
    "\n",
    "task_seven(\"United forever in friendship and labor\")"
   ]
  },
  {
   "cell_type": "code",
   "execution_count": null,
   "metadata": {},
   "outputs": [],
   "source": []
  }
 ],
 "metadata": {
  "kernelspec": {
   "display_name": "Python 3",
   "language": "python",
   "name": "python3"
  },
  "language_info": {
   "codemirror_mode": {
    "name": "ipython",
    "version": 3
   },
   "file_extension": ".py",
   "mimetype": "text/x-python",
   "name": "python",
   "nbconvert_exporter": "python",
   "pygments_lexer": "ipython3",
   "version": "3.8.8"
  }
 },
 "nbformat": 4,
 "nbformat_minor": 4
}
