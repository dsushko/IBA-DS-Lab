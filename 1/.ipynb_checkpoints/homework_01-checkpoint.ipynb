{
 "cells": [
  {
   "cell_type": "markdown",
   "metadata": {},
   "source": [
    "**Please follow PEP8 during writing code in Python. Readability matters**"
   ]
  },
  {
   "cell_type": "markdown",
   "metadata": {},
   "source": [
    "# Basics"
   ]
  },
  {
   "cell_type": "markdown",
   "metadata": {},
   "source": [
    "1. Write a Python program to solve (x + y) * (x + y). Test Data : x = 4, y = 3. Expected Output : 49"
   ]
  },
  {
   "cell_type": "markdown",
   "metadata": {},
   "source": [
    "2. Write a python program to sum of the first n positive integers."
   ]
  },
  {
   "cell_type": "markdown",
   "metadata": {},
   "source": [
    "3. Write a Python program to sum of three given integers. However, if two values are equal sum will be zero."
   ]
  },
  {
   "cell_type": "markdown",
   "metadata": {},
   "source": [
    "4. Write a Python program to compute the distance between the points (x1, y1) and (x2, y2)"
   ]
  },
  {
   "cell_type": "markdown",
   "metadata": {},
   "source": [
    "*5. Write a Python program to compute the greatest common divisor (GCD) of two positive integers."
   ]
  },
  {
   "cell_type": "markdown",
   "metadata": {},
   "source": [
    "6. Write a Python program to calculate the sum of the digits in an integer."
   ]
  },
  {
   "cell_type": "markdown",
   "metadata": {},
   "source": [
    "*7. Write a Python program to find out the number of CPUs using."
   ]
  },
  {
   "cell_type": "markdown",
   "metadata": {},
   "source": [
    "8. Write a Python program to swap two variables."
   ]
  },
  {
   "cell_type": "markdown",
   "metadata": {},
   "source": [
    "# Strings"
   ]
  },
  {
   "cell_type": "markdown",
   "metadata": {},
   "source": [
    "1. Write a Python program to change a given string to a new string where the first and last chars have been exchanged."
   ]
  },
  {
   "cell_type": "markdown",
   "metadata": {},
   "source": [
    "2. Write a Python program to remove the characters which have odd index values of a given string."
   ]
  },
  {
   "cell_type": "markdown",
   "metadata": {},
   "source": [
    "*3. Write a Python script that takes input from the user and displays that input back in upper and lower cases."
   ]
  },
  {
   "cell_type": "markdown",
   "metadata": {},
   "source": [
    "4. Write a Python function to convert a given string to all uppercase if it contains at least 2 uppercase characters in the first 4 characters."
   ]
  },
  {
   "cell_type": "markdown",
   "metadata": {},
   "source": [
    "5. Write a Python program to display formatted text (width=50) as output."
   ]
  },
  {
   "cell_type": "markdown",
   "metadata": {},
   "source": [
    "**6. Read the Wikipedia entry on Soundex. Implement this algorithm in Python."
   ]
  },
  {
   "cell_type": "markdown",
   "metadata": {},
   "source": [
    "7. Write a Python program to move all spaces to the front of a given string in single traversal."
   ]
  },
  {
   "cell_type": "code",
   "execution_count": 3,
   "metadata": {},
   "outputs": [
    {
     "name": "stdout",
     "output_type": "stream",
     "text": [
      "49\n"
     ]
    }
   ],
   "source": [
    "#pip install flake8 pycodestyle_magic\n",
    "#%load_ext pycodestyle_magic\n",
    "#%pycodestyle_on\n",
    "\n",
    "import numbers\n",
    "\n",
    "def is_number(x):\n",
    "    \"\"\"Checks whether x is a number and returns true or false respectively.\"\"\"\n",
    "    return isinstance(x, numbers.Number)\n",
    "    \n",
    "\n",
    "def basics_1(x, y):\n",
    "    \"\"\"Solves (x+y)*(x+y) for given x and y values and returns an anwser.\"\"\"\n",
    "    if is_number(x) and is_number(y):\n",
    "        return (x+y)**2 \n",
    "    else:\n",
    "        raise TypeError(\"x or y is not a number\")\n",
    "\n",
    "try:\n",
    "    print(basics_1(4, 3))\n",
    "except TypeError:\n",
    "    print(\"x or y is not a number\")"
   ]
  },
  {
   "cell_type": "code",
   "execution_count": 4,
   "metadata": {},
   "outputs": [
    {
     "name": "stdout",
     "output_type": "stream",
     "text": [
      "0\n"
     ]
    }
   ],
   "source": [
    "def is_not_negative_whole(x):\n",
    "    return type(x) == int and x >= 0\n",
    "\n",
    "def basics_2(n):\n",
    "    \"\"\"Calculates and returns the sum of first N integers.\"\"\"\n",
    "    if is_not_negative_whole(n):\n",
    "        sum = 0\n",
    "        for i in range(0, n + 1):\n",
    "            sum += i\n",
    "        return sum\n",
    "    else:\n",
    "        raise TypeError(\"Argument is not a not negative whole number\")\n",
    "\n",
    "print(basics_2(0))"
   ]
  },
  {
   "cell_type": "code",
   "execution_count": 5,
   "metadata": {},
   "outputs": [
    {
     "name": "stdout",
     "output_type": "stream",
     "text": [
      "6\n",
      "0\n"
     ]
    }
   ],
   "source": [
    "def basics_3(a,b,c):\n",
    "    \"\"\"\n",
    "    Finds and returns the sum of given numbers a,b,c.\n",
    "    However, if two of then are equal, returns zero.\n",
    "    \"\"\"\n",
    "    if not is_number(a) and is_number(b) and is_number(c):\n",
    "        raise TypeError(\"a, b or c is not a number\")\n",
    "    if a != b and b != c and a != c:\n",
    "        return a + b + c\n",
    "    else:\n",
    "        return 0\n",
    "    \n",
    "print(basics_3(1, 2, 3))\n",
    "print(basics_3(1, 2, 2))"
   ]
  },
  {
   "cell_type": "code",
   "execution_count": 6,
   "metadata": {},
   "outputs": [
    {
     "name": "stdout",
     "output_type": "stream",
     "text": [
      "5.0\n"
     ]
    }
   ],
   "source": [
    "import math\n",
    "\n",
    "def basics_4(x1, y1, x2, y2):\n",
    "    \"\"\"Finds and returns the distance between points (x1,y1) and (x2,y2) in a euclidian plane.\"\"\"\n",
    "    if not is_number(x1) and is_number(y1) and is_number(x2) and is_number(y2):\n",
    "        raise TypeError(\"Wrong point format\")\n",
    "    return math.sqrt((x1-x2)**2 + (y1-y2)**2)\n",
    "\n",
    "print(basics_4(0, 0, 3, 4))"
   ]
  },
  {
   "cell_type": "code",
   "execution_count": 7,
   "metadata": {},
   "outputs": [
    {
     "name": "stdout",
     "output_type": "stream",
     "text": [
      "3\n",
      "3\n"
     ]
    }
   ],
   "source": [
    "def basics_5_1(a,b):\n",
    "    \"\"\"Finds and returns the GCD (greatest common divisor) of two numbers a and b.\"\"\"\n",
    "    if not is_number(a) and is_number(b):\n",
    "        raise TypeError(\"a or b is not a number\")\n",
    "    while a != 0 and b != 0:\n",
    "        if a > b:\n",
    "            a = a % b\n",
    "        else:\n",
    "            b = b % a\n",
    "    return a + b\n",
    "    \n",
    "def basics_5_2(a, b):\n",
    "    return math.gcd(a, b)\n",
    "\n",
    "print(basics_5_1(3, 6))\n",
    "print(basics_5_2(3, 6))"
   ]
  },
  {
   "cell_type": "code",
   "execution_count": 8,
   "metadata": {},
   "outputs": [
    {
     "name": "stdout",
     "output_type": "stream",
     "text": [
      "15\n"
     ]
    }
   ],
   "source": [
    "def basics_6(x):\n",
    "    \"\"\"Calculates the sum of digits in a number.\"\"\"\n",
    "    if not is_number(x):\n",
    "        raise TypeError(\"x is not a number\")\n",
    "    result = 0\n",
    "    while x > 0:\n",
    "        result += x % 10\n",
    "        x //= 10\n",
    "    return result\n",
    "\n",
    "print(basics_6(12345))"
   ]
  },
  {
   "cell_type": "code",
   "execution_count": 9,
   "metadata": {},
   "outputs": [
    {
     "data": {
      "text/plain": [
       "8"
      ]
     },
     "execution_count": 9,
     "metadata": {},
     "output_type": "execute_result"
    }
   ],
   "source": [
    "import multiprocessing\n",
    "\n",
    "def basics_7():\n",
    "    \"\"\"Returns number of CPUs using.\"\"\"\n",
    "    return multiprocessing.cpu_count()\n",
    "\n",
    "basics_7()"
   ]
  },
  {
   "cell_type": "code",
   "execution_count": 10,
   "metadata": {},
   "outputs": [
    {
     "data": {
      "text/plain": [
       "(5, 1)"
      ]
     },
     "execution_count": 10,
     "metadata": {},
     "output_type": "execute_result"
    }
   ],
   "source": [
    "def basics_8(x, y):\n",
    "    \"\"\"Swaps x and y and return them as a tuple.\"\"\"\n",
    "    x, y = y, x\n",
    "    return x, y\n",
    "\n",
    "basics_8(1, 5)"
   ]
  },
  {
   "cell_type": "code",
   "execution_count": 11,
   "metadata": {},
   "outputs": [
    {
     "name": "stdout",
     "output_type": "stream",
     "text": [
      "dbca\n",
      "abcd\n"
     ]
    }
   ],
   "source": [
    "def is_string(s):\n",
    "    return type(s) == str\n",
    "\n",
    "def strings_1(s):\n",
    "    \"\"\"Returns new string with first and last symbol of original string swapped.\"\"\"\n",
    "    if not is_string(s):\n",
    "        raise TypeError(\"Argument is not a string\")\n",
    "    return s[-1] + s[1:-1] + s[0]\n",
    "    \n",
    "s = \"abcd\"\n",
    "print(strings_1(s))\n",
    "print(s)"
   ]
  },
  {
   "cell_type": "code",
   "execution_count": 13,
   "metadata": {},
   "outputs": [
    {
     "data": {
      "text/plain": [
       "\"yvjzmsy'yirdm\""
      ]
     },
     "execution_count": 13,
     "metadata": {},
     "output_type": "execute_result"
    }
   ],
   "source": [
    "def strings_2(s):\n",
    "    \"\"\"Returns a string without symbols at odd positions.\"\"\"\n",
    "    if not is_string(s):\n",
    "        raise TypeError(\"Argument is not a string\")\n",
    "    return s[1::2]\n",
    "    \n",
    "strings_2(\"My vyjdzem scyl'nymi radami\")"
   ]
  },
  {
   "cell_type": "code",
   "execution_count": 29,
   "metadata": {},
   "outputs": [
    {
     "name": "stdout",
     "output_type": "stream",
     "text": [
      "aBoBa\n",
      "ABOBA\n",
      "aboba\n"
     ]
    }
   ],
   "source": [
    "def strings_3():\n",
    "    \"\"\"Takes input from the user and displays that input back in upper and lower cases.\"\"\"\n",
    "    s = input()\n",
    "    print(s.upper())\n",
    "    print(s.lower())\n",
    "    \n",
    "strings_3()"
   ]
  },
  {
   "cell_type": "code",
   "execution_count": 13,
   "metadata": {},
   "outputs": [
    {
     "name": "stdout",
     "output_type": "stream",
     "text": [
      "Sajuz nerusymy respublic svabodnych\n",
      "SAJUZ NERUSYMY RESPUBLIC SVABODNYCH\n"
     ]
    }
   ],
   "source": [
    "def strings_4(s):\n",
    "    \"\"\"Converts a given string to all uppercase if it contains at least 2 uppercase characters in the first 4 characters.\"\"\"\n",
    "    if not is_string(s):\n",
    "        raise TypeError(\"Argument is not a string\")\n",
    "    counter = 0\n",
    "    for symb in s[:4]:\n",
    "        if symb.isupper():\n",
    "            counter += 1\n",
    "    if counter >= 2:\n",
    "        return s.upper()\n",
    "    return s\n",
    "\n",
    "print(strings_4(\"Sajuz nerusymy respublic svabodnych\"))\n",
    "print(strings_4(\"SajUz nerusymy respublic svabodnych\"))"
   ]
  },
  {
   "cell_type": "code",
   "execution_count": 14,
   "metadata": {},
   "outputs": [
    {
     "name": "stdout",
     "output_type": "stream",
     "text": [
      "aaaaaaaaaaaaaaaaaaaaaaaaaaaaaaaaaaaaaaaaaaaaaaaaaa\n",
      "aaaaaaaaaaaaaaaaaaaaaaaaaaaaaaaaaaaaaaaaaaaaaaaaaa\n"
     ]
    }
   ],
   "source": [
    "import textwrap\n",
    "    \n",
    "def strings_5(s):\n",
    "    \"\"\"Formats input string making new string width 50.\"\"\"\n",
    "    if not is_string(s):\n",
    "        raise TypeError(\"Argument is not a string\")\n",
    "    print(textwrap.fill(s, width=50))\n",
    "\n",
    "strings_5(\"aaaaaaaaaaaaaaaaaaaaaaaaaaaaaaaaaaaaaaaaaaaaaaaaaaaaaaaaaaaaaaaaaaaaaaaaaaaaaaaaaaaaaaaaaaaaaaaaaaaa\")"
   ]
  },
  {
   "cell_type": "code",
   "execution_count": 15,
   "metadata": {},
   "outputs": [
    {
     "name": "stdout",
     "output_type": "stream",
     "text": [
      "I514\n",
      "I514\n",
      "A555\n",
      "R163\n",
      "R163\n",
      "R150\n",
      "A261\n",
      "A261\n",
      "T522\n"
     ]
    }
   ],
   "source": [
    "soundex_map = {\n",
    "    'b':1, 'p':1, 'f':1, 'v':1, \n",
    "    'c':2, 'k':2, 's':2, 'g':2, 'j':2, 'q':2, 'x':2, 'z':2,                 \n",
    "    'd':3, 't':3,    \n",
    "    'l':4,    \n",
    "    'm':5, 'n':5,    \n",
    "    'r':6\n",
    "}\n",
    "\n",
    "def strings_6(s):\n",
    "    \"\"\"Converts string into Soundex index.\"\"\"\n",
    "    if not is_string(s):\n",
    "        raise TypeError(\"Argument is not a string\")\n",
    "    res = s[0].upper()\n",
    "    prev_symbol_code = 0\n",
    "    for curr_char in s.lower()[1:]:\n",
    "        code = soundex_map.get(curr_char)\n",
    "        if code is not None and code != prev_symbol_code:\n",
    "            res += str(code)\n",
    "            prev_symbol_code = code\n",
    "        elif curr_char != 'h' and curr_char != 'w':\n",
    "            prev_symbol_code = 0\n",
    "    while len(res) < 4:\n",
    "        res += \"0\"\n",
    "    return res[:4]         \n",
    "\n",
    "print(strings_6(\"implementation\"))\n",
    "print(strings_6(\"immplementation\"))\n",
    "print(strings_6(\"ammonium\"))\n",
    "print(strings_6(\"Rupert\"))\n",
    "print(strings_6(\"Robert\"))\n",
    "print(strings_6(\"Rubin\"))\n",
    "print(strings_6(\"Ashcraft\"))\n",
    "print(strings_6(\"Ashcroft\"))\n",
    "print(strings_6(\"Tymczak\"))"
   ]
  },
  {
   "cell_type": "code",
   "execution_count": 16,
   "metadata": {},
   "outputs": [
    {
     "data": {
      "text/plain": [
       "'     amogus'"
      ]
     },
     "execution_count": 16,
     "metadata": {},
     "output_type": "execute_result"
    }
   ],
   "source": [
    "def strings_7(s):\n",
    "    \"\"\"Returns a new string where all whitespaces are moved to the beginning of the new string.\"\"\"\n",
    "    if not is_string(s):\n",
    "        raise TypeError(\"Argument is not a string\")\n",
    "    s_no_whitespaces = [char for char in s if char != ' ']\n",
    "    whitespaces_count = len(s) - len(s_no_whitespaces)\n",
    "    return ' '*whitespaces_count + \"\".join(s_no_whitespaces)\n",
    "\n",
    "strings_7(\"a m o g u s\")"
   ]
  },
  {
   "cell_type": "code",
   "execution_count": null,
   "metadata": {},
   "outputs": [],
   "source": []
  },
  {
   "cell_type": "code",
   "execution_count": null,
   "metadata": {},
   "outputs": [],
   "source": []
  },
  {
   "cell_type": "code",
   "execution_count": null,
   "metadata": {},
   "outputs": [],
   "source": []
  }
 ],
 "metadata": {
  "kernelspec": {
   "display_name": "Python 3",
   "language": "python",
   "name": "python3"
  },
  "language_info": {
   "codemirror_mode": {
    "name": "ipython",
    "version": 3
   },
   "file_extension": ".py",
   "mimetype": "text/x-python",
   "name": "python",
   "nbconvert_exporter": "python",
   "pygments_lexer": "ipython3",
   "version": "3.8.8"
  }
 },
 "nbformat": 4,
 "nbformat_minor": 4
}
