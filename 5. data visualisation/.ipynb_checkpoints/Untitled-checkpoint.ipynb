{
 "cells": [
  {
   "cell_type": "code",
   "execution_count": 26,
   "id": "7d3ffe58",
   "metadata": {},
   "outputs": [
    {
     "name": "stdout",
     "output_type": "stream",
     "text": [
      "USAGE_AREA\n",
      "Countryside        2941.875794\n",
      "Local Towns        3294.882621\n",
      "Minsk              3815.740551\n",
      "Mix                2717.282456\n",
      "Regional Cities    4135.622432\n",
      "Undefined            74.460462\n",
      "Name: mean, dtype: float64\n",
      "3490.882014894025\n"
     ]
    },
    {
     "data": {
      "text/plain": [
       "26"
      ]
     },
     "execution_count": 26,
     "metadata": {},
     "output_type": "execute_result"
    }
   ],
   "source": [
    "import numpy as np\n",
    "import pandas as pd\n",
    "\n",
    "pd.__version__\n",
    "\n",
    "df1 = pd.read_csv('train.csv', ';')\n",
    "df2 = pd.read_csv('test.csv', ';')\n",
    "df = pd.concat([df1, df2])\n",
    "# Lets check average internet traffic spent by internet usage region stats\n",
    "\n",
    "# vis\n",
    "\n",
    "print(df.groupby(['USAGE_AREA'])['GPRS_NOV_16'].describe()['mean'].add(\n",
    "        df.groupby(['USAGE_AREA'])['GPRS_OCT_16'].describe()['mean']\n",
    "    )\n",
    ")\n",
    "print(df.groupby(['USAGE_AREA'])['GPRS_NOV_16'].describe()['mean'].add(\n",
    "        df.groupby(['USAGE_AREA'])['GPRS_OCT_16'].describe()['mean']\n",
    "    )[1:-1].mean()\n",
    ")\n",
    "\n",
    "df.shape[1]\n",
    "# An obvious conclusion: people in Minsk and regional cities use\n",
    "# more mobile internet in average than anyone else in spite of \n",
    "# the fact that the more city develops, the more internet\n",
    "# technologies are being integrated in everyone's life."
   ]
  },
  {
   "cell_type": "code",
   "execution_count": 15,
   "id": "77f42a07",
   "metadata": {},
   "outputs": [
    {
     "data": {
      "text/plain": [
       "USAGE_AREA   TP_CHANGES_NUM\n",
       "Countryside  0.0               3203\n",
       "             1.0                449\n",
       "             2.0                 91\n",
       "             3.0                 21\n",
       "             4.0                  4\n",
       "                               ... \n",
       "Undefined    1.0                124\n",
       "             2.0                 23\n",
       "             3.0                  5\n",
       "             5.0                  1\n",
       "             8.0                  1\n",
       "Name: TP_CHANGES_NUM, Length: 74, dtype: int64"
      ]
     },
     "execution_count": 15,
     "metadata": {},
     "output_type": "execute_result"
    }
   ],
   "source": [
    "# Check tariff planes changes by regions\n",
    "\n",
    "df.groupby(['USAGE_AREA'])['TP_CHANGES_NUM'].value_counts()#['Minsk']"
   ]
  },
  {
   "cell_type": "code",
   "execution_count": 16,
   "id": "6e730b04",
   "metadata": {},
   "outputs": [
    {
     "data": {
      "text/plain": [
       "USAGE_AREA       OFFER_GROUP\n",
       "Local Towns      Standard       5572\n",
       "Minsk            Standard       4603\n",
       "Mix              Standard       4473\n",
       "Regional Cities  Standard       3289\n",
       "Minsk            Promo          2883\n",
       "Local Towns      Promo          2667\n",
       "Mix              Promo          2381\n",
       "Countryside      Standard       2255\n",
       "Regional Cities  Promo          1718\n",
       "Undefined        Standard       1216\n",
       "Countryside      Promo           985\n",
       "Undefined        Promo           254\n",
       "Name: OFFER_GROUP, dtype: int64"
      ]
     },
     "execution_count": 16,
     "metadata": {},
     "output_type": "execute_result"
    }
   ],
   "source": [
    "df.groupby(['USAGE_AREA'])['OFFER_GROUP'].value_counts().sort_values(ascending=False)"
   ]
  },
  {
   "cell_type": "code",
   "execution_count": 17,
   "id": "d8771935",
   "metadata": {},
   "outputs": [
    {
     "data": {
      "text/plain": [
       "OUTGOING_NOV_16\n",
       "0.000000        0.402032\n",
       "0.166667        0.000826\n",
       "1.000000        0.000785\n",
       "0.033333        0.000744\n",
       "0.016667        0.000702\n",
       "                  ...   \n",
       "135.600000      0.000041\n",
       "135.550000      0.000041\n",
       "135.466667      0.000041\n",
       "135.433333      0.000041\n",
       "45962.000000    0.000041\n",
       "Name: OUTGOING_NOV_16, Length: 9910, dtype: float64"
      ]
     },
     "execution_count": 17,
     "metadata": {},
     "output_type": "execute_result"
    }
   ],
   "source": [
    "df.groupby(['GENDER'])['OUTGOING_NOV_16'].value_counts(normalize=True)['M'].sort_values(ascending=False)"
   ]
  },
  {
   "cell_type": "code",
   "execution_count": 18,
   "id": "d70dc24c",
   "metadata": {},
   "outputs": [
    {
     "data": {
      "text/plain": [
       "GENDER\n",
       "F    1620.640954\n",
       "M    1702.449043\n",
       "Name: OUTGOING_NOV_16, dtype: float64"
      ]
     },
     "execution_count": 18,
     "metadata": {},
     "output_type": "execute_result"
    }
   ],
   "source": [
    "df.groupby(['GENDER']).agg('OUTGOING_NOV_16').mean()"
   ]
  },
  {
   "cell_type": "code",
   "execution_count": 82,
   "id": "7c9b7460",
   "metadata": {},
   "outputs": [
    {
     "data": {
      "text/plain": [
       "GENDER\n",
       "F    3096.873092\n",
       "M    3262.877724\n",
       "dtype: float64"
      ]
     },
     "execution_count": 82,
     "metadata": {},
     "output_type": "execute_result"
    }
   ],
   "source": [
    "# Despite the common joke that women are chatterboxes, men talk more often mothly in general\n",
    "# vis\n",
    "\n",
    "df.groupby(['GENDER']).agg('OUTGOING_NOV_16').mean().add(df.groupby(['GENDER']).agg('OUTGOING_OCT_16').mean())"
   ]
  },
  {
   "cell_type": "code",
   "execution_count": 34,
   "id": "c5175611",
   "metadata": {},
   "outputs": [
    {
     "data": {
      "text/plain": [
       "DEVICE_TYPE_BUS\n",
       "Smartphone      23915\n",
       "Undefined       11348\n",
       "Handset          8411\n",
       "Modem/Router     2506\n",
       "Tablet           1508\n",
       "Other             453\n",
       "Name: GENDER, dtype: int64"
      ]
     },
     "execution_count": 34,
     "metadata": {},
     "output_type": "execute_result"
    }
   ],
   "source": [
    "# Some data about sim-cards usage\n",
    "\n",
    "# vis\n",
    "\n",
    "df.groupby(['DEVICE_TYPE_BUS'])['GENDER'].agg('count').sort_values(ascending=False)"
   ]
  },
  {
   "cell_type": "code",
   "execution_count": 21,
   "id": "35903e8b",
   "metadata": {},
   "outputs": [
    {
     "data": {
      "text/plain": [
       "TP_3GM      2153\n",
       "TP_CRTBL     239\n",
       "TP_DL012      47\n",
       "TP_FREE       22\n",
       "TP_XS         17\n",
       "TP_XL         15\n",
       "TP_MNEW        5\n",
       "TP_SNEW        5\n",
       "TP_INTER       5\n",
       "TP_ANDR        5\n",
       "TP_L           4\n",
       "TP_STP         3\n",
       "TP_LNEW        3\n",
       "TP_M           3\n",
       "TP_XXL         2\n",
       "TP_OPENL       2\n",
       "TP_SUPN        1\n",
       "TP_TLKTV       1\n",
       "TP_STATE       1\n",
       "TP_DINAM       1\n",
       "Name: TP_CURRENT, dtype: int64"
      ]
     },
     "execution_count": 21,
     "metadata": {},
     "output_type": "execute_result"
    }
   ],
   "source": [
    "# vis\n",
    "\n",
    "df[df['DEVICE_TYPE_BUS'] == 'Modem/Router']['TP_CURRENT'].value_counts()"
   ]
  },
  {
   "cell_type": "code",
   "execution_count": 22,
   "id": "98b986f0",
   "metadata": {},
   "outputs": [
    {
     "data": {
      "text/plain": [
       "1.0    1245\n",
       "Name: OBLIG_NUM, dtype: int64"
      ]
     },
     "execution_count": 22,
     "metadata": {},
     "output_type": "execute_result"
    }
   ],
   "source": [
    "df[df['DEVICE_TYPE_BUS'] == 'Modem/Router']['OBLIG_NUM'].value_counts()"
   ]
  },
  {
   "cell_type": "code",
   "execution_count": 23,
   "id": "666356e7",
   "metadata": {},
   "outputs": [
    {
     "data": {
      "text/plain": [
       "DEVICE_TYPE_BUS  USAGE_AREA     \n",
       "Smartphone       Minsk              6100\n",
       "                 Local Towns        6038\n",
       "                 Mix                5560\n",
       "                 Regional Cities    3501\n",
       "Handset          Local Towns        2179\n",
       "Smartphone       Countryside        1854\n",
       "Handset          Mix                1711\n",
       "                 Minsk              1495\n",
       "                 Countryside        1191\n",
       "                 Regional Cities    1161\n",
       "Undefined        Undefined           970\n",
       "Modem/Router     Local Towns         698\n",
       "                 Regional Cities     601\n",
       "                 Minsk               583\n",
       "Undefined        Minsk               517\n",
       "                 Local Towns         492\n",
       "Smartphone       Undefined           436\n",
       "Handset          Undefined           415\n",
       "Undefined        Mix                 379\n",
       "Tablet           Minsk               371\n",
       "                 Local Towns         357\n",
       "Undefined        Regional Cities     341\n",
       "Modem/Router     Countryside         296\n",
       "Tablet           Regional Cities     278\n",
       "                 Mix                 259\n",
       "Undefined        Countryside         224\n",
       "Modem/Router     Mix                 222\n",
       "Tablet           Countryside         145\n",
       "Other            Mix                 111\n",
       "                 Local Towns          93\n",
       "                 Minsk                88\n",
       "                 Countryside          66\n",
       "                 Regional Cities      56\n",
       "Tablet           Undefined            30\n",
       "Modem/Router     Undefined            22\n",
       "Other            Undefined            19\n",
       "Name: USAGE_AREA, dtype: int64"
      ]
     },
     "execution_count": 23,
     "metadata": {},
     "output_type": "execute_result"
    }
   ],
   "source": [
    "df.groupby(['DEVICE_TYPE_BUS'])['USAGE_AREA'].value_counts().sort_values(ascending=False)"
   ]
  },
  {
   "cell_type": "code",
   "execution_count": 24,
   "id": "bc1dcfea",
   "metadata": {},
   "outputs": [
    {
     "name": "stdout",
     "output_type": "stream",
     "text": [
      "Smartphone    131\n",
      "Tablet          2\n",
      "Name: ASSET_TYPE_LAST, dtype: int64\n"
     ]
    },
    {
     "data": {
      "text/plain": [
       "2.007518796992481"
      ]
     },
     "execution_count": 24,
     "metadata": {},
     "output_type": "execute_result"
    }
   ],
   "source": [
    "print(df[df['OBLIG_NUM'] > 1]['ASSET_TYPE_LAST'].value_counts())\n",
    "df[df['OBLIG_NUM'] > 1]['OBLIG_NUM'].mean()"
   ]
  },
  {
   "cell_type": "code",
   "execution_count": 48,
   "id": "29f52317",
   "metadata": {},
   "outputs": [
    {
     "data": {
      "text/plain": [
       "USAGE_AREA       OFFER_GROUP\n",
       "Countryside      Standard       0.695988\n",
       "                 Promo          0.304012\n",
       "Local Towns      Standard       0.676296\n",
       "                 Promo          0.323704\n",
       "Minsk            Standard       0.614881\n",
       "                 Promo          0.385119\n",
       "Mix              Standard       0.652612\n",
       "                 Promo          0.347388\n",
       "Regional Cities  Standard       0.656880\n",
       "                 Promo          0.343120\n",
       "Undefined        Standard       0.827211\n",
       "                 Promo          0.172789\n",
       "Name: OFFER_GROUP, dtype: float64"
      ]
     },
     "execution_count": 48,
     "metadata": {},
     "output_type": "execute_result"
    }
   ],
   "source": [
    "df[df['USAGE_AREA'] == 'Countryside']['OFFER_GROUP'].value_counts()\n",
    "df.groupby(['USAGE_AREA'])['OFFER_GROUP'].value_counts(normalize=True)"
   ]
  },
  {
   "cell_type": "code",
   "execution_count": 68,
   "id": "3edac9d5",
   "metadata": {},
   "outputs": [
    {
     "data": {
      "text/plain": [
       "Promo       1608\n",
       "Standard     634\n",
       "Name: OFFER_GROUP, dtype: int64"
      ]
     },
     "execution_count": 68,
     "metadata": {},
     "output_type": "execute_result"
    }
   ],
   "source": [
    "# vis\n",
    "\n",
    "df[df['PORTED_IN'] == True]['OFFER_GROUP'].value_counts()"
   ]
  },
  {
   "cell_type": "code",
   "execution_count": 69,
   "id": "7513b204",
   "metadata": {},
   "outputs": [
    {
     "data": {
      "text/plain": [
       "Standard    26956\n",
       "Promo       13089\n",
       "Name: OFFER_GROUP, dtype: int64"
      ]
     },
     "execution_count": 69,
     "metadata": {},
     "output_type": "execute_result"
    }
   ],
   "source": [
    "df['OFFER_GROUP'].value_counts()"
   ]
  },
  {
   "cell_type": "code",
   "execution_count": 88,
   "id": "0341f16b",
   "metadata": {},
   "outputs": [
    {
     "data": {
      "text/plain": [
       "2888"
      ]
     },
     "execution_count": 88,
     "metadata": {},
     "output_type": "execute_result"
    }
   ],
   "source": []
  }
 ],
 "metadata": {
  "kernelspec": {
   "display_name": "Python 3",
   "language": "python",
   "name": "python3"
  },
  "language_info": {
   "codemirror_mode": {
    "name": "ipython",
    "version": 3
   },
   "file_extension": ".py",
   "mimetype": "text/x-python",
   "name": "python",
   "nbconvert_exporter": "python",
   "pygments_lexer": "ipython3",
   "version": "3.8.8"
  }
 },
 "nbformat": 4,
 "nbformat_minor": 5
}
