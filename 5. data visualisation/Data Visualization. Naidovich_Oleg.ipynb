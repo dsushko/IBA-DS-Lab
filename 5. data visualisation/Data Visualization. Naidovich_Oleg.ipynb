{
 "cells": [
  {
   "cell_type": "markdown",
   "id": "b61211db",
   "metadata": {},
   "source": [
    "# Telephone operators and their subscribers \n",
    "    author: Oleg Naidovich\n",
    "\n",
    "**TO DO LIST**\n",
    "\n",
    "Total for the task from you is expected:\n",
    "\n",
    "1. 5 different visualizations on Matplotlib that not only show various dependencies, but from which certain conclusions can be drawn.\n",
    "\n",
    "2. 5 different visualizations on Seaborn that not only show various dependencies, but from which certain conclusions can be drawn.\n",
    "\n",
    "3. Visualization conclusions are required!\n",
    "\n",
    "4. 5 different visualizations on Plotly that not only show various dependencies, but from which certain conclusions can be drawn.\n",
    "\n",
    "Definitely drawing any plots is it good task. But the way I see it, it is better to make some Exploratory Data Analysis on every drawn charts.\n",
    "\n",
    "\n",
    "In order to understand our data, we can look at each variable and try to understand their meaning and relevance to this problem. I will not rewrite them into this kernel as our task is just to draw plots\n",
    "\n",
    "\n",
    "My strategy is really simple. As far as I know, for better understanding the problem and in order to make a \"good\" EDA, you need to follow the next 2 points:\n",
    "\n",
    "1. <b>Univariable analysis</b>. We'll just focus on the dependent variable and try to know a little bit more about it.\n",
    "2. <b>Multivariate analysis</b>. We'll try to understand how the dependent variable and independent variables relate.\n",
    "\n",
    "I will work only with train data since working with a real business problem we will not have test datasets."
   ]
  },
  {
   "cell_type": "code",
   "execution_count": 4,
   "id": "a5236a03",
   "metadata": {
    "ExecuteTime": {
     "end_time": "2021-07-13T07:56:20.609596Z",
     "start_time": "2021-07-13T07:56:20.584676Z"
    }
   },
   "outputs": [],
   "source": [
    "# import all needable libraries\n",
    "import pandas as pd\n",
    "import numpy as np\n",
    "\n",
    "import matplotlib\n",
    "import matplotlib.pyplot as plt\n",
    "%matplotlib inline\n",
    "import seaborn as sns\n",
    " \n",
    "import warnings\n",
    "warnings.filterwarnings('ignore')"
   ]
  },
  {
   "cell_type": "code",
   "execution_count": 5,
   "id": "70e6849a",
   "metadata": {
    "ExecuteTime": {
     "end_time": "2021-07-13T07:56:21.146662Z",
     "start_time": "2021-07-13T07:56:21.021175Z"
    }
   },
   "outputs": [],
   "source": [
    "df = pd.read_csv(\"train.csv\", sep=\";\", index_col=\"USER_ID\")"
   ]
  },
  {
   "cell_type": "code",
   "execution_count": 19,
   "id": "51cd321e",
   "metadata": {
    "ExecuteTime": {
     "end_time": "2021-07-13T07:56:21.241163Z",
     "start_time": "2021-07-13T07:56:21.175337Z"
    }
   },
   "outputs": [
    {
     "data": {
      "text/html": [
       "<div>\n",
       "<style scoped>\n",
       "    .dataframe tbody tr th:only-of-type {\n",
       "        vertical-align: middle;\n",
       "    }\n",
       "\n",
       "    .dataframe tbody tr th {\n",
       "        vertical-align: top;\n",
       "    }\n",
       "\n",
       "    .dataframe thead th {\n",
       "        text-align: right;\n",
       "    }\n",
       "</style>\n",
       "<table border=\"1\" class=\"dataframe\">\n",
       "  <thead>\n",
       "    <tr style=\"text-align: right;\">\n",
       "      <th></th>\n",
       "      <th>TP_CHANGES_NUM</th>\n",
       "      <th>OBLIG_NUM</th>\n",
       "      <th>REFILL_OCT_16</th>\n",
       "      <th>REFILL_NOV_16</th>\n",
       "      <th>OUTGOING_OCT_16</th>\n",
       "      <th>OUTGOING_NOV_16</th>\n",
       "      <th>GPRS_OCT_16</th>\n",
       "      <th>GPRS_NOV_16</th>\n",
       "      <th>REVENUE_OCT_16</th>\n",
       "      <th>REVENUE_NOV_16</th>\n",
       "      <th>ACTIVITY_DEC_16</th>\n",
       "    </tr>\n",
       "  </thead>\n",
       "  <tbody>\n",
       "    <tr>\n",
       "      <th>count</th>\n",
       "      <td>29208.000000</td>\n",
       "      <td>5061.000000</td>\n",
       "      <td>2.615500e+04</td>\n",
       "      <td>2.615500e+04</td>\n",
       "      <td>26842.000000</td>\n",
       "      <td>26842.000000</td>\n",
       "      <td>26842.000000</td>\n",
       "      <td>26842.000000</td>\n",
       "      <td>2.853000e+04</td>\n",
       "      <td>2.853000e+04</td>\n",
       "      <td>29208.000000</td>\n",
       "    </tr>\n",
       "    <tr>\n",
       "      <th>mean</th>\n",
       "      <td>0.220590</td>\n",
       "      <td>1.016598</td>\n",
       "      <td>6.620111e+04</td>\n",
       "      <td>6.829325e+04</td>\n",
       "      <td>1563.411709</td>\n",
       "      <td>1659.444453</td>\n",
       "      <td>1392.883094</td>\n",
       "      <td>1451.735936</td>\n",
       "      <td>1.484167e+04</td>\n",
       "      <td>1.412569e+04</td>\n",
       "      <td>0.692858</td>\n",
       "    </tr>\n",
       "    <tr>\n",
       "      <th>std</th>\n",
       "      <td>0.733727</td>\n",
       "      <td>0.129308</td>\n",
       "      <td>1.056678e+05</td>\n",
       "      <td>1.271965e+05</td>\n",
       "      <td>7557.356615</td>\n",
       "      <td>7760.582005</td>\n",
       "      <td>4490.800790</td>\n",
       "      <td>4632.314967</td>\n",
       "      <td>5.538099e+04</td>\n",
       "      <td>4.936772e+04</td>\n",
       "      <td>0.461317</td>\n",
       "    </tr>\n",
       "    <tr>\n",
       "      <th>min</th>\n",
       "      <td>0.000000</td>\n",
       "      <td>1.000000</td>\n",
       "      <td>0.000000e+00</td>\n",
       "      <td>0.000000e+00</td>\n",
       "      <td>0.000000</td>\n",
       "      <td>0.000000</td>\n",
       "      <td>0.000000</td>\n",
       "      <td>0.000000</td>\n",
       "      <td>0.000000e+00</td>\n",
       "      <td>0.000000e+00</td>\n",
       "      <td>0.000000</td>\n",
       "    </tr>\n",
       "    <tr>\n",
       "      <th>25%</th>\n",
       "      <td>0.000000</td>\n",
       "      <td>1.000000</td>\n",
       "      <td>0.000000e+00</td>\n",
       "      <td>0.000000e+00</td>\n",
       "      <td>0.000000</td>\n",
       "      <td>0.000000</td>\n",
       "      <td>0.000000</td>\n",
       "      <td>0.000000</td>\n",
       "      <td>0.000000e+00</td>\n",
       "      <td>0.000000e+00</td>\n",
       "      <td>0.000000</td>\n",
       "    </tr>\n",
       "    <tr>\n",
       "      <th>50%</th>\n",
       "      <td>0.000000</td>\n",
       "      <td>1.000000</td>\n",
       "      <td>3.000000e+04</td>\n",
       "      <td>3.000000e+04</td>\n",
       "      <td>28.675000</td>\n",
       "      <td>30.333333</td>\n",
       "      <td>0.000000</td>\n",
       "      <td>0.000000</td>\n",
       "      <td>1.360000e+01</td>\n",
       "      <td>1.172247e+01</td>\n",
       "      <td>1.000000</td>\n",
       "    </tr>\n",
       "    <tr>\n",
       "      <th>75%</th>\n",
       "      <td>0.000000</td>\n",
       "      <td>1.000000</td>\n",
       "      <td>1.000000e+05</td>\n",
       "      <td>1.000000e+05</td>\n",
       "      <td>197.895833</td>\n",
       "      <td>198.683333</td>\n",
       "      <td>1002.000000</td>\n",
       "      <td>1027.000000</td>\n",
       "      <td>3.034800e+04</td>\n",
       "      <td>2.983000e+04</td>\n",
       "      <td>1.000000</td>\n",
       "    </tr>\n",
       "    <tr>\n",
       "      <th>max</th>\n",
       "      <td>36.000000</td>\n",
       "      <td>3.000000</td>\n",
       "      <td>3.860000e+06</td>\n",
       "      <td>7.000000e+06</td>\n",
       "      <td>45992.000000</td>\n",
       "      <td>45992.000000</td>\n",
       "      <td>85339.000000</td>\n",
       "      <td>81504.000000</td>\n",
       "      <td>2.678416e+06</td>\n",
       "      <td>2.781535e+06</td>\n",
       "      <td>1.000000</td>\n",
       "    </tr>\n",
       "  </tbody>\n",
       "</table>\n",
       "</div>"
      ],
      "text/plain": [
       "       TP_CHANGES_NUM    OBLIG_NUM  REFILL_OCT_16  REFILL_NOV_16  \\\n",
       "count    29208.000000  5061.000000   2.615500e+04   2.615500e+04   \n",
       "mean         0.220590     1.016598   6.620111e+04   6.829325e+04   \n",
       "std          0.733727     0.129308   1.056678e+05   1.271965e+05   \n",
       "min          0.000000     1.000000   0.000000e+00   0.000000e+00   \n",
       "25%          0.000000     1.000000   0.000000e+00   0.000000e+00   \n",
       "50%          0.000000     1.000000   3.000000e+04   3.000000e+04   \n",
       "75%          0.000000     1.000000   1.000000e+05   1.000000e+05   \n",
       "max         36.000000     3.000000   3.860000e+06   7.000000e+06   \n",
       "\n",
       "       OUTGOING_OCT_16  OUTGOING_NOV_16   GPRS_OCT_16   GPRS_NOV_16  \\\n",
       "count     26842.000000     26842.000000  26842.000000  26842.000000   \n",
       "mean       1563.411709      1659.444453   1392.883094   1451.735936   \n",
       "std        7557.356615      7760.582005   4490.800790   4632.314967   \n",
       "min           0.000000         0.000000      0.000000      0.000000   \n",
       "25%           0.000000         0.000000      0.000000      0.000000   \n",
       "50%          28.675000        30.333333      0.000000      0.000000   \n",
       "75%         197.895833       198.683333   1002.000000   1027.000000   \n",
       "max       45992.000000     45992.000000  85339.000000  81504.000000   \n",
       "\n",
       "       REVENUE_OCT_16  REVENUE_NOV_16  ACTIVITY_DEC_16  \n",
       "count    2.853000e+04    2.853000e+04     29208.000000  \n",
       "mean     1.484167e+04    1.412569e+04         0.692858  \n",
       "std      5.538099e+04    4.936772e+04         0.461317  \n",
       "min      0.000000e+00    0.000000e+00         0.000000  \n",
       "25%      0.000000e+00    0.000000e+00         0.000000  \n",
       "50%      1.360000e+01    1.172247e+01         1.000000  \n",
       "75%      3.034800e+04    2.983000e+04         1.000000  \n",
       "max      2.678416e+06    2.781535e+06         1.000000  "
      ]
     },
     "execution_count": 19,
     "metadata": {},
     "output_type": "execute_result"
    }
   ],
   "source": [
    "df.describe()"
   ]
  },
  {
   "cell_type": "code",
   "execution_count": 20,
   "id": "da1cf910",
   "metadata": {
    "ExecuteTime": {
     "end_time": "2021-07-13T07:56:21.349906Z",
     "start_time": "2021-07-13T07:56:21.326935Z"
    }
   },
   "outputs": [
    {
     "data": {
      "text/plain": [
       "Index(['ACT_DATE', 'STATUS', 'TP_CURRENT', 'TP_CHANGES_NUM', 'START_PACK',\n",
       "       'OFFER_GROUP', 'BIRTHDAY', 'GENDER', 'MLLS_STATE', 'PORTED_IN',\n",
       "       'PORTED_OUT', 'OBLIG_NUM', 'OBLIG_ON_START', 'ASSET_TYPE_LAST',\n",
       "       'DEVICE_TYPE_BUS', 'USAGE_AREA', 'REFILL_OCT_16', 'REFILL_NOV_16',\n",
       "       'OUTGOING_OCT_16', 'OUTGOING_NOV_16', 'GPRS_OCT_16', 'GPRS_NOV_16',\n",
       "       'REVENUE_OCT_16', 'REVENUE_NOV_16', 'ACTIVITY_DEC_16'],\n",
       "      dtype='object')"
      ]
     },
     "execution_count": 20,
     "metadata": {},
     "output_type": "execute_result"
    }
   ],
   "source": [
    "df.columns"
   ]
  },
  {
   "cell_type": "code",
   "execution_count": 21,
   "id": "541712e5",
   "metadata": {
    "ExecuteTime": {
     "end_time": "2021-07-13T07:56:21.476566Z",
     "start_time": "2021-07-13T07:56:21.439633Z"
    }
   },
   "outputs": [
    {
     "name": "stdout",
     "output_type": "stream",
     "text": [
      "<class 'pandas.core.frame.DataFrame'>\n",
      "Int64Index: 29208 entries, 6925431 to 22174783\n",
      "Data columns (total 25 columns):\n",
      " #   Column           Non-Null Count  Dtype  \n",
      "---  ------           --------------  -----  \n",
      " 0   ACT_DATE         29208 non-null  object \n",
      " 1   STATUS           29208 non-null  object \n",
      " 2   TP_CURRENT       29208 non-null  object \n",
      " 3   TP_CHANGES_NUM   29208 non-null  float64\n",
      " 4   START_PACK       23796 non-null  object \n",
      " 5   OFFER_GROUP      23796 non-null  object \n",
      " 6   BIRTHDAY         25278 non-null  object \n",
      " 7   GENDER           28600 non-null  object \n",
      " 8   MLLS_STATE       4789 non-null   object \n",
      " 9   PORTED_IN        29208 non-null  bool   \n",
      " 10  PORTED_OUT       29208 non-null  bool   \n",
      " 11  OBLIG_NUM        5061 non-null   float64\n",
      " 12  OBLIG_ON_START   29208 non-null  bool   \n",
      " 13  ASSET_TYPE_LAST  9281 non-null   object \n",
      " 14  DEVICE_TYPE_BUS  29208 non-null  object \n",
      " 15  USAGE_AREA       23067 non-null  object \n",
      " 16  REFILL_OCT_16    26155 non-null  float64\n",
      " 17  REFILL_NOV_16    26155 non-null  float64\n",
      " 18  OUTGOING_OCT_16  26842 non-null  float64\n",
      " 19  OUTGOING_NOV_16  26842 non-null  float64\n",
      " 20  GPRS_OCT_16      26842 non-null  float64\n",
      " 21  GPRS_NOV_16      26842 non-null  float64\n",
      " 22  REVENUE_OCT_16   28530 non-null  float64\n",
      " 23  REVENUE_NOV_16   28530 non-null  float64\n",
      " 24  ACTIVITY_DEC_16  29208 non-null  int64  \n",
      "dtypes: bool(3), float64(10), int64(1), object(11)\n",
      "memory usage: 5.2+ MB\n"
     ]
    }
   ],
   "source": [
    "df.info()"
   ]
  },
  {
   "cell_type": "code",
   "execution_count": 22,
   "id": "fc5cac35",
   "metadata": {
    "ExecuteTime": {
     "end_time": "2021-07-13T07:56:23.260404Z",
     "start_time": "2021-07-13T07:56:23.231512Z"
    }
   },
   "outputs": [],
   "source": [
    "# I want to divide numerical and categorical features in order to make some magical visualisation\n",
    "continious_features = df.select_dtypes('number').columns\n",
    "categorical_features = df.select_dtypes(np.object).columns"
   ]
  },
  {
   "cell_type": "markdown",
   "id": "d1cc2b32",
   "metadata": {},
   "source": [
    "Okay, I'll let myself draw some scary graphs. Please don't judge me for this. I do this only in order to better understand the picture of data with which I work."
   ]
  },
  {
   "cell_type": "code",
   "execution_count": 23,
   "id": "23b6c74f",
   "metadata": {
    "ExecuteTime": {
     "end_time": "2021-07-13T06:28:36.556935Z",
     "start_time": "2021-07-13T06:28:30.688243Z"
    }
   },
   "outputs": [
    {
     "data": {
      "image/png": "[encoded data removed]",
      "text/plain": [
       "<Figure size 1440x2520 with 12 Axes>"
      ]
     },
     "metadata": {
      "needs_background": "light"
     },
     "output_type": "display_data"
    }
   ],
   "source": [
    "fig, axs = plt.subplots(6, 2, figsize=(20,35))\n",
    "\n",
    "for key, val in enumerate(continious_features):\n",
    "    sns.distplot(a=df[val], hist=True, kde=True, ax=axs[key // 2][key % 2])"
   ]
  },
  {
   "cell_type": "code",
   "execution_count": 24,
   "id": "021a55bb",
   "metadata": {
    "ExecuteTime": {
     "end_time": "2021-07-13T06:28:37.640004Z",
     "start_time": "2021-07-13T06:28:36.558912Z"
    }
   },
   "outputs": [
    {
     "data": {
      "image/png": "[encoded data removed]",
      "text/plain": [
       "<Figure size 1080x1800 with 12 Axes>"
      ]
     },
     "metadata": {
      "needs_background": "light"
     },
     "output_type": "display_data"
    }
   ],
   "source": [
    "fig, axs = plt.subplots(6, 2, figsize=(15,25))\n",
    "\n",
    "for key, val in enumerate(continious_features):\n",
    "    sns.boxplot(x=df[val], ax=axs[key // 2][key % 2])\n"
   ]
  },
  {
   "cell_type": "code",
   "execution_count": 25,
   "id": "9e6ea43c",
   "metadata": {
    "ExecuteTime": {
     "end_time": "2021-07-13T06:31:02.552380Z",
     "start_time": "2021-07-13T06:28:37.642995Z"
    },
    "scrolled": false
   },
   "outputs": [
    {
     "ename": "KeyboardInterrupt",
     "evalue": "",
     "output_type": "error",
     "traceback": [
      "\u001b[1;31m---------------------------------------------------------------------------\u001b[0m",
      "\u001b[1;31mKeyboardInterrupt\u001b[0m                         Traceback (most recent call last)",
      "\u001b[1;32m<ipython-input-25-e2960fb38bfb>\u001b[0m in \u001b[0;36m<module>\u001b[1;34m\u001b[0m\n\u001b[0;32m     11\u001b[0m         \u001b[0mtick\u001b[0m\u001b[1;33m.\u001b[0m\u001b[0mset_rotation\u001b[0m\u001b[1;33m(\u001b[0m\u001b[1;36m90\u001b[0m\u001b[1;33m)\u001b[0m\u001b[1;33m\u001b[0m\u001b[1;33m\u001b[0m\u001b[0m\n\u001b[0;32m     12\u001b[0m \u001b[1;33m\u001b[0m\u001b[0m\n\u001b[1;32m---> 13\u001b[1;33m \u001b[0mplt\u001b[0m\u001b[1;33m.\u001b[0m\u001b[0mshow\u001b[0m\u001b[1;33m(\u001b[0m\u001b[1;33m)\u001b[0m\u001b[1;33m\u001b[0m\u001b[1;33m\u001b[0m\u001b[0m\n\u001b[0m",
      "\u001b[1;32mD:\\anaconda\\lib\\site-packages\\matplotlib\\pyplot.py\u001b[0m in \u001b[0;36mshow\u001b[1;34m(*args, **kwargs)\u001b[0m\n\u001b[0;32m    351\u001b[0m     \"\"\"\n\u001b[0;32m    352\u001b[0m     \u001b[0m_warn_if_gui_out_of_main_thread\u001b[0m\u001b[1;33m(\u001b[0m\u001b[1;33m)\u001b[0m\u001b[1;33m\u001b[0m\u001b[1;33m\u001b[0m\u001b[0m\n\u001b[1;32m--> 353\u001b[1;33m     \u001b[1;32mreturn\u001b[0m \u001b[0m_backend_mod\u001b[0m\u001b[1;33m.\u001b[0m\u001b[0mshow\u001b[0m\u001b[1;33m(\u001b[0m\u001b[1;33m*\u001b[0m\u001b[0margs\u001b[0m\u001b[1;33m,\u001b[0m \u001b[1;33m**\u001b[0m\u001b[0mkwargs\u001b[0m\u001b[1;33m)\u001b[0m\u001b[1;33m\u001b[0m\u001b[1;33m\u001b[0m\u001b[0m\n\u001b[0m\u001b[0;32m    354\u001b[0m \u001b[1;33m\u001b[0m\u001b[0m\n\u001b[0;32m    355\u001b[0m \u001b[1;33m\u001b[0m\u001b[0m\n",
      "\u001b[1;32mD:\\anaconda\\lib\\site-packages\\ipykernel\\pylab\\backend_inline.py\u001b[0m in \u001b[0;36mshow\u001b[1;34m(close, block)\u001b[0m\n\u001b[0;32m     39\u001b[0m     \u001b[1;32mtry\u001b[0m\u001b[1;33m:\u001b[0m\u001b[1;33m\u001b[0m\u001b[1;33m\u001b[0m\u001b[0m\n\u001b[0;32m     40\u001b[0m         \u001b[1;32mfor\u001b[0m \u001b[0mfigure_manager\u001b[0m \u001b[1;32min\u001b[0m \u001b[0mGcf\u001b[0m\u001b[1;33m.\u001b[0m\u001b[0mget_all_fig_managers\u001b[0m\u001b[1;33m(\u001b[0m\u001b[1;33m)\u001b[0m\u001b[1;33m:\u001b[0m\u001b[1;33m\u001b[0m\u001b[1;33m\u001b[0m\u001b[0m\n\u001b[1;32m---> 41\u001b[1;33m             display(\n\u001b[0m\u001b[0;32m     42\u001b[0m                 \u001b[0mfigure_manager\u001b[0m\u001b[1;33m.\u001b[0m\u001b[0mcanvas\u001b[0m\u001b[1;33m.\u001b[0m\u001b[0mfigure\u001b[0m\u001b[1;33m,\u001b[0m\u001b[1;33m\u001b[0m\u001b[1;33m\u001b[0m\u001b[0m\n\u001b[0;32m     43\u001b[0m                 \u001b[0mmetadata\u001b[0m\u001b[1;33m=\u001b[0m\u001b[0m_fetch_figure_metadata\u001b[0m\u001b[1;33m(\u001b[0m\u001b[0mfigure_manager\u001b[0m\u001b[1;33m.\u001b[0m\u001b[0mcanvas\u001b[0m\u001b[1;33m.\u001b[0m\u001b[0mfigure\u001b[0m\u001b[1;33m)\u001b[0m\u001b[1;33m\u001b[0m\u001b[1;33m\u001b[0m\u001b[0m\n",
      "\u001b[1;32mD:\\anaconda\\lib\\site-packages\\IPython\\core\\display.py\u001b[0m in \u001b[0;36mdisplay\u001b[1;34m(include, exclude, metadata, transient, display_id, *objs, **kwargs)\u001b[0m\n\u001b[0;32m    311\u001b[0m             \u001b[0mpublish_display_data\u001b[0m\u001b[1;33m(\u001b[0m\u001b[0mdata\u001b[0m\u001b[1;33m=\u001b[0m\u001b[0mobj\u001b[0m\u001b[1;33m,\u001b[0m \u001b[0mmetadata\u001b[0m\u001b[1;33m=\u001b[0m\u001b[0mmetadata\u001b[0m\u001b[1;33m,\u001b[0m \u001b[1;33m**\u001b[0m\u001b[0mkwargs\u001b[0m\u001b[1;33m)\u001b[0m\u001b[1;33m\u001b[0m\u001b[1;33m\u001b[0m\u001b[0m\n\u001b[0;32m    312\u001b[0m         \u001b[1;32melse\u001b[0m\u001b[1;33m:\u001b[0m\u001b[1;33m\u001b[0m\u001b[1;33m\u001b[0m\u001b[0m\n\u001b[1;32m--> 313\u001b[1;33m             \u001b[0mformat_dict\u001b[0m\u001b[1;33m,\u001b[0m \u001b[0mmd_dict\u001b[0m \u001b[1;33m=\u001b[0m \u001b[0mformat\u001b[0m\u001b[1;33m(\u001b[0m\u001b[0mobj\u001b[0m\u001b[1;33m,\u001b[0m \u001b[0minclude\u001b[0m\u001b[1;33m=\u001b[0m\u001b[0minclude\u001b[0m\u001b[1;33m,\u001b[0m \u001b[0mexclude\u001b[0m\u001b[1;33m=\u001b[0m\u001b[0mexclude\u001b[0m\u001b[1;33m)\u001b[0m\u001b[1;33m\u001b[0m\u001b[1;33m\u001b[0m\u001b[0m\n\u001b[0m\u001b[0;32m    314\u001b[0m             \u001b[1;32mif\u001b[0m \u001b[1;32mnot\u001b[0m \u001b[0mformat_dict\u001b[0m\u001b[1;33m:\u001b[0m\u001b[1;33m\u001b[0m\u001b[1;33m\u001b[0m\u001b[0m\n\u001b[0;32m    315\u001b[0m                 \u001b[1;31m# nothing to display (e.g. _ipython_display_ took over)\u001b[0m\u001b[1;33m\u001b[0m\u001b[1;33m\u001b[0m\u001b[1;33m\u001b[0m\u001b[0m\n",
      "\u001b[1;32mD:\\anaconda\\lib\\site-packages\\IPython\\core\\formatters.py\u001b[0m in \u001b[0;36mformat\u001b[1;34m(self, obj, include, exclude)\u001b[0m\n\u001b[0;32m    178\u001b[0m             \u001b[0mmd\u001b[0m \u001b[1;33m=\u001b[0m \u001b[1;32mNone\u001b[0m\u001b[1;33m\u001b[0m\u001b[1;33m\u001b[0m\u001b[0m\n\u001b[0;32m    179\u001b[0m             \u001b[1;32mtry\u001b[0m\u001b[1;33m:\u001b[0m\u001b[1;33m\u001b[0m\u001b[1;33m\u001b[0m\u001b[0m\n\u001b[1;32m--> 180\u001b[1;33m                 \u001b[0mdata\u001b[0m \u001b[1;33m=\u001b[0m \u001b[0mformatter\u001b[0m\u001b[1;33m(\u001b[0m\u001b[0mobj\u001b[0m\u001b[1;33m)\u001b[0m\u001b[1;33m\u001b[0m\u001b[1;33m\u001b[0m\u001b[0m\n\u001b[0m\u001b[0;32m    181\u001b[0m             \u001b[1;32mexcept\u001b[0m\u001b[1;33m:\u001b[0m\u001b[1;33m\u001b[0m\u001b[1;33m\u001b[0m\u001b[0m\n\u001b[0;32m    182\u001b[0m                 \u001b[1;31m# FIXME: log the exception\u001b[0m\u001b[1;33m\u001b[0m\u001b[1;33m\u001b[0m\u001b[1;33m\u001b[0m\u001b[0m\n",
      "\u001b[1;32mD:\\anaconda\\lib\\site-packages\\decorator.py\u001b[0m in \u001b[0;36mfun\u001b[1;34m(*args, **kw)\u001b[0m\n\u001b[0;32m    229\u001b[0m             \u001b[1;32mif\u001b[0m \u001b[1;32mnot\u001b[0m \u001b[0mkwsyntax\u001b[0m\u001b[1;33m:\u001b[0m\u001b[1;33m\u001b[0m\u001b[1;33m\u001b[0m\u001b[0m\n\u001b[0;32m    230\u001b[0m                 \u001b[0margs\u001b[0m\u001b[1;33m,\u001b[0m \u001b[0mkw\u001b[0m \u001b[1;33m=\u001b[0m \u001b[0mfix\u001b[0m\u001b[1;33m(\u001b[0m\u001b[0margs\u001b[0m\u001b[1;33m,\u001b[0m \u001b[0mkw\u001b[0m\u001b[1;33m,\u001b[0m \u001b[0msig\u001b[0m\u001b[1;33m)\u001b[0m\u001b[1;33m\u001b[0m\u001b[1;33m\u001b[0m\u001b[0m\n\u001b[1;32m--> 231\u001b[1;33m             \u001b[1;32mreturn\u001b[0m \u001b[0mcaller\u001b[0m\u001b[1;33m(\u001b[0m\u001b[0mfunc\u001b[0m\u001b[1;33m,\u001b[0m \u001b[1;33m*\u001b[0m\u001b[1;33m(\u001b[0m\u001b[0mextras\u001b[0m \u001b[1;33m+\u001b[0m \u001b[0margs\u001b[0m\u001b[1;33m)\u001b[0m\u001b[1;33m,\u001b[0m \u001b[1;33m**\u001b[0m\u001b[0mkw\u001b[0m\u001b[1;33m)\u001b[0m\u001b[1;33m\u001b[0m\u001b[1;33m\u001b[0m\u001b[0m\n\u001b[0m\u001b[0;32m    232\u001b[0m     \u001b[0mfun\u001b[0m\u001b[1;33m.\u001b[0m\u001b[0m__name__\u001b[0m \u001b[1;33m=\u001b[0m \u001b[0mfunc\u001b[0m\u001b[1;33m.\u001b[0m\u001b[0m__name__\u001b[0m\u001b[1;33m\u001b[0m\u001b[1;33m\u001b[0m\u001b[0m\n\u001b[0;32m    233\u001b[0m     \u001b[0mfun\u001b[0m\u001b[1;33m.\u001b[0m\u001b[0m__doc__\u001b[0m \u001b[1;33m=\u001b[0m \u001b[0mfunc\u001b[0m\u001b[1;33m.\u001b[0m\u001b[0m__doc__\u001b[0m\u001b[1;33m\u001b[0m\u001b[1;33m\u001b[0m\u001b[0m\n",
      "\u001b[1;32mD:\\anaconda\\lib\\site-packages\\IPython\\core\\formatters.py\u001b[0m in \u001b[0;36mcatch_format_error\u001b[1;34m(method, self, *args, **kwargs)\u001b[0m\n\u001b[0;32m    222\u001b[0m     \u001b[1;34m\"\"\"show traceback on failed format call\"\"\"\u001b[0m\u001b[1;33m\u001b[0m\u001b[1;33m\u001b[0m\u001b[0m\n\u001b[0;32m    223\u001b[0m     \u001b[1;32mtry\u001b[0m\u001b[1;33m:\u001b[0m\u001b[1;33m\u001b[0m\u001b[1;33m\u001b[0m\u001b[0m\n\u001b[1;32m--> 224\u001b[1;33m         \u001b[0mr\u001b[0m \u001b[1;33m=\u001b[0m \u001b[0mmethod\u001b[0m\u001b[1;33m(\u001b[0m\u001b[0mself\u001b[0m\u001b[1;33m,\u001b[0m \u001b[1;33m*\u001b[0m\u001b[0margs\u001b[0m\u001b[1;33m,\u001b[0m \u001b[1;33m**\u001b[0m\u001b[0mkwargs\u001b[0m\u001b[1;33m)\u001b[0m\u001b[1;33m\u001b[0m\u001b[1;33m\u001b[0m\u001b[0m\n\u001b[0m\u001b[0;32m    225\u001b[0m     \u001b[1;32mexcept\u001b[0m \u001b[0mNotImplementedError\u001b[0m\u001b[1;33m:\u001b[0m\u001b[1;33m\u001b[0m\u001b[1;33m\u001b[0m\u001b[0m\n\u001b[0;32m    226\u001b[0m         \u001b[1;31m# don't warn on NotImplementedErrors\u001b[0m\u001b[1;33m\u001b[0m\u001b[1;33m\u001b[0m\u001b[1;33m\u001b[0m\u001b[0m\n",
      "\u001b[1;32mD:\\anaconda\\lib\\site-packages\\IPython\\core\\formatters.py\u001b[0m in \u001b[0;36m__call__\u001b[1;34m(self, obj)\u001b[0m\n\u001b[0;32m    339\u001b[0m                 \u001b[1;32mpass\u001b[0m\u001b[1;33m\u001b[0m\u001b[1;33m\u001b[0m\u001b[0m\n\u001b[0;32m    340\u001b[0m             \u001b[1;32melse\u001b[0m\u001b[1;33m:\u001b[0m\u001b[1;33m\u001b[0m\u001b[1;33m\u001b[0m\u001b[0m\n\u001b[1;32m--> 341\u001b[1;33m                 \u001b[1;32mreturn\u001b[0m \u001b[0mprinter\u001b[0m\u001b[1;33m(\u001b[0m\u001b[0mobj\u001b[0m\u001b[1;33m)\u001b[0m\u001b[1;33m\u001b[0m\u001b[1;33m\u001b[0m\u001b[0m\n\u001b[0m\u001b[0;32m    342\u001b[0m             \u001b[1;31m# Finally look for special method names\u001b[0m\u001b[1;33m\u001b[0m\u001b[1;33m\u001b[0m\u001b[1;33m\u001b[0m\u001b[0m\n\u001b[0;32m    343\u001b[0m             \u001b[0mmethod\u001b[0m \u001b[1;33m=\u001b[0m \u001b[0mget_real_method\u001b[0m\u001b[1;33m(\u001b[0m\u001b[0mobj\u001b[0m\u001b[1;33m,\u001b[0m \u001b[0mself\u001b[0m\u001b[1;33m.\u001b[0m\u001b[0mprint_method\u001b[0m\u001b[1;33m)\u001b[0m\u001b[1;33m\u001b[0m\u001b[1;33m\u001b[0m\u001b[0m\n",
      "\u001b[1;32mD:\\anaconda\\lib\\site-packages\\IPython\\core\\pylabtools.py\u001b[0m in \u001b[0;36m<lambda>\u001b[1;34m(fig)\u001b[0m\n\u001b[0;32m    246\u001b[0m \u001b[1;33m\u001b[0m\u001b[0m\n\u001b[0;32m    247\u001b[0m     \u001b[1;32mif\u001b[0m \u001b[1;34m'png'\u001b[0m \u001b[1;32min\u001b[0m \u001b[0mformats\u001b[0m\u001b[1;33m:\u001b[0m\u001b[1;33m\u001b[0m\u001b[1;33m\u001b[0m\u001b[0m\n\u001b[1;32m--> 248\u001b[1;33m         \u001b[0mpng_formatter\u001b[0m\u001b[1;33m.\u001b[0m\u001b[0mfor_type\u001b[0m\u001b[1;33m(\u001b[0m\u001b[0mFigure\u001b[0m\u001b[1;33m,\u001b[0m \u001b[1;32mlambda\u001b[0m \u001b[0mfig\u001b[0m\u001b[1;33m:\u001b[0m \u001b[0mprint_figure\u001b[0m\u001b[1;33m(\u001b[0m\u001b[0mfig\u001b[0m\u001b[1;33m,\u001b[0m \u001b[1;34m'png'\u001b[0m\u001b[1;33m,\u001b[0m \u001b[1;33m**\u001b[0m\u001b[0mkwargs\u001b[0m\u001b[1;33m)\u001b[0m\u001b[1;33m)\u001b[0m\u001b[1;33m\u001b[0m\u001b[1;33m\u001b[0m\u001b[0m\n\u001b[0m\u001b[0;32m    249\u001b[0m     \u001b[1;32mif\u001b[0m \u001b[1;34m'retina'\u001b[0m \u001b[1;32min\u001b[0m \u001b[0mformats\u001b[0m \u001b[1;32mor\u001b[0m \u001b[1;34m'png2x'\u001b[0m \u001b[1;32min\u001b[0m \u001b[0mformats\u001b[0m\u001b[1;33m:\u001b[0m\u001b[1;33m\u001b[0m\u001b[1;33m\u001b[0m\u001b[0m\n\u001b[0;32m    250\u001b[0m         \u001b[0mpng_formatter\u001b[0m\u001b[1;33m.\u001b[0m\u001b[0mfor_type\u001b[0m\u001b[1;33m(\u001b[0m\u001b[0mFigure\u001b[0m\u001b[1;33m,\u001b[0m \u001b[1;32mlambda\u001b[0m \u001b[0mfig\u001b[0m\u001b[1;33m:\u001b[0m \u001b[0mretina_figure\u001b[0m\u001b[1;33m(\u001b[0m\u001b[0mfig\u001b[0m\u001b[1;33m,\u001b[0m \u001b[1;33m**\u001b[0m\u001b[0mkwargs\u001b[0m\u001b[1;33m)\u001b[0m\u001b[1;33m)\u001b[0m\u001b[1;33m\u001b[0m\u001b[1;33m\u001b[0m\u001b[0m\n",
      "\u001b[1;32mD:\\anaconda\\lib\\site-packages\\IPython\\core\\pylabtools.py\u001b[0m in \u001b[0;36mprint_figure\u001b[1;34m(fig, fmt, bbox_inches, **kwargs)\u001b[0m\n\u001b[0;32m    130\u001b[0m         \u001b[0mFigureCanvasBase\u001b[0m\u001b[1;33m(\u001b[0m\u001b[0mfig\u001b[0m\u001b[1;33m)\u001b[0m\u001b[1;33m\u001b[0m\u001b[1;33m\u001b[0m\u001b[0m\n\u001b[0;32m    131\u001b[0m \u001b[1;33m\u001b[0m\u001b[0m\n\u001b[1;32m--> 132\u001b[1;33m     \u001b[0mfig\u001b[0m\u001b[1;33m.\u001b[0m\u001b[0mcanvas\u001b[0m\u001b[1;33m.\u001b[0m\u001b[0mprint_figure\u001b[0m\u001b[1;33m(\u001b[0m\u001b[0mbytes_io\u001b[0m\u001b[1;33m,\u001b[0m \u001b[1;33m**\u001b[0m\u001b[0mkw\u001b[0m\u001b[1;33m)\u001b[0m\u001b[1;33m\u001b[0m\u001b[1;33m\u001b[0m\u001b[0m\n\u001b[0m\u001b[0;32m    133\u001b[0m     \u001b[0mdata\u001b[0m \u001b[1;33m=\u001b[0m \u001b[0mbytes_io\u001b[0m\u001b[1;33m.\u001b[0m\u001b[0mgetvalue\u001b[0m\u001b[1;33m(\u001b[0m\u001b[1;33m)\u001b[0m\u001b[1;33m\u001b[0m\u001b[1;33m\u001b[0m\u001b[0m\n\u001b[0;32m    134\u001b[0m     \u001b[1;32mif\u001b[0m \u001b[0mfmt\u001b[0m \u001b[1;33m==\u001b[0m \u001b[1;34m'svg'\u001b[0m\u001b[1;33m:\u001b[0m\u001b[1;33m\u001b[0m\u001b[1;33m\u001b[0m\u001b[0m\n",
      "\u001b[1;32mD:\\anaconda\\lib\\site-packages\\matplotlib\\backend_bases.py\u001b[0m in \u001b[0;36mprint_figure\u001b[1;34m(self, filename, dpi, facecolor, edgecolor, orientation, format, bbox_inches, pad_inches, bbox_extra_artists, backend, **kwargs)\u001b[0m\n\u001b[0;32m   2193\u001b[0m                         \u001b[0mself\u001b[0m\u001b[1;33m.\u001b[0m\u001b[0mfigure\u001b[0m\u001b[1;33m.\u001b[0m\u001b[0mdraw\u001b[0m\u001b[1;33m(\u001b[0m\u001b[0mrenderer\u001b[0m\u001b[1;33m)\u001b[0m\u001b[1;33m\u001b[0m\u001b[1;33m\u001b[0m\u001b[0m\n\u001b[0;32m   2194\u001b[0m \u001b[1;33m\u001b[0m\u001b[0m\n\u001b[1;32m-> 2195\u001b[1;33m                     bbox_inches = self.figure.get_tightbbox(\n\u001b[0m\u001b[0;32m   2196\u001b[0m                         renderer, bbox_extra_artists=bbox_extra_artists)\n\u001b[0;32m   2197\u001b[0m                     \u001b[1;32mif\u001b[0m \u001b[0mpad_inches\u001b[0m \u001b[1;32mis\u001b[0m \u001b[1;32mNone\u001b[0m\u001b[1;33m:\u001b[0m\u001b[1;33m\u001b[0m\u001b[1;33m\u001b[0m\u001b[0m\n",
      "\u001b[1;32mD:\\anaconda\\lib\\site-packages\\matplotlib\\figure.py\u001b[0m in \u001b[0;36mget_tightbbox\u001b[1;34m(self, renderer, bbox_extra_artists)\u001b[0m\n\u001b[0;32m   2513\u001b[0m                 \u001b[1;31m# need this conditional....\u001b[0m\u001b[1;33m\u001b[0m\u001b[1;33m\u001b[0m\u001b[1;33m\u001b[0m\u001b[0m\n\u001b[0;32m   2514\u001b[0m                 \u001b[1;32mtry\u001b[0m\u001b[1;33m:\u001b[0m\u001b[1;33m\u001b[0m\u001b[1;33m\u001b[0m\u001b[0m\n\u001b[1;32m-> 2515\u001b[1;33m                     bbox = ax.get_tightbbox(\n\u001b[0m\u001b[0;32m   2516\u001b[0m                         renderer, bbox_extra_artists=bbox_extra_artists)\n\u001b[0;32m   2517\u001b[0m                 \u001b[1;32mexcept\u001b[0m \u001b[0mTypeError\u001b[0m\u001b[1;33m:\u001b[0m\u001b[1;33m\u001b[0m\u001b[1;33m\u001b[0m\u001b[0m\n",
      "\u001b[1;32mD:\\anaconda\\lib\\site-packages\\matplotlib\\axes\\_base.py\u001b[0m in \u001b[0;36mget_tightbbox\u001b[1;34m(self, renderer, call_axes_locator, bbox_extra_artists, for_layout_only)\u001b[0m\n\u001b[0;32m   4167\u001b[0m                 \u001b[1;32mif\u001b[0m \u001b[0mbb_yaxis\u001b[0m\u001b[1;33m:\u001b[0m\u001b[1;33m\u001b[0m\u001b[1;33m\u001b[0m\u001b[0m\n\u001b[0;32m   4168\u001b[0m                     \u001b[0mbb\u001b[0m\u001b[1;33m.\u001b[0m\u001b[0mappend\u001b[0m\u001b[1;33m(\u001b[0m\u001b[0mbb_yaxis\u001b[0m\u001b[1;33m)\u001b[0m\u001b[1;33m\u001b[0m\u001b[1;33m\u001b[0m\u001b[0m\n\u001b[1;32m-> 4169\u001b[1;33m         \u001b[0mself\u001b[0m\u001b[1;33m.\u001b[0m\u001b[0m_update_title_position\u001b[0m\u001b[1;33m(\u001b[0m\u001b[0mrenderer\u001b[0m\u001b[1;33m)\u001b[0m\u001b[1;33m\u001b[0m\u001b[1;33m\u001b[0m\u001b[0m\n\u001b[0m\u001b[0;32m   4170\u001b[0m         \u001b[0maxbbox\u001b[0m \u001b[1;33m=\u001b[0m \u001b[0mself\u001b[0m\u001b[1;33m.\u001b[0m\u001b[0mget_window_extent\u001b[0m\u001b[1;33m(\u001b[0m\u001b[0mrenderer\u001b[0m\u001b[1;33m)\u001b[0m\u001b[1;33m\u001b[0m\u001b[1;33m\u001b[0m\u001b[0m\n\u001b[0;32m   4171\u001b[0m         \u001b[0mbb\u001b[0m\u001b[1;33m.\u001b[0m\u001b[0mappend\u001b[0m\u001b[1;33m(\u001b[0m\u001b[0maxbbox\u001b[0m\u001b[1;33m)\u001b[0m\u001b[1;33m\u001b[0m\u001b[1;33m\u001b[0m\u001b[0m\n",
      "\u001b[1;32mD:\\anaconda\\lib\\site-packages\\matplotlib\\axes\\_base.py\u001b[0m in \u001b[0;36m_update_title_position\u001b[1;34m(self, renderer)\u001b[0m\n\u001b[0;32m   2646\u001b[0m                 \u001b[0m_log\u001b[0m\u001b[1;33m.\u001b[0m\u001b[0mdebug\u001b[0m\u001b[1;33m(\u001b[0m\u001b[1;34m'top of axes not in the figure, so title not moved'\u001b[0m\u001b[1;33m)\u001b[0m\u001b[1;33m\u001b[0m\u001b[1;33m\u001b[0m\u001b[0m\n\u001b[0;32m   2647\u001b[0m                 \u001b[1;32mreturn\u001b[0m\u001b[1;33m\u001b[0m\u001b[1;33m\u001b[0m\u001b[0m\n\u001b[1;32m-> 2648\u001b[1;33m             \u001b[1;32mif\u001b[0m \u001b[0mtitle\u001b[0m\u001b[1;33m.\u001b[0m\u001b[0mget_window_extent\u001b[0m\u001b[1;33m(\u001b[0m\u001b[0mrenderer\u001b[0m\u001b[1;33m)\u001b[0m\u001b[1;33m.\u001b[0m\u001b[0mymin\u001b[0m \u001b[1;33m<\u001b[0m \u001b[0mtop\u001b[0m\u001b[1;33m:\u001b[0m\u001b[1;33m\u001b[0m\u001b[1;33m\u001b[0m\u001b[0m\n\u001b[0m\u001b[0;32m   2649\u001b[0m                 \u001b[0m_\u001b[0m\u001b[1;33m,\u001b[0m \u001b[0my\u001b[0m \u001b[1;33m=\u001b[0m \u001b[0mself\u001b[0m\u001b[1;33m.\u001b[0m\u001b[0mtransAxes\u001b[0m\u001b[1;33m.\u001b[0m\u001b[0minverted\u001b[0m\u001b[1;33m(\u001b[0m\u001b[1;33m)\u001b[0m\u001b[1;33m.\u001b[0m\u001b[0mtransform\u001b[0m\u001b[1;33m(\u001b[0m\u001b[1;33m(\u001b[0m\u001b[1;36m0\u001b[0m\u001b[1;33m,\u001b[0m \u001b[0mtop\u001b[0m\u001b[1;33m)\u001b[0m\u001b[1;33m)\u001b[0m\u001b[1;33m\u001b[0m\u001b[1;33m\u001b[0m\u001b[0m\n\u001b[0;32m   2650\u001b[0m                 \u001b[0mtitle\u001b[0m\u001b[1;33m.\u001b[0m\u001b[0mset_position\u001b[0m\u001b[1;33m(\u001b[0m\u001b[1;33m(\u001b[0m\u001b[0mx\u001b[0m\u001b[1;33m,\u001b[0m \u001b[0my\u001b[0m\u001b[1;33m)\u001b[0m\u001b[1;33m)\u001b[0m\u001b[1;33m\u001b[0m\u001b[1;33m\u001b[0m\u001b[0m\n",
      "\u001b[1;32mD:\\anaconda\\lib\\site-packages\\matplotlib\\text.py\u001b[0m in \u001b[0;36mget_window_extent\u001b[1;34m(self, renderer, dpi)\u001b[0m\n\u001b[0;32m    900\u001b[0m \u001b[1;33m\u001b[0m\u001b[0m\n\u001b[0;32m    901\u001b[0m         \u001b[1;32mwith\u001b[0m \u001b[0mcbook\u001b[0m\u001b[1;33m.\u001b[0m\u001b[0m_setattr_cm\u001b[0m\u001b[1;33m(\u001b[0m\u001b[0mself\u001b[0m\u001b[1;33m.\u001b[0m\u001b[0mfigure\u001b[0m\u001b[1;33m,\u001b[0m \u001b[0mdpi\u001b[0m\u001b[1;33m=\u001b[0m\u001b[0mdpi\u001b[0m\u001b[1;33m)\u001b[0m\u001b[1;33m:\u001b[0m\u001b[1;33m\u001b[0m\u001b[1;33m\u001b[0m\u001b[0m\n\u001b[1;32m--> 902\u001b[1;33m             \u001b[0mbbox\u001b[0m\u001b[1;33m,\u001b[0m \u001b[0minfo\u001b[0m\u001b[1;33m,\u001b[0m \u001b[0mdescent\u001b[0m \u001b[1;33m=\u001b[0m \u001b[0mself\u001b[0m\u001b[1;33m.\u001b[0m\u001b[0m_get_layout\u001b[0m\u001b[1;33m(\u001b[0m\u001b[0mself\u001b[0m\u001b[1;33m.\u001b[0m\u001b[0m_renderer\u001b[0m\u001b[1;33m)\u001b[0m\u001b[1;33m\u001b[0m\u001b[1;33m\u001b[0m\u001b[0m\n\u001b[0m\u001b[0;32m    903\u001b[0m             \u001b[0mx\u001b[0m\u001b[1;33m,\u001b[0m \u001b[0my\u001b[0m \u001b[1;33m=\u001b[0m \u001b[0mself\u001b[0m\u001b[1;33m.\u001b[0m\u001b[0mget_unitless_position\u001b[0m\u001b[1;33m(\u001b[0m\u001b[1;33m)\u001b[0m\u001b[1;33m\u001b[0m\u001b[1;33m\u001b[0m\u001b[0m\n\u001b[0;32m    904\u001b[0m             \u001b[0mx\u001b[0m\u001b[1;33m,\u001b[0m \u001b[0my\u001b[0m \u001b[1;33m=\u001b[0m \u001b[0mself\u001b[0m\u001b[1;33m.\u001b[0m\u001b[0mget_transform\u001b[0m\u001b[1;33m(\u001b[0m\u001b[1;33m)\u001b[0m\u001b[1;33m.\u001b[0m\u001b[0mtransform\u001b[0m\u001b[1;33m(\u001b[0m\u001b[1;33m(\u001b[0m\u001b[0mx\u001b[0m\u001b[1;33m,\u001b[0m \u001b[0my\u001b[0m\u001b[1;33m)\u001b[0m\u001b[1;33m)\u001b[0m\u001b[1;33m\u001b[0m\u001b[1;33m\u001b[0m\u001b[0m\n",
      "\u001b[1;32mD:\\anaconda\\lib\\site-packages\\matplotlib\\text.py\u001b[0m in \u001b[0;36m_get_layout\u001b[1;34m(self, renderer)\u001b[0m\n\u001b[0;32m    285\u001b[0m \u001b[1;33m\u001b[0m\u001b[0m\n\u001b[0;32m    286\u001b[0m         \u001b[1;31m# Full vertical extent of font, including ascenders and descenders:\u001b[0m\u001b[1;33m\u001b[0m\u001b[1;33m\u001b[0m\u001b[1;33m\u001b[0m\u001b[0m\n\u001b[1;32m--> 287\u001b[1;33m         _, lp_h, lp_d = renderer.get_text_width_height_descent(\n\u001b[0m\u001b[0;32m    288\u001b[0m             \u001b[1;34m\"lp\"\u001b[0m\u001b[1;33m,\u001b[0m \u001b[0mself\u001b[0m\u001b[1;33m.\u001b[0m\u001b[0m_fontproperties\u001b[0m\u001b[1;33m,\u001b[0m\u001b[1;33m\u001b[0m\u001b[1;33m\u001b[0m\u001b[0m\n\u001b[0;32m    289\u001b[0m             ismath=\"TeX\" if self.get_usetex() else False)\n",
      "\u001b[1;32mD:\\anaconda\\lib\\site-packages\\matplotlib\\backends\\backend_agg.py\u001b[0m in \u001b[0;36mget_text_width_height_descent\u001b[1;34m(self, s, prop, ismath)\u001b[0m\n\u001b[0;32m    235\u001b[0m \u001b[1;33m\u001b[0m\u001b[0m\n\u001b[0;32m    236\u001b[0m         \u001b[0mflags\u001b[0m \u001b[1;33m=\u001b[0m \u001b[0mget_hinting_flag\u001b[0m\u001b[1;33m(\u001b[0m\u001b[1;33m)\u001b[0m\u001b[1;33m\u001b[0m\u001b[1;33m\u001b[0m\u001b[0m\n\u001b[1;32m--> 237\u001b[1;33m         \u001b[0mfont\u001b[0m \u001b[1;33m=\u001b[0m \u001b[0mself\u001b[0m\u001b[1;33m.\u001b[0m\u001b[0m_get_agg_font\u001b[0m\u001b[1;33m(\u001b[0m\u001b[0mprop\u001b[0m\u001b[1;33m)\u001b[0m\u001b[1;33m\u001b[0m\u001b[1;33m\u001b[0m\u001b[0m\n\u001b[0m\u001b[0;32m    238\u001b[0m         \u001b[0mfont\u001b[0m\u001b[1;33m.\u001b[0m\u001b[0mset_text\u001b[0m\u001b[1;33m(\u001b[0m\u001b[0ms\u001b[0m\u001b[1;33m,\u001b[0m \u001b[1;36m0.0\u001b[0m\u001b[1;33m,\u001b[0m \u001b[0mflags\u001b[0m\u001b[1;33m=\u001b[0m\u001b[0mflags\u001b[0m\u001b[1;33m)\u001b[0m\u001b[1;33m\u001b[0m\u001b[1;33m\u001b[0m\u001b[0m\n\u001b[0;32m    239\u001b[0m         \u001b[0mw\u001b[0m\u001b[1;33m,\u001b[0m \u001b[0mh\u001b[0m \u001b[1;33m=\u001b[0m \u001b[0mfont\u001b[0m\u001b[1;33m.\u001b[0m\u001b[0mget_width_height\u001b[0m\u001b[1;33m(\u001b[0m\u001b[1;33m)\u001b[0m  \u001b[1;31m# width and height of unrotated string\u001b[0m\u001b[1;33m\u001b[0m\u001b[1;33m\u001b[0m\u001b[0m\n",
      "\u001b[1;32mD:\\anaconda\\lib\\site-packages\\matplotlib\\backends\\backend_agg.py\u001b[0m in \u001b[0;36m_get_agg_font\u001b[1;34m(self, prop)\u001b[0m\n\u001b[0;32m    270\u001b[0m         \u001b[0mGet\u001b[0m \u001b[0mthe\u001b[0m \u001b[0mfont\u001b[0m \u001b[1;32mfor\u001b[0m \u001b[0mtext\u001b[0m \u001b[0minstance\u001b[0m \u001b[0mt\u001b[0m\u001b[1;33m,\u001b[0m \u001b[0mcaching\u001b[0m \u001b[1;32mfor\u001b[0m \u001b[0mefficiency\u001b[0m\u001b[1;33m\u001b[0m\u001b[1;33m\u001b[0m\u001b[0m\n\u001b[0;32m    271\u001b[0m         \"\"\"\n\u001b[1;32m--> 272\u001b[1;33m         \u001b[0mfname\u001b[0m \u001b[1;33m=\u001b[0m \u001b[0mfindfont\u001b[0m\u001b[1;33m(\u001b[0m\u001b[0mprop\u001b[0m\u001b[1;33m)\u001b[0m\u001b[1;33m\u001b[0m\u001b[1;33m\u001b[0m\u001b[0m\n\u001b[0m\u001b[0;32m    273\u001b[0m         \u001b[0mfont\u001b[0m \u001b[1;33m=\u001b[0m \u001b[0mget_font\u001b[0m\u001b[1;33m(\u001b[0m\u001b[0mfname\u001b[0m\u001b[1;33m)\u001b[0m\u001b[1;33m\u001b[0m\u001b[1;33m\u001b[0m\u001b[0m\n\u001b[0;32m    274\u001b[0m \u001b[1;33m\u001b[0m\u001b[0m\n",
      "\u001b[1;32mD:\\anaconda\\lib\\site-packages\\matplotlib\\font_manager.py\u001b[0m in \u001b[0;36mfindfont\u001b[1;34m(self, prop, fontext, directory, fallback_to_default, rebuild_if_missing)\u001b[0m\n\u001b[0;32m   1312\u001b[0m             \u001b[0mprop\u001b[0m\u001b[1;33m,\u001b[0m \u001b[0mfontext\u001b[0m\u001b[1;33m,\u001b[0m \u001b[0mdirectory\u001b[0m\u001b[1;33m,\u001b[0m \u001b[0mfallback_to_default\u001b[0m\u001b[1;33m,\u001b[0m \u001b[0mrebuild_if_missing\u001b[0m\u001b[1;33m,\u001b[0m\u001b[1;33m\u001b[0m\u001b[1;33m\u001b[0m\u001b[0m\n\u001b[0;32m   1313\u001b[0m             rc_params)\n\u001b[1;32m-> 1314\u001b[1;33m         \u001b[1;32mreturn\u001b[0m \u001b[0mos\u001b[0m\u001b[1;33m.\u001b[0m\u001b[0mpath\u001b[0m\u001b[1;33m.\u001b[0m\u001b[0mrealpath\u001b[0m\u001b[1;33m(\u001b[0m\u001b[0mfilename\u001b[0m\u001b[1;33m)\u001b[0m\u001b[1;33m\u001b[0m\u001b[1;33m\u001b[0m\u001b[0m\n\u001b[0m\u001b[0;32m   1315\u001b[0m \u001b[1;33m\u001b[0m\u001b[0m\n\u001b[0;32m   1316\u001b[0m     \u001b[1;33m@\u001b[0m\u001b[0mlru_cache\u001b[0m\u001b[1;33m(\u001b[0m\u001b[1;33m)\u001b[0m\u001b[1;33m\u001b[0m\u001b[1;33m\u001b[0m\u001b[0m\n",
      "\u001b[1;32mD:\\anaconda\\lib\\ntpath.py\u001b[0m in \u001b[0;36mrealpath\u001b[1;34m(path)\u001b[0m\n\u001b[0;32m    645\u001b[0m             \u001b[0mpath\u001b[0m \u001b[1;33m=\u001b[0m \u001b[0mjoin\u001b[0m\u001b[1;33m(\u001b[0m\u001b[0mcwd\u001b[0m\u001b[1;33m,\u001b[0m \u001b[0mpath\u001b[0m\u001b[1;33m)\u001b[0m\u001b[1;33m\u001b[0m\u001b[1;33m\u001b[0m\u001b[0m\n\u001b[0;32m    646\u001b[0m         \u001b[1;32mtry\u001b[0m\u001b[1;33m:\u001b[0m\u001b[1;33m\u001b[0m\u001b[1;33m\u001b[0m\u001b[0m\n\u001b[1;32m--> 647\u001b[1;33m             \u001b[0mpath\u001b[0m \u001b[1;33m=\u001b[0m \u001b[0m_getfinalpathname\u001b[0m\u001b[1;33m(\u001b[0m\u001b[0mpath\u001b[0m\u001b[1;33m)\u001b[0m\u001b[1;33m\u001b[0m\u001b[1;33m\u001b[0m\u001b[0m\n\u001b[0m\u001b[0;32m    648\u001b[0m             \u001b[0minitial_winerror\u001b[0m \u001b[1;33m=\u001b[0m \u001b[1;36m0\u001b[0m\u001b[1;33m\u001b[0m\u001b[1;33m\u001b[0m\u001b[0m\n\u001b[0;32m    649\u001b[0m         \u001b[1;32mexcept\u001b[0m \u001b[0mOSError\u001b[0m \u001b[1;32mas\u001b[0m \u001b[0mex\u001b[0m\u001b[1;33m:\u001b[0m\u001b[1;33m\u001b[0m\u001b[1;33m\u001b[0m\u001b[0m\n",
      "\u001b[1;31mKeyboardInterrupt\u001b[0m: "
     ]
    }
   ],
   "source": [
    "fig, axs = plt.subplots(6, 2, figsize=(20, 40))\n",
    "\n",
    "for key, features in enumerate(categorical_features):\n",
    "    value_counts = df[features].value_counts()\n",
    "    x_pos = np.arange(0, len(value_counts))\n",
    "\n",
    "    axs[key // 2, key % 2].bar(x_pos, value_counts.values, tick_label=value_counts.index)\n",
    "    axs[key // 2, key % 2].set_title(features)\n",
    "\n",
    "    for tick in axs[key // 2, key % 2].get_xticklabels():\n",
    "        tick.set_rotation(90)\n",
    "\n",
    "plt.show()"
   ]
  },
  {
   "cell_type": "markdown",
   "id": "a057e942",
   "metadata": {},
   "source": [
    "\n",
    "\n",
    "Well now the pictures are much clearer. So now I can draw meaninful plots. Let's start!"
   ]
  },
  {
   "cell_type": "code",
   "execution_count": null,
   "id": "2e88c4bc",
   "metadata": {
    "ExecuteTime": {
     "end_time": "2021-07-13T06:31:02.663093Z",
     "start_time": "2021-07-13T06:31:02.555370Z"
    }
   },
   "outputs": [],
   "source": [
    "plt.rcParams[\"figure.figsize\"] = (6,6)\n",
    "plt.title('The type of subscriber’s connection')\n",
    "values = list(df[\"START_PACK\"].value_counts().values) \n",
    "labels = list(df[\"START_PACK\"].value_counts().index)\n",
    "# Create a pieplot\n",
    "plt.pie(values, labels=labels, wedgeprops = { 'linewidth' : 5, 'edgecolor' : 'white' }, autopct='%1.2f%%');\n",
    "plt.show();"
   ]
  },
  {
   "cell_type": "markdown",
   "id": "522922eb",
   "metadata": {},
   "source": [
    "**Pieplot**\n",
    "\n",
    "From this plot we can mention that Commercial connection is much more popular belong users."
   ]
  },
  {
   "cell_type": "code",
   "execution_count": null,
   "id": "965e9b44",
   "metadata": {
    "ExecuteTime": {
     "end_time": "2021-07-13T07:14:29.036496Z",
     "start_time": "2021-07-13T07:14:28.253836Z"
    }
   },
   "outputs": [],
   "source": [
    "# values = list(df[\"USAGE_AREA\"].value_counts().values) \n",
    "labels = list(df[\"USAGE_AREA\"].value_counts().index)\n",
    "plt.rcParams[\"figure.figsize\"] = (10,10)\n",
    "plt.title('The type of subscriber’s connection')\n",
    "# plot it\n",
    "squarify.plot(sizes=values, label=labels, alpha=.7,  )\n",
    "plt.axis('off')\n",
    "plt.show()"
   ]
  },
  {
   "cell_type": "markdown",
   "id": "e46bcf92",
   "metadata": {},
   "source": [
    "**Treemap**\n",
    "\n",
    "It is not so clear plot for understanding, but we can mention that Minsk and local towns are half of the total users. Maybe we can devide our data into 2 main groups: Towns and others (villages)."
   ]
  },
  {
   "cell_type": "code",
   "execution_count": null,
   "id": "c26c8c1a",
   "metadata": {
    "ExecuteTime": {
     "end_time": "2021-07-13T06:31:03.938656Z",
     "start_time": "2021-07-13T06:31:02.757928Z"
    }
   },
   "outputs": [],
   "source": [
    "f, ax  = plt.subplots(1, 2, figsize=(25, 10))\n",
    "matrix = np.triu(df[continious_features].corr())\n",
    "ax[0].set_title('kendall')\n",
    "ax[1].set_title('pearson')\n",
    "\n",
    "sns.heatmap(df[continious_features].corr(method='kendall'), ax = ax[0],\n",
    "            vmin=-1, vmax=1, cmap='coolwarm', annot=True, mask=matrix, cbar=False, )\n",
    "\n",
    "sns.heatmap(df[continious_features].corr(), vmin=-1, ax=ax[1],\n",
    "            vmax=1, cmap='coolwarm', annot=True, mask=matrix )\n",
    "plt.show()"
   ]
  },
  {
   "cell_type": "markdown",
   "id": "c8394e7a",
   "metadata": {},
   "source": [
    "**Heatmap**: There are a strong correlation between:\n",
    "\n",
    "* REVENUE_OCT_16 and REFILL_OCT_16\n",
    "\n",
    "* REVENUE_NOV_16 and REFILL_NOV_16\n",
    "\n",
    "It is obvious that this features correleted since people just replenish (пополняют) the account as much as the company debited from the subscriber's balance.\n",
    "\n",
    "Let's find some outlier from this fact!"
   ]
  },
  {
   "cell_type": "code",
   "execution_count": null,
   "id": "615aa1eb",
   "metadata": {
    "ExecuteTime": {
     "end_time": "2021-07-13T06:31:04.175567Z",
     "start_time": "2021-07-13T06:31:03.940652Z"
    }
   },
   "outputs": [],
   "source": [
    "fig, ax = plt.subplots(figsize=(8, 8))\n",
    "\n",
    "x = df['REFILL_OCT_16'].values\n",
    "y = df['REVENUE_OCT_16'].values\n",
    "ax.scatter(x, y, s=10)\n",
    "\n",
    "x = df['REFILL_NOV_16'].values\n",
    "y = df['REVENUE_NOV_16'].values\n",
    "ax.scatter(x, y, s=10)\n",
    "\n",
    "ax.set_title('Colleration REFILL and REVENUE')\n",
    "ax.set_xlabel('REFILL')\n",
    "ax.set_ylabel('REVENUE')\n",
    "ax.legend(('October', 'November'), loc='lower right', shadow=True)"
   ]
  },
  {
   "cell_type": "markdown",
   "id": "77aaeacc",
   "metadata": {},
   "source": [
    "**Scatter**\n",
    "\n",
    "As we can see, there is a linear relationship between REFILL and REVENUE features. Moreover, there are some outliers in october and november. Doing Multivariate analysis we can mention this fact, but with Univariable analysis we cannot.\n",
    "\n",
    "In the future, if we want to leant model (special for linear models), we have to deal with these outliers.\n",
    "\n",
    "We can also fill the gaps (REFILL or REVENUE) due to these correlation and linear relationship."
   ]
  },
  {
   "cell_type": "code",
   "execution_count": null,
   "id": "e8fea23b",
   "metadata": {
    "ExecuteTime": {
     "end_time": "2021-07-13T06:31:04.332579Z",
     "start_time": "2021-07-13T06:31:04.178512Z"
    }
   },
   "outputs": [],
   "source": [
    "values = list(df[\"STATUS\"].value_counts().values) \n",
    "labels = list(df[\"STATUS\"].value_counts().index)\n",
    "\n",
    "fig, ax = plt.subplots()\n",
    "\n",
    "y_pos = np.arange(len(labels))\n",
    "performance = 3 + 10 * np.random.rand(len(labels))\n",
    "\n",
    "ax.barh(y_pos, values, align='center')\n",
    "ax.set_yticks(y_pos)\n",
    "ax.set_yticklabels(labels)\n",
    "ax.invert_yaxis()  # labels read top-to-bottom\n",
    "ax.set_xlabel('Amount')\n",
    "ax.set_ylabel('Status')\n",
    "\n",
    "ax.set_title('Code of the current status of the subscriber')\n",
    "\n",
    "plt.show()"
   ]
  },
  {
   "cell_type": "markdown",
   "id": "4d76a21a",
   "metadata": {},
   "source": [
    "**Barh**\n",
    "\n",
    "From this plot we can mention that the number of D-status abonents in the majority. May be it is better to use binary transformation like: 1 is D, 0 is others. It will be useful for many algorithms when we will teach them."
   ]
  },
  {
   "cell_type": "code",
   "execution_count": null,
   "id": "efb960fa",
   "metadata": {
    "ExecuteTime": {
     "end_time": "2021-07-13T06:31:04.427844Z",
     "start_time": "2021-07-13T06:31:04.334569Z"
    }
   },
   "outputs": [],
   "source": [
    "# create data\n",
    "names = ['Active', 'Inactive']\n",
    "size = df[\"ACTIVITY_DEC_16\"].value_counts().values\n",
    "\n",
    "# Create a circle at the center of the plot\n",
    "my_circle = plt.Circle((0,0), 0.4, color='white')\n",
    "plt.title('Active and inactive users in December')\n",
    "plt.pie(size, labels=names, radius=1.2, wedgeprops = { 'linewidth' : 7, 'edgecolor' : 'white' }, autopct='%1.2f%%')\n",
    "p = plt.gcf()\n",
    "p.gca().add_artist(my_circle)\n",
    "plt.show()"
   ]
  },
  {
   "cell_type": "markdown",
   "id": "74c86705",
   "metadata": {},
   "source": [
    "**Donut**\n",
    "\n",
    "We do not have a description of this data in txt file. Nevertheless we can say that the number of active users in December is much more than negative."
   ]
  },
  {
   "cell_type": "code",
   "execution_count": null,
   "id": "09f0f7e9",
   "metadata": {
    "ExecuteTime": {
     "end_time": "2021-07-13T06:31:04.459463Z",
     "start_time": "2021-07-13T06:31:04.429848Z"
    }
   },
   "outputs": [],
   "source": [
    "df['PORTED_IN'].value_counts()"
   ]
  },
  {
   "cell_type": "code",
   "execution_count": null,
   "id": "0db827a2",
   "metadata": {
    "ExecuteTime": {
     "end_time": "2021-07-13T06:31:04.599865Z",
     "start_time": "2021-07-13T06:31:04.461458Z"
    }
   },
   "outputs": [],
   "source": [
    "df['PORTED_OUT'].value_counts()"
   ]
  },
  {
   "cell_type": "code",
   "execution_count": null,
   "id": "ac0d8b49",
   "metadata": {
    "ExecuteTime": {
     "end_time": "2021-07-13T06:31:04.677870Z",
     "start_time": "2021-07-13T06:31:04.602104Z"
    }
   },
   "outputs": [],
   "source": [
    "df['OBLIG_NUM'].value_counts()"
   ]
  },
  {
   "cell_type": "code",
   "execution_count": null,
   "id": "56175dca",
   "metadata": {
    "ExecuteTime": {
     "end_time": "2021-07-13T06:31:04.738459Z",
     "start_time": "2021-07-13T06:31:04.680865Z"
    }
   },
   "outputs": [],
   "source": [
    "df['OBLIG_ON_START'].value_counts()"
   ]
  },
  {
   "cell_type": "code",
   "execution_count": null,
   "id": "81eb8193",
   "metadata": {
    "ExecuteTime": {
     "end_time": "2021-07-13T06:31:04.785696Z",
     "start_time": "2021-07-13T06:31:04.740411Z"
    }
   },
   "outputs": [],
   "source": [
    "df['USAGE_AREA'].value_counts()"
   ]
  },
  {
   "cell_type": "code",
   "execution_count": null,
   "id": "d0b5a054",
   "metadata": {
    "ExecuteTime": {
     "end_time": "2021-07-13T06:31:04.863625Z",
     "start_time": "2021-07-13T06:31:04.787691Z"
    }
   },
   "outputs": [],
   "source": [
    "df['MLLS_STATE'].value_counts()"
   ]
  },
  {
   "cell_type": "code",
   "execution_count": null,
   "id": "67aeb65a",
   "metadata": {
    "ExecuteTime": {
     "end_time": "2021-07-13T06:31:05.252610Z",
     "start_time": "2021-07-13T06:31:04.865619Z"
    }
   },
   "outputs": [],
   "source": [
    "date = df[\"BIRTHDAY\"].astype(\"datetime64\")\n",
    "plt.xlabel('Birthday:')\n",
    "plt.ylabel('Amount of abonents:')\n",
    "plt.hist(date, bins=150)\n",
    "plt.show()"
   ]
  },
  {
   "cell_type": "markdown",
   "id": "8ff4440d",
   "metadata": {},
   "source": [
    "**Histogram**\n",
    "\n",
    "From this plot we can conclude that most of the abonents were born on the interval (1980-2000). Let's draw boxplots in order to see median, Q1 and Q3."
   ]
  },
  {
   "cell_type": "code",
   "execution_count": null,
   "id": "d346c8fd",
   "metadata": {
    "ExecuteTime": {
     "end_time": "2021-07-13T07:42:37.457183Z",
     "start_time": "2021-07-13T07:42:37.212510Z"
    }
   },
   "outputs": [],
   "source": [
    "data = df[\"BIRTHDAY\"].astype(\"datetime64\").dropna()\n",
    "data=pd.DatetimeIndex(data).year\n",
    "sns.boxplot(y=data)"
   ]
  },
  {
   "cell_type": "markdown",
   "id": "02cef03a",
   "metadata": {},
   "source": [
    "So it is much easier to see some outliers! We can delete it or just dont pay attantion."
   ]
  },
  {
   "cell_type": "code",
   "execution_count": null,
   "id": "acf6c931",
   "metadata": {
    "ExecuteTime": {
     "end_time": "2021-07-13T08:06:54.127960Z",
     "start_time": "2021-07-13T08:06:54.100040Z"
    }
   },
   "outputs": [],
   "source": [
    "data = df[\"BIRTHDAY\"].astype(\"datetime64\")\n",
    "df[\"Birth_year\"] = pd.DatetimeIndex(data).year"
   ]
  },
  {
   "cell_type": "code",
   "execution_count": null,
   "id": "ed7890fb",
   "metadata": {
    "ExecuteTime": {
     "end_time": "2021-07-13T06:31:05.652510Z",
     "start_time": "2021-07-13T06:31:05.425111Z"
    }
   },
   "outputs": [],
   "source": [
    "sns.violinplot(y=df[\"Birth_year\"])"
   ]
  },
  {
   "cell_type": "markdown",
   "id": "f20566a8",
   "metadata": {},
   "source": [
    "**Box plots and violin**\n",
    "\n",
    "There were boxplots. Now let's see the correlation between OUTGOING_OCT_16 == GPRS_OCT_16 and OUTGOING_NOV_16 == GPRS_NOV_16 "
   ]
  },
  {
   "cell_type": "code",
   "execution_count": null,
   "id": "fa8c921c",
   "metadata": {
    "ExecuteTime": {
     "end_time": "2021-07-13T06:31:59.678886Z",
     "start_time": "2021-07-13T06:31:05.654495Z"
    }
   },
   "outputs": [],
   "source": [
    "sns.jointplot(x=df['OUTGOING_OCT_16'], y=df['GPRS_OCT_16'], kind=\"kde\")"
   ]
  },
  {
   "cell_type": "markdown",
   "id": "8d4cda67",
   "metadata": {},
   "source": [
    "**jointplot**\n",
    "\n",
    "The lion part of our data lies in the small space"
   ]
  },
  {
   "cell_type": "code",
   "execution_count": null,
   "id": "fad3f8a4",
   "metadata": {
    "ExecuteTime": {
     "end_time": "2021-07-13T06:32:00.839800Z",
     "start_time": "2021-07-13T06:31:59.682903Z"
    }
   },
   "outputs": [],
   "source": [
    "sns.regplot(x=df['OUTGOING_OCT_16'], y=df['GPRS_OCT_16'],\n",
    "            line_kws={\"color\": \"r\", \"alpha\": 0.7, \"lw\": 5})\n",
    "plt.show()"
   ]
  },
  {
   "cell_type": "markdown",
   "id": "1433c6a6",
   "metadata": {},
   "source": []
  },
  {
   "cell_type": "code",
   "execution_count": null,
   "id": "e3eff667",
   "metadata": {
    "ExecuteTime": {
     "end_time": "2021-07-13T06:32:02.217662Z",
     "start_time": "2021-07-13T06:32:00.842793Z"
    }
   },
   "outputs": [],
   "source": [
    "sns.jointplot(x=df['OUTGOING_OCT_16'],\n",
    "              y=df['GPRS_OCT_16'], ax=ax, hue=df[\"GENDER\"])\n",
    "plt.gcf().set_size_inches(12, 12)"
   ]
  },
  {
   "cell_type": "markdown",
   "id": "7a85609c",
   "metadata": {
    "ExecuteTime": {
     "end_time": "2021-07-12T21:43:52.270820Z",
     "start_time": "2021-07-12T21:43:52.248879Z"
    }
   },
   "source": [
    "**regplot and jointplot**\n",
    "\n",
    "As it was expected, there is no correlation between OUTGOING_OCT_16 and GPRS_OCT_16 features. Moreover, there is no patterns between genderand this two features. Let's consider this fact with OUTGOING_NOV_16 and GPRS_NOV_16 params."
   ]
  },
  {
   "cell_type": "code",
   "execution_count": null,
   "id": "6b600261",
   "metadata": {
    "ExecuteTime": {
     "end_time": "2021-07-13T06:32:03.306695Z",
     "start_time": "2021-07-13T06:32:02.219606Z"
    }
   },
   "outputs": [],
   "source": [
    "sns.regplot(x=df['OUTGOING_NOV_16'], y=df['GPRS_NOV_16'],\n",
    "            line_kws={\"color\": \"r\", \"alpha\": 0.7, \"lw\": 5})\n",
    "plt.show()"
   ]
  },
  {
   "cell_type": "code",
   "execution_count": null,
   "id": "4de6ba94",
   "metadata": {
    "ExecuteTime": {
     "end_time": "2021-07-13T06:32:04.726901Z",
     "start_time": "2021-07-13T06:32:03.308690Z"
    }
   },
   "outputs": [],
   "source": [
    "sns.jointplot(x=df['OUTGOING_NOV_16'],\n",
    "              y=df['GPRS_NOV_16'], ax=ax, hue=df[\"GENDER\"])\n",
    "plt.gcf().set_size_inches(12, 12)"
   ]
  },
  {
   "cell_type": "markdown",
   "id": "1913d85a",
   "metadata": {},
   "source": [
    "**regplot and jointplot**\n",
    "\n",
    "Same all. There is no correlation between OUTGOING_NOV_16 and GPRS_NOV_16 features. Moreover, there is no patterns between genderand this two features.\n",
    "\n",
    "Let's draw `pairplot`"
   ]
  },
  {
   "cell_type": "code",
   "execution_count": null,
   "id": "70a521e1",
   "metadata": {
    "ExecuteTime": {
     "end_time": "2021-07-13T06:32:04.756817Z",
     "start_time": "2021-07-13T06:32:04.743851Z"
    }
   },
   "outputs": [],
   "source": [
    "temp = df.drop(labels=[\"ACTIVITY_DEC_16\", \"OBLIG_ON_START\", \"OBLIG_NUM\",\n",
    "               \"PORTED_IN\", \"REFILL_NOV_16\", \"REFILL_OCT_16\", \"PORTED_OUT\"], axis=1)"
   ]
  },
  {
   "cell_type": "code",
   "execution_count": null,
   "id": "96d23938",
   "metadata": {
    "ExecuteTime": {
     "end_time": "2021-07-13T06:32:21.914188Z",
     "start_time": "2021-07-13T06:32:04.757813Z"
    }
   },
   "outputs": [],
   "source": [
    "sns.pairplot(temp)\n",
    "plt.show()"
   ]
  },
  {
   "cell_type": "markdown",
   "id": "05b02ede",
   "metadata": {},
   "source": [
    "**pairplot**\n",
    "\n",
    "Definitely this graphs can tell us a lot about correlacon of different features. There are some linear correlation between GPRS_OCT_16 and GPRS_NOV_16."
   ]
  },
  {
   "cell_type": "markdown",
   "id": "b47fe030",
   "metadata": {},
   "source": [
    "## plotly"
   ]
  },
  {
   "cell_type": "code",
   "execution_count": null,
   "id": "232bdca5",
   "metadata": {
    "ExecuteTime": {
     "end_time": "2021-07-13T06:32:22.198909Z",
     "start_time": "2021-07-13T06:32:21.916183Z"
    }
   },
   "outputs": [],
   "source": [
    "import plotly.express as px\n",
    "import plotly.graph_objects as go"
   ]
  },
  {
   "cell_type": "code",
   "execution_count": null,
   "id": "58dd44d1",
   "metadata": {
    "ExecuteTime": {
     "end_time": "2021-07-13T07:45:00.360236Z",
     "start_time": "2021-07-13T07:45:00.088570Z"
    }
   },
   "outputs": [],
   "source": [
    "temp = df.dropna(subset=[\"USAGE_AREA\"])\n",
    "fig = px.scatter(temp, x=\"Birth_year\", y=\"GPRS_OCT_16\",\n",
    "                 color=\"USAGE_AREA\")\n",
    "fig.show()"
   ]
  },
  {
   "cell_type": "markdown",
   "id": "5935222a",
   "metadata": {},
   "source": [
    "**scatter**\n",
    "\n",
    "This plot describe the dependence of date of birth and Internet use among users based on Usage_Area. We can see that on the interval (1980, 2000) there are more users than in the other times."
   ]
  },
  {
   "cell_type": "code",
   "execution_count": null,
   "id": "6fca6216",
   "metadata": {
    "ExecuteTime": {
     "end_time": "2021-07-13T07:53:51.562573Z",
     "start_time": "2021-07-13T07:53:50.860014Z"
    }
   },
   "outputs": [],
   "source": [
    "# temp = df.dropna(subset=[\"USAGE_AREA\"])\n",
    "fig = px.scatter(temp , x=\"Birth_year\", y=\"GPRS_NOV_16\", color=\"USAGE_AREA\", marginal_y=\"violin\",\n",
    "           marginal_x=\"box\", trendline=\"ols\", template=\"simple_white\")\n",
    "fig.show()\n"
   ]
  },
  {
   "cell_type": "code",
   "execution_count": null,
   "id": "22443cf9",
   "metadata": {
    "ExecuteTime": {
     "end_time": "2021-07-13T08:26:44.250973Z",
     "start_time": "2021-07-13T08:26:44.142199Z"
    }
   },
   "outputs": [],
   "source": [
    "values = df['USAGE_AREA'].value_counts()\n",
    "index = df['USAGE_AREA'].value_counts().index\n",
    "fig = px.line_polar(r=values ,theta=index, line_close=True,  title=\"Amount of users in different places\")\n",
    "fig.update_traces(fill='toself')\n",
    "fig.show()"
   ]
  },
  {
   "cell_type": "markdown",
   "id": "60711851",
   "metadata": {
    "ExecuteTime": {
     "end_time": "2021-07-13T07:03:42.834126Z",
     "start_time": "2021-07-13T07:03:42.816141Z"
    }
   },
   "source": [
    "**line_polar**\n",
    "\n",
    "\n",
    "From this plot we can consider that Minsk, Local Towms and Mix places are the places whene people spends most of his time on the network."
   ]
  },
  {
   "cell_type": "code",
   "execution_count": null,
   "id": "ae4a5b34",
   "metadata": {
    "ExecuteTime": {
     "end_time": "2021-07-13T08:31:42.175602Z",
     "start_time": "2021-07-13T08:31:41.679973Z"
    }
   },
   "outputs": [],
   "source": [
    "features = [\"OUTGOING_OCT_16\", \"OUTGOING_NOV_16\",\n",
    "            \"GPRS_OCT_16\", \"GPRS_NOV_16\"]\n",
    "temp = df.dropna(subset=[\"GENDER\"])\n",
    "fig = px.scatter_matrix(temp, dimensions=features, color=\"GENDER\",width=1000, height=800)\n",
    "fig.update_traces(diagonal_visible=False)\n",
    "fig.show()"
   ]
  },
  {
   "cell_type": "markdown",
   "id": "01172bec",
   "metadata": {},
   "source": [
    "**scatter_matrix**\n",
    "\n",
    "Thanks to this graph, we can immediately determine the dependence between the variables."
   ]
  },
  {
   "cell_type": "markdown",
   "id": "402c2b0b",
   "metadata": {},
   "source": [
    "**Conclusion**\n",
    "\n",
    "There is very little time left until the deadline, so I want to summarize my work. Thanks to many ways of drawing plots, you can show the correlation between certain variables, which we did. Through visual analysis, outliers and abnormal data can be identified easily. Due to strong correlation of variables, it is possible to fill in missing values. However, we should be careful with strong correlations (multicollinearity) as they can lead to overfitting of the models.\n",
    "\n",
    "It it better to  show the dependencies or independencies of how strongly depends the use of the Internet and the date of birth of the user."
   ]
  },
  {
   "cell_type": "code",
   "execution_count": 270,
   "id": "94e67865",
   "metadata": {
    "ExecuteTime": {
     "end_time": "2021-07-13T08:54:38.820921Z",
     "start_time": "2021-07-13T08:54:38.801414Z"
    }
   },
   "outputs": [],
   "source": [
    "# temp = df.dropna(subset=[\"GENDER\"])\n",
    "# fig = px.scatter_ternary(temp, a=\"OUTGOING_OCT_16\", b=\"REVENUE_OCT_16\", c=\"GPRS_OCT_16\",\n",
    "#     color=\"GENDER\", size_max=15)\n",
    "# fig.show()\n"
   ]
  },
  {
   "cell_type": "code",
   "execution_count": null,
   "id": "d7244500",
   "metadata": {},
   "outputs": [],
   "source": [
    "# temp = df[\"Birth_year\"].value_counts()\n",
    "# fig = px.line(temp)\n",
    "# fig.show()"
   ]
  }
 ],
 "metadata": {
  "kernelspec": {
   "display_name": "Python 3",
   "language": "python",
   "name": "python3"
  },
  "language_info": {
   "codemirror_mode": {
    "name": "ipython",
    "version": 3
   },
   "file_extension": ".py",
   "mimetype": "text/x-python",
   "name": "python",
   "nbconvert_exporter": "python",
   "pygments_lexer": "ipython3",
   "version": "3.8.8"
  },
  "toc": {
   "base_numbering": 1,
   "nav_menu": {},
   "number_sections": true,
   "sideBar": true,
   "skip_h1_title": false,
   "title_cell": "Table of Contents",
   "title_sidebar": "Contents",
   "toc_cell": false,
   "toc_position": {},
   "toc_section_display": true,
   "toc_window_display": false
  }
 },
 "nbformat": 4,
 "nbformat_minor": 5
}
