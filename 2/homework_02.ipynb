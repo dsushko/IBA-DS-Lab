{
 "cells": [
  {
   "cell_type": "markdown",
   "metadata": {},
   "source": [
    "**Please follow PEP8 during writing code in Python. Readability matters**"
   ]
  },
  {
   "cell_type": "markdown",
   "metadata": {},
   "source": [
    "# Lists"
   ]
  },
  {
   "cell_type": "markdown",
   "metadata": {},
   "source": [
    "1. Write a Python program to get unique values from a list.\n",
    "\n"
   ]
  },
  {
   "cell_type": "code",
   "execution_count": 25,
   "metadata": {},
   "outputs": [
    {
     "data": {
      "text/plain": [
       "[1, 2, 3, 4, 5]"
      ]
     },
     "execution_count": 25,
     "metadata": {},
     "output_type": "execute_result"
    }
   ],
   "source": [
    "import numpy as np\n",
    "\n",
    "def lists_1(l):\n",
    "    \"\"\"Returns a new list with unique elements based on given list.\"\"\"\n",
    "    return list(np.unique(l))\n",
    "\n",
    "lists_1([1, 2, 1, 3, 4, 5, 3, 4, 5])"
   ]
  },
  {
   "cell_type": "markdown",
   "metadata": {},
   "source": [
    "2. Write a Python program to generate all sublists of a list."
   ]
  },
  {
   "cell_type": "code",
   "execution_count": 11,
   "metadata": {},
   "outputs": [
    {
     "data": {
      "text/plain": [
       "[[], [1], [1, 2], [1, 2, 3], [2], [2, 3], [3]]"
      ]
     },
     "execution_count": 11,
     "metadata": {},
     "output_type": "execute_result"
    }
   ],
   "source": [
    "def lists_2(l):\n",
    "    \"\"\"Returns all sublists of list\"\"\"\n",
    "    sublists = [[]]\n",
    "    for i in range(0, len(l)):\n",
    "        for j in range (i + 1, len(l) + 1):\n",
    "            sublists.append(l[i:j])\n",
    "    return sublists\n",
    "\n",
    "lists_2([1, 2, 3])"
   ]
  },
  {
   "cell_type": "markdown",
   "metadata": {},
   "source": [
    "*3. Write a Python program to find a tuple, the smallest second index value from a list of tuples."
   ]
  },
  {
   "cell_type": "code",
   "execution_count": 21,
   "metadata": {},
   "outputs": [
    {
     "name": "stdout",
     "output_type": "stream",
     "text": [
      "()\n",
      "(1, 1)\n"
     ]
    }
   ],
   "source": [
    "def lists_3(l):\n",
    "    \"\"\"\n",
    "    Finds a tuple with the smallest second value from the list.\n",
    "    Returns an empty tuple if\n",
    "        1) list argument is empty\n",
    "        2) list argument does not contain any tuple with length greater than 1\n",
    "    \"\"\"\n",
    "    result_typle = ()\n",
    "    for t in l:\n",
    "        if type(t) != int and len(t) >= 2:\n",
    "            if len(result_typle) > 0 and result_typle[1] > t[1] or len(result_typle) == 0:\n",
    "                result_typle = t\n",
    "    return result_typle\n",
    "\n",
    "print(lists_3([(1,), (1), (100,)]))\n",
    "print(lists_3([(1, 1), (1, 2), (100, 50)]))\n",
    "    "
   ]
  },
  {
   "cell_type": "markdown",
   "metadata": {},
   "source": [
    "4. Write a Python program to create a list of empty dictionaries."
   ]
  },
  {
   "cell_type": "code",
   "execution_count": 85,
   "metadata": {},
   "outputs": [
    {
     "data": {
      "text/plain": [
       "[{}, {}, {}, {}, {}]"
      ]
     },
     "execution_count": 85,
     "metadata": {},
     "output_type": "execute_result"
    }
   ],
   "source": [
    "def is_not_negative_whole(x):\n",
    "    return type(x) == int and x >= 0\n",
    "\n",
    "def lists_4(n):\n",
    "    \"\"\"Creates list of n empty dictionaries.\"\"\"\n",
    "    if is_not_negative_whole(n):\n",
    "        return [dict() for i in range(0, n)]\n",
    "    else:\n",
    "        raise ValueError(\"Argument must be not negative whole number\")\n",
    "\n",
    "lists_4(5)"
   ]
  },
  {
   "cell_type": "markdown",
   "metadata": {},
   "source": [
    "# Dictionaries"
   ]
  },
  {
   "cell_type": "markdown",
   "metadata": {},
   "source": [
    "1. Write a Python program to multiply all the items in a dictionary."
   ]
  },
  {
   "cell_type": "code",
   "execution_count": 82,
   "metadata": {},
   "outputs": [
    {
     "data": {
      "text/plain": [
       "{'mastermaster': 20, 'slaveslave': 4}"
      ]
     },
     "execution_count": 82,
     "metadata": {},
     "output_type": "execute_result"
    }
   ],
   "source": [
    "def dicts_1(d):\n",
    "    \"\"\"Calculates the composition of all dictionary values(images).\"\"\"\n",
    "    return {key*2: value*2 for key, value in d.items()}\n",
    "\n",
    "dicts_1({\"master\": 10, \"slave\": 2})"
   ]
  },
  {
   "cell_type": "markdown",
   "metadata": {},
   "source": [
    "2. Write a Python program to find the highest 3 values in a dictionary."
   ]
  },
  {
   "cell_type": "code",
   "execution_count": 80,
   "metadata": {},
   "outputs": [
    {
     "data": {
      "text/plain": [
       "[6, 5, 4]"
      ]
     },
     "execution_count": 80,
     "metadata": {},
     "output_type": "execute_result"
    }
   ],
   "source": [
    "def dicts_2(d):\n",
    "    \"\"\"\n",
    "    Makes the list of 3 highest values in a dictionary.\n",
    "    If dictionary has less than 3 values, returns all dictionary values.\n",
    "    \"\"\"\n",
    "    return list(reversed(sorted(d.values())))[:3]\n",
    "\n",
    "dicts_2({\"a\": 1,\"m\": 2,\"o\": 3,\"g\": 4,\"u\": 5,\"s\": 6})        "
   ]
  },
  {
   "cell_type": "markdown",
   "metadata": {},
   "source": [
    "*3. Write a Python program to count number of items in a dictionary value that is a list."
   ]
  },
  {
   "cell_type": "code",
   "execution_count": 74,
   "metadata": {},
   "outputs": [
    {
     "data": {
      "text/plain": [
       "15"
      ]
     },
     "execution_count": 74,
     "metadata": {},
     "output_type": "execute_result"
    }
   ],
   "source": [
    "def dicts_3(d):\n",
    "    \"\"\"Counts how many items do all values-lists hold in given dictionary\"\"\"\n",
    "    return sum(len(d[key]) for key in d if isinstance(d[key], list))\n",
    "\n",
    "dicts_3({'A' : [1, 2, 3, 4, 5, 6, 7, 8, 9],\n",
    "        'B' : 3,\n",
    "        'C' : 1,\n",
    "        'D' : [218, 126, 8, 3, 4, 5] })"
   ]
  },
  {
   "cell_type": "markdown",
   "metadata": {},
   "source": [
    "4. Write a Python program to iterate over dictionaries using for loops."
   ]
  },
  {
   "cell_type": "code",
   "execution_count": 70,
   "metadata": {},
   "outputs": [
    {
     "name": "stdout",
     "output_type": "stream",
     "text": [
      "a : 1\n",
      "m : 2\n",
      "o : 3\n",
      "g : 4\n",
      "u : 5\n",
      "s : 6\n",
      "\n",
      "when : 11\n",
      "the : 12\n",
      "impostor : 13\n",
      "is : 14\n",
      "sus : 15\n"
     ]
    }
   ],
   "source": [
    "def dicts_4_1(d):\n",
    "    \"\"\"Iterates over dictionary and prints key:value in new lines\"\"\"\n",
    "    for key in d:\n",
    "        print(key, \":\", d[key])\n",
    "\n",
    "def dicts_4_2(d):\n",
    "    \"\"\"Iterates over dictionary and prints key:value in new lines\"\"\"\n",
    "    for key, value in d.items():\n",
    "        print(key, \":\", value)\n",
    "        \n",
    "dicts_4_1({\"a\": 1,\"m\": 2,\"o\": 3,\"g\": 4,\"u\": 5,\"s\": 6})\n",
    "print(\"\")\n",
    "dicts_4_2({\"when\": 11, \"the\": 12, \"impostor\": 13, \"is\": 14, \"sus\": 15})"
   ]
  },
  {
   "cell_type": "markdown",
   "metadata": {},
   "source": [
    "# Loops"
   ]
  },
  {
   "cell_type": "markdown",
   "metadata": {},
   "source": [
    "*1. Write a Python program to print alphabet pattern 'M'.\n",
    "    Expected Output:\n",
    "\n",
    "        *       *                                                             \n",
    "        *       *                                                             \n",
    "        * *   * *                                                             \n",
    "        *   *   *                                                             \n",
    "        *       *                                                             \n",
    "        *       *                                                             \n",
    "        *       *"
   ]
  },
  {
   "cell_type": "code",
   "execution_count": 53,
   "metadata": {},
   "outputs": [
    {
     "name": "stdout",
     "output_type": "stream",
     "text": [
      "*       *\n",
      "*       *\n",
      "* *   * *\n",
      "*   *   *\n",
      "*       *\n",
      "*       *\n",
      "*       *\n"
     ]
    }
   ],
   "source": [
    "def loops_1():\n",
    "    \"\"\"\n",
    "    Prints\n",
    "    \n",
    "    *       *                                                             \n",
    "    *       *                                                             \n",
    "    * *   * *                                                             \n",
    "    *   *   *                                                             \n",
    "    *       *                                                             \n",
    "    *       *                                                             \n",
    "    *       * \n",
    "    \"\"\"\n",
    "    for i in range(1, 8):\n",
    "        l = ''\n",
    "        for j in range(1, 10):\n",
    "            if (j == 1 or j == 9) or\n",
    "                    (i == 3 and (j == 3 or j == 7)) or\n",
    "                    (i == 4 and j == 5):\n",
    "                l += \"*\"\n",
    "            else:\n",
    "                l += \" \"\n",
    "        print(l)\n",
    "        \n",
    "loops_1()"
   ]
  },
  {
   "cell_type": "markdown",
   "metadata": {},
   "source": [
    "2. Write a Python program that accepts a string and calculate the number of digits and letters.\n",
    "\t\tSample Data : Python 3.2\n",
    "\t\tExpected Output :\n",
    "\t\tLetters 6\n",
    "\t\tDigits 2"
   ]
  },
  {
   "cell_type": "code",
   "execution_count": 75,
   "metadata": {},
   "outputs": [
    {
     "name": "stdout",
     "output_type": "stream",
     "text": [
      "Letters 6\n",
      "Digits 2\n"
     ]
    }
   ],
   "source": [
    "def loops_2(s):\n",
    "    \"\"\"Prints the amount of letters and digits in accepted string.\"\"\"\n",
    "    digits = len([char for char in s if char.isdigit()])\n",
    "    letters = len([char for char in s if char.isalpha()])\n",
    "    print(\"Letters\", letters)\n",
    "    print(\"Digits\", digits)\n",
    "\n",
    "loops_2(\"Python 3.2\")"
   ]
  },
  {
   "cell_type": "markdown",
   "metadata": {},
   "source": [
    "3. Write a Python program to construct the following pattern, using a nested loop number.\n",
    "\t\tExpected Output:\n",
    "\t\t1\n",
    "\t\t22\n",
    "\t\t333\n",
    "\t\t4444\n",
    "\t\t55555\n",
    "\t\t666666\n",
    "\t\t7777777\n",
    "\t\t88888888\n",
    "\t\t999999999"
   ]
  },
  {
   "cell_type": "code",
   "execution_count": 61,
   "metadata": {},
   "outputs": [
    {
     "name": "stdout",
     "output_type": "stream",
     "text": [
      "1\n",
      "22\n",
      "333\n",
      "4444\n",
      "55555\n",
      "666666\n",
      "7777777\n",
      "88888888\n",
      "999999999\n"
     ]
    }
   ],
   "source": [
    "def loops_3():\n",
    "    \"\"\"Prints the following pattern:\n",
    "    \n",
    "    1\n",
    "    22\n",
    "    333\n",
    "    ... \n",
    "    etc. \n",
    "    ...\n",
    "    999999999\n",
    "    \"\"\"\n",
    "    for i in range (1, 10):\n",
    "        s = \"\"\n",
    "        for j in range (1, i + 1):\n",
    "            s += str(i)\n",
    "        print(s)\n",
    "            \n",
    "loops_3()"
   ]
  },
  {
   "cell_type": "code",
   "execution_count": null,
   "metadata": {},
   "outputs": [],
   "source": []
  }
 ],
 "metadata": {
  "kernelspec": {
   "display_name": "Python 3",
   "language": "python",
   "name": "python3"
  },
  "language_info": {
   "codemirror_mode": {
    "name": "ipython",
    "version": 3
   },
   "file_extension": ".py",
   "mimetype": "text/x-python",
   "name": "python",
   "nbconvert_exporter": "python",
   "pygments_lexer": "ipython3",
   "version": "3.8.8"
  }
 },
 "nbformat": 4,
 "nbformat_minor": 4
}
