{
 "cells": [
  {
   "cell_type": "markdown",
   "metadata": {
    "id": "9jAOQ6Gqo5kk"
   },
   "source": [
    "# Pandas"
   ]
  },
  {
   "cell_type": "markdown",
   "metadata": {
    "id": "-bYJOHG7o5kw"
   },
   "source": [
    "0) Import libraries, check versions"
   ]
  },
  {
   "cell_type": "code",
   "execution_count": 137,
   "metadata": {
    "ExecuteTime": {
     "end_time": "2021-07-05T10:26:29.274601Z",
     "start_time": "2021-07-05T10:26:29.252660Z"
    }
   },
   "outputs": [
    {
     "data": {
      "text/plain": [
       "'1.0.5'"
      ]
     },
     "execution_count": 137,
     "metadata": {},
     "output_type": "execute_result"
    }
   ],
   "source": [
    "import pandas as pd\n",
    "import numpy as np\n",
    "\n",
    "pd.__version__"
   ]
  },
  {
   "cell_type": "markdown",
   "metadata": {
    "id": "zySwqqc7o5kx"
   },
   "source": [
    "00) Read csv, do primary analysis"
   ]
  },
  {
   "cell_type": "code",
   "execution_count": 1,
   "metadata": {
    "ExecuteTime": {
     "end_time": "2021-07-05T10:26:29.637337Z",
     "start_time": "2021-07-05T10:26:29.561070Z"
    }
   },
   "outputs": [
    {
     "ename": "NameError",
     "evalue": "name 'pd' is not defined",
     "output_type": "error",
     "traceback": [
      "\u001b[1;31m---------------------------------------------------------------------------\u001b[0m",
      "\u001b[1;31mNameError\u001b[0m                                 Traceback (most recent call last)",
      "\u001b[1;32m<ipython-input-1-098e5532f64c>\u001b[0m in \u001b[0;36m<module>\u001b[1;34m\u001b[0m\n\u001b[1;32m----> 1\u001b[1;33m \u001b[0mdf\u001b[0m \u001b[1;33m=\u001b[0m \u001b[0mpd\u001b[0m\u001b[1;33m.\u001b[0m\u001b[0mread_csv\u001b[0m\u001b[1;33m(\u001b[0m\u001b[1;34m\"student-mat.csv\"\u001b[0m\u001b[1;33m,\u001b[0m \u001b[0msep\u001b[0m\u001b[1;33m=\u001b[0m\u001b[1;34m\";\"\u001b[0m\u001b[1;33m)\u001b[0m\u001b[1;33m\u001b[0m\u001b[1;33m\u001b[0m\u001b[0m\n\u001b[0m\u001b[0;32m      2\u001b[0m \u001b[1;33m\u001b[0m\u001b[0m\n\u001b[0;32m      3\u001b[0m \u001b[0mdf\u001b[0m\u001b[1;33m.\u001b[0m\u001b[0mdescribe\u001b[0m\u001b[1;33m(\u001b[0m\u001b[0minclude\u001b[0m\u001b[1;33m=\u001b[0m\u001b[1;34m'all'\u001b[0m\u001b[1;33m)\u001b[0m\u001b[1;33m\u001b[0m\u001b[1;33m\u001b[0m\u001b[0m\n",
      "\u001b[1;31mNameError\u001b[0m: name 'pd' is not defined"
     ]
    }
   ],
   "source": [
    "df = pd.read_csv(\"student-mat.csv\", sep=\";\")\n",
    "\n",
    "df.describe(include='all')"
   ]
  },
  {
   "cell_type": "code",
   "execution_count": 139,
   "metadata": {
    "ExecuteTime": {
     "end_time": "2021-07-05T10:26:29.729021Z",
     "start_time": "2021-07-05T10:26:29.716053Z"
    }
   },
   "outputs": [],
   "source": [
    "pd.options.display.max_columns = 33"
   ]
  },
  {
   "cell_type": "markdown",
   "metadata": {
    "id": "sEKKhvc7o5ky"
   },
   "source": [
    "1) How many variants of mother's job are in the dataset? (min 3 variants)"
   ]
  },
  {
   "cell_type": "code",
   "execution_count": 140,
   "metadata": {
    "ExecuteTime": {
     "end_time": "2021-07-05T10:26:29.998337Z",
     "start_time": "2021-07-05T10:26:29.988363Z"
    }
   },
   "outputs": [
    {
     "data": {
      "text/plain": [
       "5"
      ]
     },
     "execution_count": 140,
     "metadata": {},
     "output_type": "execute_result"
    }
   ],
   "source": [
    "df[\"Mjob\"].unique().size"
   ]
  },
  {
   "cell_type": "code",
   "execution_count": 141,
   "metadata": {
    "ExecuteTime": {
     "end_time": "2021-07-05T10:26:30.155213Z",
     "start_time": "2021-07-05T10:26:30.125256Z"
    }
   },
   "outputs": [
    {
     "data": {
      "text/plain": [
       "5"
      ]
     },
     "execution_count": 141,
     "metadata": {},
     "output_type": "execute_result"
    }
   ],
   "source": [
    "df['Mjob'].value_counts().size"
   ]
  },
  {
   "cell_type": "code",
   "execution_count": 142,
   "metadata": {
    "ExecuteTime": {
     "end_time": "2021-07-05T10:26:30.343415Z",
     "start_time": "2021-07-05T10:26:30.254022Z"
    }
   },
   "outputs": [
    {
     "data": {
      "text/plain": [
       "5"
      ]
     },
     "execution_count": 142,
     "metadata": {},
     "output_type": "execute_result"
    }
   ],
   "source": [
    "df.describe(include='all')[\"Mjob\"][1]"
   ]
  },
  {
   "cell_type": "markdown",
   "metadata": {
    "id": "EoOPDDbto5kz"
   },
   "source": [
    "2) Find how many girls have good final grade (not less than 15) and have romantic relationship (number and percentage)"
   ]
  },
  {
   "cell_type": "code",
   "execution_count": 143,
   "metadata": {
    "ExecuteTime": {
     "end_time": "2021-07-05T10:26:30.806101Z",
     "start_time": "2021-07-05T10:26:30.792133Z"
    }
   },
   "outputs": [
    {
     "data": {
      "text/plain": [
       "9"
      ]
     },
     "execution_count": 143,
     "metadata": {},
     "output_type": "execute_result"
    }
   ],
   "source": [
    "# number\n",
    "df[(df[\"G3\"] >= 15) & (df[\"romantic\"] == \"yes\") & (df[\"sex\"] == \"F\")].shape[0]"
   ]
  },
  {
   "cell_type": "code",
   "execution_count": 144,
   "metadata": {
    "ExecuteTime": {
     "end_time": "2021-07-05T10:26:30.978387Z",
     "start_time": "2021-07-05T10:26:30.955474Z"
    }
   },
   "outputs": [
    {
     "data": {
      "text/plain": [
       "2.278481012658228"
      ]
     },
     "execution_count": 144,
     "metadata": {},
     "output_type": "execute_result"
    }
   ],
   "source": [
    "# percentage\n",
    "df[(df[\"G3\"] >= 15) & (df[\"romantic\"] == \"yes\") &  (df[\"sex\"] == \"F\")].shape[0] / df.shape[0] * 100"
   ]
  },
  {
   "cell_type": "markdown",
   "metadata": {
    "id": "_Rqqu7VBo5k0"
   },
   "source": [
    "3) Is it better for student's academic performance if his/her parents work at the same job ('other' should be excluded)?"
   ]
  },
  {
   "cell_type": "code",
   "execution_count": 145,
   "metadata": {
    "ExecuteTime": {
     "end_time": "2021-07-05T10:26:31.387125Z",
     "start_time": "2021-07-05T10:26:31.369172Z"
    }
   },
   "outputs": [
    {
     "data": {
      "text/plain": [
       "12.0"
      ]
     },
     "execution_count": 145,
     "metadata": {},
     "output_type": "execute_result"
    }
   ],
   "source": [
    "df[(df[\"Mjob\"] == df[\"Fjob\"]) & (df[\"Fjob\"] != \"other\")][\"G3\"].median()"
   ]
  },
  {
   "cell_type": "code",
   "execution_count": 146,
   "metadata": {
    "ExecuteTime": {
     "end_time": "2021-07-05T10:26:31.672955Z",
     "start_time": "2021-07-05T10:26:31.660953Z"
    }
   },
   "outputs": [
    {
     "data": {
      "text/plain": [
       "10.5"
      ]
     },
     "execution_count": 146,
     "metadata": {},
     "output_type": "execute_result"
    }
   ],
   "source": [
    "df[(df[\"Mjob\"] != df[\"Fjob\"]) & (df[\"Fjob\"] != \"other\")][\"G3\"].median()"
   ]
  },
  {
   "cell_type": "markdown",
   "metadata": {},
   "source": [
    "`As we did not clear poor data, it is better to use median metrix instread of mean metrix as it resistants to outliers. `\n",
    "\n",
    "`Yes, it is better for student's academic performance if his/her parents work at the same job.` "
   ]
  },
  {
   "cell_type": "markdown",
   "metadata": {
    "id": "YcEofEd9o5k0"
   },
   "source": [
    "4) Who is more healthy: students with final grade not less than 15 or not?"
   ]
  },
  {
   "cell_type": "code",
   "execution_count": 147,
   "metadata": {
    "ExecuteTime": {
     "end_time": "2021-07-05T10:26:33.233057Z",
     "start_time": "2021-07-05T10:26:33.227042Z"
    }
   },
   "outputs": [
    {
     "data": {
      "text/plain": [
       "array([5, 1, 3, 4, 2], dtype=int64)"
      ]
     },
     "execution_count": 147,
     "metadata": {},
     "output_type": "execute_result"
    }
   ],
   "source": [
    "df[df[\"G3\"] >= 15][\"health\"].unique() # just to confirm that data doesnt have outliers."
   ]
  },
  {
   "cell_type": "code",
   "execution_count": 148,
   "metadata": {
    "ExecuteTime": {
     "end_time": "2021-07-05T10:26:34.555113Z",
     "start_time": "2021-07-05T10:26:34.536131Z"
    }
   },
   "outputs": [
    {
     "data": {
      "text/plain": [
       "3.3972602739726026"
      ]
     },
     "execution_count": 148,
     "metadata": {},
     "output_type": "execute_result"
    }
   ],
   "source": [
    "df[df[\"G3\"] >= 15][\"health\"].mean()"
   ]
  },
  {
   "cell_type": "code",
   "execution_count": 149,
   "metadata": {
    "ExecuteTime": {
     "end_time": "2021-07-05T10:26:35.002970Z",
     "start_time": "2021-07-05T10:26:34.988928Z"
    }
   },
   "outputs": [
    {
     "data": {
      "text/plain": [
       "3.590062111801242"
      ]
     },
     "execution_count": 149,
     "metadata": {},
     "output_type": "execute_result"
    }
   ],
   "source": [
    "df[df[\"G3\"] < 15][\"health\"].mean()"
   ]
  },
  {
   "cell_type": "markdown",
   "metadata": {},
   "source": [
    "`We can see that students with higher graduates have more problems with health than others.`"
   ]
  },
  {
   "cell_type": "markdown",
   "metadata": {
    "id": "LqFt8mUvo5k1"
   },
   "source": [
    "5) Is there a direct link between going out with friends and final grade?"
   ]
  },
  {
   "cell_type": "code",
   "execution_count": 150,
   "metadata": {
    "ExecuteTime": {
     "end_time": "2021-07-05T10:26:36.128896Z",
     "start_time": "2021-07-05T10:26:36.104936Z"
    }
   },
   "outputs": [
    {
     "data": {
      "text/html": [
       "<div>\n",
       "<style scoped>\n",
       "    .dataframe tbody tr th:only-of-type {\n",
       "        vertical-align: middle;\n",
       "    }\n",
       "\n",
       "    .dataframe tbody tr th {\n",
       "        vertical-align: top;\n",
       "    }\n",
       "\n",
       "    .dataframe thead th {\n",
       "        text-align: right;\n",
       "    }\n",
       "</style>\n",
       "<table border=\"1\" class=\"dataframe\">\n",
       "  <thead>\n",
       "    <tr style=\"text-align: right;\">\n",
       "      <th></th>\n",
       "      <th>G3</th>\n",
       "    </tr>\n",
       "    <tr>\n",
       "      <th>goout</th>\n",
       "      <th></th>\n",
       "    </tr>\n",
       "  </thead>\n",
       "  <tbody>\n",
       "    <tr>\n",
       "      <th>1</th>\n",
       "      <td>9.869565</td>\n",
       "    </tr>\n",
       "    <tr>\n",
       "      <th>2</th>\n",
       "      <td>11.194175</td>\n",
       "    </tr>\n",
       "    <tr>\n",
       "      <th>3</th>\n",
       "      <td>10.961538</td>\n",
       "    </tr>\n",
       "    <tr>\n",
       "      <th>4</th>\n",
       "      <td>9.651163</td>\n",
       "    </tr>\n",
       "    <tr>\n",
       "      <th>5</th>\n",
       "      <td>9.037736</td>\n",
       "    </tr>\n",
       "  </tbody>\n",
       "</table>\n",
       "</div>"
      ],
      "text/plain": [
       "              G3\n",
       "goout           \n",
       "1       9.869565\n",
       "2      11.194175\n",
       "3      10.961538\n",
       "4       9.651163\n",
       "5       9.037736"
      ]
     },
     "execution_count": 150,
     "metadata": {},
     "output_type": "execute_result"
    }
   ],
   "source": [
    "df.groupby(by=['goout']).agg({'G3': lambda x: x.mean()})"
   ]
  },
  {
   "cell_type": "markdown",
   "metadata": {},
   "source": [
    "`Definitely infrequent walks with friends have a positive effect on the final grade of the student`"
   ]
  },
  {
   "cell_type": "markdown",
   "metadata": {
    "id": "DWf38gK9o5k1"
   },
   "source": [
    "6) Is the a connection between Mother's education and desire to take higher education?"
   ]
  },
  {
   "cell_type": "code",
   "execution_count": 151,
   "metadata": {
    "ExecuteTime": {
     "end_time": "2021-07-05T10:26:37.966519Z",
     "start_time": "2021-07-05T10:26:37.956546Z"
    }
   },
   "outputs": [
    {
     "data": {
      "text/plain": [
       "Medu  higher\n",
       "0     no          1\n",
       "      yes         2\n",
       "1     no          6\n",
       "      yes        53\n",
       "2     no          7\n",
       "      yes        96\n",
       "3     no          5\n",
       "      yes        94\n",
       "4     no          1\n",
       "      yes       130\n",
       "Name: higher, dtype: int64"
      ]
     },
     "execution_count": 151,
     "metadata": {},
     "output_type": "execute_result"
    }
   ],
   "source": [
    "df.groupby(by=[\"Medu\", \"higher\"])['higher'].count()"
   ]
  },
  {
   "cell_type": "markdown",
   "metadata": {},
   "source": [
    "`We should make our conclusions on these students, who don't want to get higher education. As we can see, there is not a strong correlation between a mother's education and desire to take higher education. Lets prove it with .corr `"
   ]
  },
  {
   "cell_type": "code",
   "execution_count": 170,
   "metadata": {
    "ExecuteTime": {
     "end_time": "2021-07-05T10:33:10.902434Z",
     "start_time": "2021-07-05T10:33:10.890452Z"
    }
   },
   "outputs": [
    {
     "data": {
      "text/plain": [
       "0.16884453374475855"
      ]
     },
     "execution_count": 170,
     "metadata": {},
     "output_type": "execute_result"
    }
   ],
   "source": [
    "import warnings\n",
    "warnings.filterwarnings('ignore')\n",
    "\n",
    "df_temp = df[[\"Medu\", \"higher\"]]\n",
    "df_temp['higher'] = df_temp['higher'].astype('category')\n",
    "df_temp[\"bool_higher\"] = df_temp[\"higher\"].cat.codes\n",
    "df_temp[\"Medu\"].corr(df_temp['bool_higher']) # return correlation between 2 values"
   ]
  },
  {
   "cell_type": "markdown",
   "metadata": {},
   "source": [
    "`As stated above, the correlation is not really strong`"
   ]
  },
  {
   "cell_type": "markdown",
   "metadata": {
    "id": "IDD9AtQzo5k2"
   },
   "source": [
    "7) Could we say that girls have more failures when they have romantic relationship than boys?"
   ]
  },
  {
   "cell_type": "code",
   "execution_count": 207,
   "metadata": {
    "ExecuteTime": {
     "end_time": "2021-07-05T10:55:09.642423Z",
     "start_time": "2021-07-05T10:55:09.624493Z"
    }
   },
   "outputs": [
    {
     "data": {
      "text/html": [
       "<div>\n",
       "<style scoped>\n",
       "    .dataframe tbody tr th:only-of-type {\n",
       "        vertical-align: middle;\n",
       "    }\n",
       "\n",
       "    .dataframe tbody tr th {\n",
       "        vertical-align: top;\n",
       "    }\n",
       "\n",
       "    .dataframe thead th {\n",
       "        text-align: right;\n",
       "    }\n",
       "</style>\n",
       "<table border=\"1\" class=\"dataframe\">\n",
       "  <thead>\n",
       "    <tr style=\"text-align: right;\">\n",
       "      <th></th>\n",
       "      <th></th>\n",
       "      <th>romantic</th>\n",
       "    </tr>\n",
       "    <tr>\n",
       "      <th>sex</th>\n",
       "      <th>failures</th>\n",
       "      <th></th>\n",
       "    </tr>\n",
       "  </thead>\n",
       "  <tbody>\n",
       "    <tr>\n",
       "      <th rowspan=\"4\" valign=\"top\">F</th>\n",
       "      <th>0</th>\n",
       "      <td>0.339286</td>\n",
       "    </tr>\n",
       "    <tr>\n",
       "      <th>1</th>\n",
       "      <td>0.521739</td>\n",
       "    </tr>\n",
       "    <tr>\n",
       "      <th>2</th>\n",
       "      <td>0.818182</td>\n",
       "    </tr>\n",
       "    <tr>\n",
       "      <th>3</th>\n",
       "      <td>0.166667</td>\n",
       "    </tr>\n",
       "    <tr>\n",
       "      <th rowspan=\"4\" valign=\"top\">M</th>\n",
       "      <th>0</th>\n",
       "      <td>0.270833</td>\n",
       "    </tr>\n",
       "    <tr>\n",
       "      <th>1</th>\n",
       "      <td>0.296296</td>\n",
       "    </tr>\n",
       "    <tr>\n",
       "      <th>2</th>\n",
       "      <td>0.333333</td>\n",
       "    </tr>\n",
       "    <tr>\n",
       "      <th>3</th>\n",
       "      <td>0.400000</td>\n",
       "    </tr>\n",
       "  </tbody>\n",
       "</table>\n",
       "</div>"
      ],
      "text/plain": [
       "              romantic\n",
       "sex failures          \n",
       "F   0         0.339286\n",
       "    1         0.521739\n",
       "    2         0.818182\n",
       "    3         0.166667\n",
       "M   0         0.270833\n",
       "    1         0.296296\n",
       "    2         0.333333\n",
       "    3         0.400000"
      ]
     },
     "execution_count": 207,
     "metadata": {},
     "output_type": "execute_result"
    }
   ],
   "source": [
    "df.groupby(by=[\"sex\", \"failures\"]).agg({'romantic': lambda x: x.value_counts(normalize=True)[\"yes\"]})"
   ]
  },
  {
   "cell_type": "markdown",
   "metadata": {
    "ExecuteTime": {
     "end_time": "2021-07-05T10:54:51.315072Z",
     "start_time": "2021-07-05T10:54:51.279170Z"
    }
   },
   "source": [
    "``"
   ]
  },
  {
   "cell_type": "markdown",
   "metadata": {
    "id": "S9RcU8PCo5k3"
   },
   "source": [
    "8) Find pairs of jobs with the most and the least average of absences."
   ]
  },
  {
   "cell_type": "code",
   "execution_count": 252,
   "metadata": {
    "ExecuteTime": {
     "end_time": "2021-07-05T14:05:10.151254Z",
     "start_time": "2021-07-05T14:05:10.002569Z"
    }
   },
   "outputs": [
    {
     "data": {
      "text/plain": [
       "max    (other, services)\n",
       "min    (health, teacher)\n",
       "dtype: object"
      ]
     },
     "execution_count": 252,
     "metadata": {},
     "output_type": "execute_result"
    }
   ],
   "source": [
    "df.groupby([\"Mjob\", \"Fjob\"]).agg([\"max\", \"min\"])[\"absences\"].idxmax()"
   ]
  },
  {
   "cell_type": "markdown",
   "metadata": {},
   "source": [
    "`As we can see, these sort of job (other, services) has max value in absences, while (health, teacher) has min value. However it is not clear to understand others professions, so lest remove it and check what we will get`"
   ]
  },
  {
   "cell_type": "code",
   "execution_count": 276,
   "metadata": {
    "ExecuteTime": {
     "end_time": "2021-07-05T14:19:37.792275Z",
     "start_time": "2021-07-05T14:19:37.658552Z"
    }
   },
   "outputs": [
    {
     "data": {
      "text/plain": [
       "max    (teacher, services)\n",
       "min      (health, teacher)\n",
       "dtype: object"
      ]
     },
     "execution_count": 276,
     "metadata": {},
     "output_type": "execute_result"
    }
   ],
   "source": [
    "df[(df[\"Mjob\"] != \"other\") & (df[\"Fjob\"] != \"other\")].groupby([\"Mjob\", \"Fjob\"]).agg([\"max\", \"min\"])[\"absences\"].idxmax()"
   ]
  },
  {
   "cell_type": "markdown",
   "metadata": {},
   "source": [
    "`So now it is a little  bit clear`"
   ]
  },
  {
   "cell_type": "markdown",
   "metadata": {},
   "source": [
    "**!!!OOPPSSS!!!**\n",
    "\n",
    "\n",
    "`Hah, it is a mistace! I have found just max and min absences, but we need most and the least average of absences so...`"
   ]
  },
  {
   "cell_type": "code",
   "execution_count": 277,
   "metadata": {
    "ExecuteTime": {
     "end_time": "2021-07-05T14:19:38.487659Z",
     "start_time": "2021-07-05T14:19:38.473707Z"
    }
   },
   "outputs": [
    {
     "data": {
      "text/plain": [
       "('other', 'services')"
      ]
     },
     "execution_count": 277,
     "metadata": {},
     "output_type": "execute_result"
    }
   ],
   "source": [
    "df.groupby([\"Mjob\", \"Fjob\"]).agg(\"mean\")[\"absences\"].idxmax()"
   ]
  },
  {
   "cell_type": "code",
   "execution_count": 274,
   "metadata": {
    "ExecuteTime": {
     "end_time": "2021-07-05T14:19:33.746057Z",
     "start_time": "2021-07-05T14:19:33.725114Z"
    }
   },
   "outputs": [
    {
     "data": {
      "text/plain": [
       "('at_home', 'at_home')"
      ]
     },
     "execution_count": 274,
     "metadata": {},
     "output_type": "execute_result"
    }
   ],
   "source": [
    "df.groupby([\"Mjob\", \"Fjob\"]).agg(\"mean\")[\"absences\"].idxmin()"
   ]
  },
  {
   "cell_type": "markdown",
   "metadata": {
    "id": "O9Dtjm0fo5k6"
   },
   "source": [
    "9) Calulate the average final grade by romantic relationship and availability of Internet access for boys and girls. Who has the biggest rate?"
   ]
  },
  {
   "cell_type": "code",
   "execution_count": 260,
   "metadata": {
    "ExecuteTime": {
     "end_time": "2021-07-05T14:07:46.721889Z",
     "start_time": "2021-07-05T14:07:46.701942Z"
    }
   },
   "outputs": [
    {
     "data": {
      "text/plain": [
       "sex  romantic\n",
       "F    no          10.550388\n",
       "     yes          9.012658\n",
       "M    no          11.111940\n",
       "     yes         10.415094\n",
       "Name: G3, dtype: float64"
      ]
     },
     "execution_count": 260,
     "metadata": {},
     "output_type": "execute_result"
    }
   ],
   "source": [
    "df.groupby([\"sex\", \"romantic\"]).agg('mean')[\"G3\"]"
   ]
  },
  {
   "cell_type": "markdown",
   "metadata": {},
   "source": [
    "`The highest value has boys without relationships, so it is better to stay single in order to get more knowledges and higher marks ^_^`"
   ]
  },
  {
   "cell_type": "markdown",
   "metadata": {
    "id": "nTGcN7mro5k6"
   },
   "source": [
    "10) Print statistics for free time after school by Mother's and Father's job . Find combination with the biggest average rate. (one of the variants that I would like to see - using describe())"
   ]
  },
  {
   "cell_type": "code",
   "execution_count": 279,
   "metadata": {
    "ExecuteTime": {
     "end_time": "2021-07-05T14:22:13.780697Z",
     "start_time": "2021-07-05T14:22:13.721518Z"
    }
   },
   "outputs": [
    {
     "data": {
      "text/plain": [
       "mean    (teacher, at_home)\n",
       "dtype: object"
      ]
     },
     "execution_count": 279,
     "metadata": {},
     "output_type": "execute_result"
    }
   ],
   "source": [
    "df.groupby([\"Mjob\", \"Fjob\"]).agg([\"mean\"])[\"freetime\"].idxmax()"
   ]
  },
  {
   "cell_type": "code",
   "execution_count": 293,
   "metadata": {
    "ExecuteTime": {
     "end_time": "2021-07-05T14:26:20.645146Z",
     "start_time": "2021-07-05T14:26:20.017743Z"
    }
   },
   "outputs": [
    {
     "data": {
      "text/plain": [
       "('teacher', 'at_home')"
      ]
     },
     "execution_count": 293,
     "metadata": {},
     "output_type": "execute_result"
    }
   ],
   "source": [
    "df.groupby([\"Mjob\", \"Fjob\"]).describe()[\"freetime\"][\"mean\"].idxmax()\n",
    "\n",
    "# You will get describe if you want it -_-"
   ]
  },
  {
   "cell_type": "markdown",
   "metadata": {},
   "source": [
    "`So, the biggest average rate can be obtained by these conbination: ('teacher', 'at_home')`"
   ]
  },
  {
   "cell_type": "markdown",
   "metadata": {
    "id": "eQ3qyxOAo5k7"
   },
   "source": [
    "11) Calculate average rate of educatuin for each job for Father for different family sizes."
   ]
  },
  {
   "cell_type": "code",
   "execution_count": 299,
   "metadata": {
    "ExecuteTime": {
     "end_time": "2021-07-05T14:33:16.173206Z",
     "start_time": "2021-07-05T14:33:16.150267Z"
    }
   },
   "outputs": [
    {
     "data": {
      "text/plain": [
       "Fjob      famsize\n",
       "at_home   GT3         9.083333\n",
       "          LE3        11.750000\n",
       "health    GT3        11.750000\n",
       "          LE3        11.333333\n",
       "other     GT3         9.954248\n",
       "          LE3        10.765625\n",
       "services  GT3        10.125000\n",
       "          LE3        10.741935\n",
       "teacher   GT3        11.541667\n",
       "          LE3        14.000000\n",
       "Name: G3, dtype: float64"
      ]
     },
     "execution_count": 299,
     "metadata": {},
     "output_type": "execute_result"
    }
   ],
   "source": [
    "df.groupby([\"Fjob\", \"famsize\"]).agg(\"mean\")[\"G3\"]"
   ]
  },
  {
   "cell_type": "markdown",
   "metadata": {
    "id": "Nbkli9eqo5k7"
   },
   "source": [
    "12) Calculate average final grade by quality of family relationship and parent's cohabitation status. Which case has the biggest average grade?"
   ]
  },
  {
   "cell_type": "code",
   "execution_count": 301,
   "metadata": {
    "ExecuteTime": {
     "end_time": "2021-07-05T14:36:58.155353Z",
     "start_time": "2021-07-05T14:36:58.145404Z"
    }
   },
   "outputs": [
    {
     "data": {
      "text/plain": [
       "Pstatus  famrel\n",
       "A        1         11.500000\n",
       "         2         11.000000\n",
       "         3          9.666667\n",
       "         4         10.529412\n",
       "         5         12.769231\n",
       "T        1         10.333333\n",
       "         2          9.666667\n",
       "         3         10.080645\n",
       "         4         10.342697\n",
       "         5         10.559140\n",
       "Name: G3, dtype: float64"
      ]
     },
     "execution_count": 301,
     "metadata": {},
     "output_type": "execute_result"
    }
   ],
   "source": [
    "df.groupby([\"Pstatus\", \"famrel\"]).agg(\"mean\")[\"G3\"]"
   ]
  },
  {
   "cell_type": "markdown",
   "metadata": {
    "id": "veKdB0K0o5k8"
   },
   "source": [
    "13) What is the smallest age in a dataset? How many students of this age? What is the percentage of students with final grade not less than 15? What is the percentage of boys and girls from this slice?"
   ]
  },
  {
   "cell_type": "code",
   "execution_count": 305,
   "metadata": {
    "ExecuteTime": {
     "end_time": "2021-07-05T14:39:33.571970Z",
     "start_time": "2021-07-05T14:39:33.559004Z"
    }
   },
   "outputs": [
    {
     "data": {
      "text/plain": [
       "15"
      ]
     },
     "execution_count": 305,
     "metadata": {},
     "output_type": "execute_result"
    }
   ],
   "source": [
    "# What is the smallest age in a dataset?\n",
    "df[\"age\"].min()"
   ]
  },
  {
   "cell_type": "code",
   "execution_count": 313,
   "metadata": {
    "ExecuteTime": {
     "end_time": "2021-07-05T14:40:42.819378Z",
     "start_time": "2021-07-05T14:40:42.812356Z"
    }
   },
   "outputs": [
    {
     "data": {
      "text/plain": [
       "82"
      ]
     },
     "execution_count": 313,
     "metadata": {},
     "output_type": "execute_result"
    }
   ],
   "source": [
    "# How many students of this age\n",
    "df[df[\"age\"] == 15].shape[0]"
   ]
  },
  {
   "cell_type": "code",
   "execution_count": 317,
   "metadata": {
    "ExecuteTime": {
     "end_time": "2021-07-05T14:42:00.039666Z",
     "start_time": "2021-07-05T14:42:00.031688Z"
    }
   },
   "outputs": [
    {
     "data": {
      "text/plain": [
       "18.48101265822785"
      ]
     },
     "execution_count": 317,
     "metadata": {},
     "output_type": "execute_result"
    }
   ],
   "source": [
    "# What is the percentage of students with final grade not less than 15?\n",
    "df[df[\"G3\"] >= 15].shape[0] / df.shape[0] * 100"
   ]
  },
  {
   "cell_type": "code",
   "execution_count": 331,
   "metadata": {
    "ExecuteTime": {
     "end_time": "2021-07-05T14:46:07.729657Z",
     "start_time": "2021-07-05T14:46:07.719650Z"
    }
   },
   "outputs": [
    {
     "data": {
      "text/plain": [
       "F    0.526582\n",
       "M    0.473418\n",
       "Name: sex, dtype: float64"
      ]
     },
     "execution_count": 331,
     "metadata": {},
     "output_type": "execute_result"
    }
   ],
   "source": [
    "# What is the percentage of boys and girls from this slice?\n",
    "df[\"sex\"].value_counts(normalize=True)"
   ]
  },
  {
   "cell_type": "markdown",
   "metadata": {
    "id": "arbCBnvBo5k8"
   },
   "source": [
    "#### Please, write not only numbers but answers also if it's needed :)"
   ]
  }
 ],
 "metadata": {
  "colab": {
   "name": "homework_04.ipynb",
   "provenance": []
  },
  "kernelspec": {
   "display_name": "Python 3",
   "language": "python",
   "name": "python3"
  },
  "language_info": {
   "codemirror_mode": {
    "name": "ipython",
    "version": 3
   },
   "file_extension": ".py",
   "mimetype": "text/x-python",
   "name": "python",
   "nbconvert_exporter": "python",
   "pygments_lexer": "ipython3",
   "version": "3.8.8"
  },
  "toc": {
   "base_numbering": 1,
   "nav_menu": {},
   "number_sections": true,
   "sideBar": true,
   "skip_h1_title": false,
   "title_cell": "Table of Contents",
   "title_sidebar": "Contents",
   "toc_cell": false,
   "toc_position": {},
   "toc_section_display": true,
   "toc_window_display": false
  }
 },
 "nbformat": 4,
 "nbformat_minor": 1
}
