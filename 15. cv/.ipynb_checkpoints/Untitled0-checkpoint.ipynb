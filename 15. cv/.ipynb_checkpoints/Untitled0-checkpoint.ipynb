{
 "cells": [
  {
   "cell_type": "code",
   "execution_count": 128,
   "metadata": {
    "id": "7fp8BUr54yww"
   },
   "outputs": [],
   "source": [
    "from keras.models import Sequential \n",
    "from keras.layers import Dense\n",
    "from keras.layers import Dropout\n",
    "import keras.layers as layers\n",
    "\n",
    "import tensorflow as tf\n",
    "import math\n",
    "\n",
    "import numpy as np\n",
    "import tensorflow as tf\n",
    "\n",
    "import matplotlib.pyplot as plt"
   ]
  },
  {
   "cell_type": "code",
   "execution_count": 129,
   "metadata": {
    "id": "QAPp2Afb46ZG"
   },
   "outputs": [],
   "source": [
    "def im_RGB_to_gray(image):\n",
    "    gray_image = image.copy()\n",
    "    for i in range(len(image)):\n",
    "        for j in range(len(image[0])):\n",
    "            color_pixel = image[i][j]\n",
    "            gray_image[i][j] = 0.30*color_pixel[0] + 0.59*color_pixel[1] + 0.11*color_pixel[2]\n",
    "    return gray_image"
   ]
  },
  {
   "cell_type": "code",
   "execution_count": 130,
   "metadata": {
    "id": "Oq-jahOS47_q"
   },
   "outputs": [],
   "source": [
    "def image_to_row(image):\n",
    "    # rgbrgbrgbrgbrgbrgbrgbrgb....\n",
    "    row = []\n",
    "    for i in range(len(image)):\n",
    "        for j in range(len(image[0])):\n",
    "            row.append(image[i][j][0])\n",
    "            row.append(image[i][j][1])\n",
    "            row.append(image[i][j][2])\n",
    "    return row"
   ]
  },
  {
   "cell_type": "code",
   "execution_count": 131,
   "metadata": {
    "id": "pRNi7NiI49ix"
   },
   "outputs": [],
   "source": [
    "def row_to_image(row):\n",
    "    size = int(math.sqrt(len(row)/3))\n",
    "    image = np.zeros((size,size,3), dtype=int)\n",
    "    for i in range(size):\n",
    "        for j in range(size):\n",
    "            rgb_pixel = []\n",
    "            rgb_pixel.append(int(row[3*i*size + 3*j]))\n",
    "            rgb_pixel.append(int(row[3*i*size + 3*j + 1]))\n",
    "            rgb_pixel.append(int(row[3*i*size + 3*j + 2]))\n",
    "            image[i][j] = rgb_pixel\n",
    "    return image"
   ]
  },
  {
   "cell_type": "code",
   "execution_count": 132,
   "metadata": {
    "id": "J0BXk8-I4_at"
   },
   "outputs": [],
   "source": [
    "#... data load\n",
    "(x_train, y_train), (x_test, y_test) = tf.keras.datasets.cifar10.load_data()\n",
    "x_train = x_train[:10000]\n",
    "x_test = x_test[:1000]\n",
    "y_train = y_train[:10000]\n",
    "y_test = y_test[:1000]\n",
    "\n",
    "y_train = x_train.copy()\n",
    "y_test = x_test.copy()\n",
    "x_train_gray = [im_RGB_to_gray(x) for x in x_train]\n",
    "x_test_gray = [im_RGB_to_gray(x) for x in x_test]\n"
   ]
  },
  {
   "cell_type": "code",
   "execution_count": 160,
   "metadata": {
    "id": "opRrQjEH52vO"
   },
   "outputs": [],
   "source": [
    "x_train_gray_flat = np.array([np.array(image_to_row(x)) for x in x_train])\n",
    "y_train_flat = np.array([np.array(image_to_row(y)) for y in y_train])"
   ]
  },
  {
   "cell_type": "code",
   "execution_count": 197,
   "metadata": {
    "id": "8wQBYXhW5Bmj"
   },
   "outputs": [],
   "source": [
    "model1 = Sequential()\n",
    "\n",
    "model1.add(Dense(3072, input_dim=3072,activation='relu'))\n",
    "model1.add(Dropout(0.2))\n",
    "model1.add(Dense(2048, activation='relu'))\n",
    "model1.add(Dropout(0.2))\n",
    "#model1.add(Dense(2048, activation='relu'))\n",
    "#model1.add(Dropout(0.2))\n",
    "model1.add(Dense(3072, activation='relu'))\n",
    "\n",
    "model1.compile(loss='mse', optimizer='adam', metrics=['mse'])"
   ]
  },
  {
   "cell_type": "code",
   "execution_count": 134,
   "metadata": {
    "id": "VmIDbBzrWghs"
   },
   "outputs": [],
   "source": [
    "model2 = Sequential()\n",
    "\n",
    "model2.add(layers.Conv2D(32, (3, 3), activation='relu', input_shape=(32, 32, 3)))\n",
    "model2.add(layers.MaxPooling2D((2, 2)))\n",
    "model2.add(layers.Conv2D(64, (3, 3), activation='relu'))\n",
    "model2.add(layers.MaxPooling2D((2, 2)))\n",
    "model2.add(layers.Conv2D(64, (3, 3), activation='relu'))\n",
    "model2.add(layers.Flatten())\n",
    "model2.add(layers.Dense(3072, activation='relu'))\n",
    "model2.add(layers.Dense(3072, activation='relu'))\n",
    "\n",
    "model2.compile(loss='mse', optimizer='adam', metrics=['mae'])"
   ]
  },
  {
   "cell_type": "code",
   "execution_count": 157,
   "metadata": {
    "id": "zZCQOT0Zbz-t"
   },
   "outputs": [],
   "source": [
    ""
   ]
  },
  {
   "cell_type": "code",
   "execution_count": 233,
   "metadata": {
    "colab": {
     "base_uri": "https://localhost:8080/"
    },
    "id": "bMa9s-0E5IXK",
    "outputId": "d3985cc6-16f0-48a5-93b9-de4fe4fe2565"
   },
   "outputs": [
    {
     "name": "stdout",
     "output_type": "stream",
     "text": [
      "Epoch 1/15\n",
      "1000/1000 [==============================] - 11s 11ms/step - loss: 2545.0022 - mse: 2545.0022\n",
      "Epoch 2/15\n",
      "1000/1000 [==============================] - 11s 11ms/step - loss: 2589.8623 - mse: 2589.8623\n",
      "Epoch 3/15\n",
      "1000/1000 [==============================] - 11s 11ms/step - loss: 2532.1770 - mse: 2532.1770\n",
      "Epoch 4/15\n",
      "1000/1000 [==============================] - 11s 11ms/step - loss: 2512.6243 - mse: 2512.6243\n",
      "Epoch 5/15\n",
      "1000/1000 [==============================] - 11s 11ms/step - loss: 2499.4419 - mse: 2499.4419\n",
      "Epoch 6/15\n",
      "1000/1000 [==============================] - 11s 11ms/step - loss: 2507.9644 - mse: 2507.9644\n",
      "Epoch 7/15\n",
      "1000/1000 [==============================] - 11s 11ms/step - loss: 2494.9832 - mse: 2494.9832\n",
      "Epoch 8/15\n",
      "1000/1000 [==============================] - 11s 11ms/step - loss: 2490.4287 - mse: 2490.4287\n",
      "Epoch 9/15\n",
      "1000/1000 [==============================] - 11s 11ms/step - loss: 2516.7041 - mse: 2516.7041\n",
      "Epoch 10/15\n",
      "1000/1000 [==============================] - 11s 11ms/step - loss: 2516.9861 - mse: 2516.9861\n",
      "Epoch 11/15\n",
      "1000/1000 [==============================] - 11s 11ms/step - loss: 2481.5349 - mse: 2481.5349\n",
      "Epoch 12/15\n",
      "1000/1000 [==============================] - 11s 11ms/step - loss: 2481.7825 - mse: 2481.7825\n",
      "Epoch 13/15\n",
      "1000/1000 [==============================] - 11s 11ms/step - loss: 2551.3047 - mse: 2551.3047\n",
      "Epoch 14/15\n",
      "1000/1000 [==============================] - 11s 11ms/step - loss: 2543.3804 - mse: 2543.3804\n",
      "Epoch 15/15\n",
      "1000/1000 [==============================] - 12s 12ms/step - loss: 2526.8013 - mse: 2526.8013\n"
     ]
    }
   ],
   "source": [
    "with tf.device('/device:GPU:0'):\n",
    "    model1.fit(x_train_gray_flat, y_train_flat, epochs=15, batch_size=10)"
   ]
  },
  {
   "cell_type": "code",
   "execution_count": null,
   "metadata": {
    "id": "NL3mOruOxgwp"
   },
   "outputs": [],
   "source": [
    "with tf.device('/device:GPU:0'):\n",
    "    model2.fit(x_train_gray_flat, y_train_flat, epochs=100, batch_size=500)"
   ]
  },
  {
   "cell_type": "code",
   "execution_count": 256,
   "metadata": {
    "id": "uX9_pclv5MgM"
   },
   "outputs": [],
   "source": [
    "x_test_flat = np.array([image_to_row(x) for x in x_test_gray])"
   ]
  },
  {
   "cell_type": "code",
   "execution_count": 199,
   "metadata": {
    "id": "_fC5PosJ5dMU"
   },
   "outputs": [],
   "source": [
    ""
   ]
  },
  {
   "cell_type": "code",
   "execution_count": 257,
   "metadata": {
    "id": "oPZ5ep8d5Mnt"
   },
   "outputs": [],
   "source": [
    "y_pred = model1.predict(x_test_flat)"
   ]
  },
  {
   "cell_type": "code",
   "execution_count": 260,
   "metadata": {
    "colab": {
     "base_uri": "https://localhost:8080/",
     "height": 393
    },
    "id": "N9XRayqT5Qeh",
    "outputId": "0dd74322-6973-48e3-d99d-ee9599411462"
   },
   "outputs": [
    {
     "data": {
      "text/plain": [
       "<matplotlib.image.AxesImage at 0x7fe267b81650>"
      ]
     },
     "execution_count": 260,
     "metadata": {},
     "output_type": "execute_result"
    },
    {
     "data": {
      "image/png": "[encoded data removed]",
      "text/plain": [
       "<Figure size 1440x504 with 3 Axes>"
      ]
     },
     "metadata": {
      "needs_background": "light"
     },
     "output_type": "display_data"
    }
   ],
   "source": [
    "image_index = 26\n",
    "plt.figure(figsize=(20, 7))\n",
    "plt.subplot(132)\n",
    "plt.imshow(row_to_image(y_pred[image_index]))\n",
    "plt.subplot(133)\n",
    "plt.imshow(y_test[image_index])\n",
    "plt.subplot(131)\n",
    "plt.imshow(x_test_gray[image_index])"
   ]
  },
  {
   "cell_type": "code",
   "execution_count": 187,
   "metadata": {
    "id": "KFm6jg7V5Qm-"
   },
   "outputs": [],
   "source": [
    ""
   ]
  },
  {
   "cell_type": "code",
   "execution_count": 187,
   "metadata": {
    "id": "9uqEt1W17eLj"
   },
   "outputs": [],
   "source": [
    ""
   ]
  },
  {
   "cell_type": "code",
   "execution_count": null,
   "metadata": {
    "id": "PguQ5W6gVHPj"
   },
   "outputs": [],
   "source": [
    ""
   ]
  }
 ],
 "metadata": {
  "accelerator": "GPU",
  "colab": {
   "collapsed_sections": [],
   "name": "Untitled0.ipynb",
   "provenance": []
  },
  "kernelspec": {
   "display_name": "Python 3",
   "name": "python3"
  },
  "language_info": {
   "name": "python"
  }
 },
 "nbformat": 4,
 "nbformat_minor": 0
}
